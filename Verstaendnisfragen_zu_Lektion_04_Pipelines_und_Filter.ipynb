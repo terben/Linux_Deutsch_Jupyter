{
 "cells": [
  {
   "cell_type": "markdown",
   "metadata": {},
   "source": [
    "# Verständnisfragen zu Lektion 04_Pipelines_und_Filter"
   ]
  },
  {
   "cell_type": "markdown",
   "metadata": {},
   "source": [
    "## 1. Verständnisfrage"
   ]
  },
  {
   "cell_type": "markdown",
   "metadata": {},
   "source": [
    "Oliver muss Tutorien für die Veranstaltung `EDV für Physikerinnen und Physiker` organisieren. Er hat eine Datei `namen.txt` mit dem Inhalt:\n",
    "\n",
    "```\n",
    "Annika\n",
    "Oliver\n",
    "Florian\n",
    "David\n",
    "Andreas\n",
    "Laila\n",
    "Simon\n",
    "```\n",
    "Oliver befinde sich im Verzeichnis mit der Datei `namen.txt`. Was machen die folgenden Befehle?\n",
    "\n",
    "1. `cat namen.txt > sort`\n",
    "2. `cat namen.txt | sort`\n",
    "3. `cat namen.txt | head -n 5 | tail -n 3 | sort > drei_Tutoren.txt`"
   ]
  },
  {
   "cell_type": "markdown",
   "metadata": {},
   "source": [
    "## 2. Verständnisfrage"
   ]
  },
  {
   "cell_type": "markdown",
   "metadata": {},
   "source": [
    "Oliver hat ein Verzeichnis `Daten` mit 100 Textdateien (Endung `.txt`). Es befinden sich *nur* diese Dateien in dem Ordner. Mit welchem der folgenden Befehle kann er (innerhalb des Verzeichnisses `Daten`) die fünf Dateien mit den wenigsten Zeilen finden? Was machen die Befehle, die dies *nicht* leisten."
   ]
  },
  {
   "cell_type": "markdown",
   "metadata": {},
   "source": [
    "1. `wc * | sort -g | head -n 5`\n",
    "2. `wc *.txt | sort -g | tail -n 5`\n",
    "3. `wc *.txt | head -n 5 | sort -g`\n",
    "4. Die Befehlssequenz\n",
    "```bash\n",
    "> wc -l * > laengen.txt\n",
    "> sort -n laengen.txt > laengen_sort.txt\n",
    "> head -n 5 laengen_sort.txt`\n",
    "```\n",
    "5. `wc *.txt | sort -gr | tail -n 5`"
   ]
  },
  {
   "cell_type": "markdown",
   "metadata": {},
   "source": [
    "## 3. Verständnisfrage"
   ]
  },
  {
   "cell_type": "markdown",
   "metadata": {},
   "source": [
    "Im Text der Lektion haben wir eine Befehlssequenz erarbeitet, womit Annika für ihr Seminar den Planeten mit den meisten Monden identifiziert hat - siehe [hier](04_Shell_Pipelines_und_Filter.ipynb#Planeten_Pipeline). Als Pipeline ist die Befehlssequenz:\n",
    "```bash\n",
    "wc *.dat | sort -g | tail -n 2\n",
    "```\n",
    "Die gesuchte Zeile ist die erste der zwei ausgegebenen. Erweitern Sie diese Pipeline, um *nur* die gesuchte Zeile zu erhalten. Gesucht ist also eine Modifikation der Pipeline, um *nur die vorletzte Zeile* der Ausgabe von `wc *dat | sort -n` zu erhalten."
   ]
  },
  {
   "cell_type": "markdown",
   "metadata": {},
   "source": [
    "## 4. Verständnisfrage"
   ]
  },
  {
   "cell_type": "code",
   "execution_count": null,
   "metadata": {},
   "outputs": [],
   "source": [
    "cd                    # Gehe in Annikas Heimatverzeichnis\n",
    "du -b --max-depth=1 . # zeige Speicherplatzverbrauch aller Verzeichnisse\n",
    "                      # innerhalb des gegenwärtigen Verzeichnisses"
   ]
  },
  {
   "cell_type": "markdown",
   "metadata": {},
   "source": [
    "Der Befehl `du -b --max-depth=1 .` zeigt den Speicherplatzverbrauch aller Verzeichnisse innerhalb des gegenwärtigen Verzeichnisses. Erweitern Sie den Befehl mit einer Pipeline, um die drei Verzeichnisse mit dem höchsten Speicherbedarf anzuzeigen."
   ]
  },
  {
   "cell_type": "markdown",
   "metadata": {},
   "source": [
    "## 5. Verständnisfrage"
   ]
  },
  {
   "cell_type": "markdown",
   "metadata": {},
   "source": [
    "Innerhalb des Verzeichnisses `~/Bachelor_Arbeit/Beobachtungen/processed` befinden sich die Datensätze, die Annika für Ihre Bachelor-Arbeit benötigt. Annika weiss, dass alle Dateien insgesamt 100 Zeilen an Daten enthalten sollten."
   ]
  },
  {
   "cell_type": "code",
   "execution_count": null,
   "metadata": {},
   "outputs": [],
   "source": [
    "cd ~/Bachelor_Arbeit/Beobachtungen/processed\n",
    "wc -l 716306p.txt"
   ]
  },
  {
   "cell_type": "markdown",
   "metadata": {},
   "source": [
    "Überprüfen Sie, ob *alle* Dateien 100 Zeilen enthalten. Erstellen Sie gegebenenfalls eine Liste  mit den Dateien, die dies *nicht* erfüllen."
   ]
  }
 ],
 "metadata": {
  "kernelspec": {
   "display_name": "Calysto Bash",
   "language": "bash",
   "name": "calysto_bash"
  },
  "language_info": {
   "file_extension": ".sh",
   "help_links": [
    {
     "text": "MetaKernel Magics",
     "url": "https://metakernel.readthedocs.io/en/latest/source/README.html"
    }
   ],
   "mimetype": "text/x-sh",
   "name": "bash",
   "version": "0.2.1"
  }
 },
 "nbformat": 4,
 "nbformat_minor": 2
}
