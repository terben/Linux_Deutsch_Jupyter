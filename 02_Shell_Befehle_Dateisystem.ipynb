{
 "cells": [
  {
   "cell_type": "markdown",
   "metadata": {},
   "source": [
    "# `Unix`-Befehle und das `Unix`-Dateisystem"
   ]
  },
  {
   "cell_type": "markdown",
   "metadata": {},
   "source": [
    "## Was behandeln wir in diesem Notebook / Lernziele"
   ]
  },
  {
   "cell_type": "markdown",
   "metadata": {},
   "source": [
    "<div class=\"alert alert-success\">\n",
    "<ul>\n",
    "    <li> Wie sind <code>Unix-Befehle</code> aufgebaut.</li>\n",
    "    <li> Was sind Dateien und Verzeichnisse.</li>\n",
    "    <li> Was ist mein <code>Heimatverzeichnis</code>.</li>\n",
    "    <li> Was ist der <code>Unix-Verzeichnisbaum</code>. </li>\n",
    "    <li> Was sind <i>absolute</i> und <i>relative</i> Pfade. </li> \n",
    "    <li> Was ist die <code>tab-completion</code> und wie setze ich sie effektiv ein. </li>        \n",
    "</ul>\n",
    "</div>"
   ]
  },
  {
   "cell_type": "markdown",
   "metadata": {},
   "source": [
    "## Der `Unix`-Verzeichnisbaum\n",
    "Derjenige Teil eines Betriebssystems, der für die Verwaltung von Dateien und Verzeichnissen verantwortlich ist, heißt *Dateisystem*. Es organisiert unsere Daten in *Dateien*, welche Informationen enthalten. Dateien befinden sich in *Verzeichnissen* (oder Ordnern), welche Dateien und/oder weitere Ordner enthalten."
   ]
  },
  {
   "cell_type": "markdown",
   "metadata": {},
   "source": [
    "<div class=\"alert alert-info\">\n",
    "    <b> Shell und Verzeichnis</b>\n",
    "    \n",
    "Wenn Sie innerhalb einer Shell arbeiten, so befinden Sie sich <b>immer</b> in einem Verzeichnis. Wenn Sie eine neue Shell öffnen, ist dies ihr so-genanntes <i>Heimatverzeichnis</i> (oder Englisch <i>home-directory</i>), in dem Sie nach Belieben Dateien und Verzeichnisse anlegen, löschen und verwalten können.    \n",
    "</div>"
   ]
  },
  {
   "cell_type": "markdown",
   "metadata": {},
   "source": [
    "Fangen wir damit an, wie Sie herausfinden können, in welchem Verzeichnis Sie sich gerade befinden. Hierzu dient das Kommando `pwd` (present working directory). `Unix`-Befehle lesen, schreiben oder modifizieren Dateien im gegenwärtigen Verzeichnis. Sie sollten sich also vor der Ausführung wichtiger Kommandos immer sicher sein, *wo* Sie sich gerade befinden. Im Zweifel benutzen Sie hierzu `pwd`."
   ]
  },
  {
   "cell_type": "code",
   "execution_count": null,
   "metadata": {},
   "outputs": [],
   "source": [
    "pwd   # zeige gegenwärtiges Verzeichnis"
   ]
  },
  {
   "cell_type": "markdown",
   "metadata": {},
   "source": [
    "Es wird etwas wie `/home/annika` ausgegeben, was für das *Heimatverzeichnis* des Benutzers `annika` steht."
   ]
  },
  {
   "cell_type": "markdown",
   "metadata": {},
   "source": [
    "Um zu verstehen, was ein Heimatverzeichnis ist, schauen wir uns an, wie das `Unix`-Dateisystem generell aufgebaut ist. Wir betrachten hierzu einen Teil des Dateisystems auf dem Rechner der Benutzerin Annika. Danach schauen wir uns einige Kommandos an, damit Sie das aktuelle Dateisystem auf Ihrem eigenen Rechner erkunden können.\n",
    "\n",
    "Annikas Dateisystem habe eine Struktur wie in folgender Figur:"
   ]
  },
  {
   "cell_type": "markdown",
   "metadata": {},
   "source": [
    "<img src=\"figuren/Shell_Befehle_Dateisystem_fig1.png\" style=\"height: 300px;\">"
   ]
  },
  {
   "cell_type": "markdown",
   "metadata": {},
   "source": [
    "Die *Wurzel* eines `Unix`-Dateisystems ist das so-genannte *Root*-Verzeichnis (oder Wurzelverzeichnis). Es wird duch einen Slash `/` gekennzeichnet. Der *führende* Slash in `/home/annika` steht für dieses Root-Verzeichnis.\n",
    "\n",
    "Innerhalb des Root-Verzeichnisses befinden sich andere Verzeichnisse, wie z.B. `bin` (es enthält ausführbare Programme wie `ls`), `dev` (kurz für: *devices*), `home` (hierunter sind die Heimatverzeichnisse aller Benutzer des Rechners) usw.\n",
    "\n",
    "Die Interpretation von `/home/annika` ist die folgende: Unser gegenwärtiges Verzeichnis `/home/annika` befindet sich innerhalb des Ordners `home`. Ähnlich befindet sich `home` innerhalb des Root-Verzechnisses `/`. Man sagt auch, dass `home` ein *Unterverzeichnis* des Root-Verzeichnisses und `annika` ein Unterverzeichnis von `home` ist.\n",
    "\n",
    "Jeder Nutzer auf einer `Unix`-Maschine besitzt ein eigenes Unterverzeichnis unter `home`. Auf Annikas Maschine haben außer ihr selber noch ihre Kollegen Oliver und Thomas einen Benutzeraccount und demtentsprechend ein Heimatverzeichnis - siehe die folgende Figur:"
   ]
  },
  {
   "cell_type": "markdown",
   "metadata": {},
   "source": [
    "<img src=\"figuren/Shell_Befehle_Dateisystem_fig2.png\" style=\"height: 300px;\">"
   ]
  },
  {
   "cell_type": "markdown",
   "metadata": {},
   "source": [
    "Da wir dieses Tutorial aus Annikas Perspektive betrachten, bekommen wir `/home/annika` als *unser* Heimatverzeichnis. Jedes Mal, wenn Sie eine neue Shell starten (wie immer dies auch geschieht), sind Sie zu Anfang in Ihrem Heimatverzeichnis."
   ]
  },
  {
   "cell_type": "markdown",
   "metadata": {},
   "source": [
    "<div class=\"alert alert-info\">\n",
    "    <b> Pfade, Slashes und Verzeichnisbaum </b>\n",
    "    \n",
    "Man bezeichniet <code>/home/annika</code> und generell einen Satz aus Slashes <code>(/)</code> und Verzeichnisnamen, die zu einem Verzeichnis (oder einer Datei) führen, als <code><b>Pfad</b></code> zu dem entsprechenden Verziehnis (oder der entsprechenden Datei).\n",
    "\n",
    "Beachten Sie, dass der Slash <code>/</code> in einem Pfad wie <code>/home/annika</code> <b>zwei</b> verschiedene Bedeutungen hat. Der erste Slash steht für das Wurzelverzeichnis und die anderen jeweils als Trennzeichen zwischen Verzeichnissen.\n",
    "\n",
    "Das Gebilde aus Wurzelverzeichnis und den darunterliegenden Ordnern ist ein astartiges, sich weit verzweigendes Gebilde. Daher rührt der Name <code>Verzeichnisbaum</code>.\n",
    "</div>"
   ]
  },
  {
   "cell_type": "markdown",
   "metadata": {},
   "source": [
    "<div class=\"alert alert-info\">\n",
    "    <b> Verzeichnisbaum auf Microsoft Windows Rechnern</b>\n",
    "    \n",
    "Beachten Sie, dass es das Konzept vobn Dateien, Verzeichnissen und Verzeihnisbäumen so auch unter allen anderen Betriebssystemen, wie z.B. <code>Microsoft Windows</code> realisiert ist. Die Details werden dort allerdings durch das GUI von den Benutzern <i>ferngehalten</i> und viele komme nie direkt damitm in Berührung.\n",
    "\n",
    "Unter <code>Microsoft Windows</code> finden Sie Ihr Heimatverzeichnis üblicherweise in einem Pfad wie\n",
    "<code>C:\\Users\\annika</code>. <code>Microsoft Windows</code> benutzt als Trenner zwischen Verzeichnissen eines Pfades den <i>Backslash</i> <code>(\\\\)</code> anstatt den Slash <code>(/)</code> wie unter <code>Unix</code>. Desweiteren ist das Dateisystem unter <code>Microsoft Windows</code> mit <i>mehreren</i> Verzeichnisbäumen anstatt mit einem einzigen realisiert. Diese Bäume werden durch Grossbuchstaben ab dem Buchstabem <code>C</code> bezeichnet. Einzelne Festplatten, das CD-Laufwerk, angeschlossene USB-Laufwerke und anderes haben jeweils einen eigenen Baum. Unter <code>Unix</code> wird alles unter dem Wurzelverzeichnis <code>/</code> eingebunden.\n",
    "</div>"
   ]
  },
  {
   "cell_type": "markdown",
   "metadata": {},
   "source": [
    "Schauen wir uns jetzt an, wie wir uns den Inhalt einer Verzeichnisses anzeigen lassen können. Hierzu dient das Kommando `ls` (listing)."
   ]
  },
  {
   "cell_type": "code",
   "execution_count": null,
   "metadata": {},
   "outputs": [],
   "source": [
    "ls    # zeige Inhalt des gegenwärtigen Verzeichnisses"
   ]
  },
  {
   "cell_type": "code",
   "execution_count": null,
   "metadata": {},
   "outputs": [],
   "source": [
    "ls -F"
   ]
  },
  {
   "cell_type": "markdown",
   "metadata": {},
   "source": [
    "<img src=\"figuren/Shell_Befehle_Dateisystem_fig3.png\" style=\"height: 300px;\">"
   ]
  },
  {
   "cell_type": "code",
   "execution_count": null,
   "metadata": {},
   "outputs": [],
   "source": []
  }
 ],
 "metadata": {
  "kernelspec": {
   "display_name": "Calysto Bash",
   "language": "bash",
   "name": "calysto_bash"
  },
  "language_info": {
   "file_extension": ".sh",
   "help_links": [
    {
     "text": "MetaKernel Magics",
     "url": "https://metakernel.readthedocs.io/en/latest/source/README.html"
    }
   ],
   "mimetype": "text/x-sh",
   "name": "bash",
   "version": "0.2.1"
  }
 },
 "nbformat": 4,
 "nbformat_minor": 2
}
