{
 "cells": [
  {
   "cell_type": "markdown",
   "metadata": {},
   "source": [
    "# `Unix`-Befehle und das `Unix`-Dateisystem"
   ]
  },
  {
   "cell_type": "markdown",
   "metadata": {},
   "source": [
    "## Was behandeln wir in diesem Notebook / Lernziele"
   ]
  },
  {
   "cell_type": "markdown",
   "metadata": {},
   "source": [
    "<div class=\"alert alert-success\">\n",
    "<ul>\n",
    "    <li> Wie sind <code>Unix-Befehle</code> aufgebaut.</li>\n",
    "    <li> Was sind Dateien und Verzeichnisse.</li>\n",
    "    <li> Was ist mein <code>Heimatverzeichnis</code>.</li>\n",
    "    <li> Was ist der <code>Unix-Verzeichnisbaum</code>. </li>\n",
    "    <li> Was sind <i>absolute</i> und <i>relative</i> Pfade. </li> \n",
    "    <li> Was ist die <code>tab-completion</code> und wie setze ich sie effektiv ein. </li>        \n",
    "</ul>\n",
    "</div>"
   ]
  },
  {
   "cell_type": "markdown",
   "metadata": {},
   "source": [
    "## Der `Unix`-Verzeichnisbaum\n",
    "Derjenige Teil eines Betriebssystems, der für die Verwaltung von Dateien und Verzeichnissen verantwortlich ist, heißt *Dateisystem*. Es organisiert unsere Daten in *Dateien*, welche Informationen enthalten. Dateien befinden sich in *Verzeichnissen* (oder Ordnern), welche Dateien und/oder weitere Ordner enthalten."
   ]
  },
  {
   "cell_type": "markdown",
   "metadata": {},
   "source": [
    "<div class=\"alert alert-info\">\n",
    "    <b> Shell und Verzeichnis</b>\n",
    "    \n",
    "Wenn Sie innerhalb einer Shell arbeiten, so befinden Sie sich <b>immer</b> in einem Verzeichnis. Wenn Sie eine neue Shell öffnen, ist dies ihr so-genanntes <i>Heimatverzeichnis</i> (oder Englisch <i>home-directory</i>), in dem Sie nach Belieben Dateien und Verzeichnisse anlegen, löschen und verwalten können.    \n",
    "</div>"
   ]
  },
  {
   "cell_type": "markdown",
   "metadata": {},
   "source": [
    "Fangen wir damit an, wie Sie herausfinden können, in welchem Verzeichnis Sie sich gerade befinden. Hierzu dient das Kommando `pwd` (present working directory). `Unix`-Befehle lesen, schreiben oder modifizieren Dateien im gegenwärtigen Verzeichnis. Sie sollten sich also vor der Ausführung wichtiger Kommandos immer sicher sein, *wo* Sie sich gerade befinden. Im Zweifel benutzen Sie hierzu `pwd`."
   ]
  },
  {
   "cell_type": "code",
   "execution_count": null,
   "metadata": {},
   "outputs": [],
   "source": [
    "pwd   # zeige gegenwärtiges Verzeichnis"
   ]
  },
  {
   "cell_type": "markdown",
   "metadata": {},
   "source": [
    "Die Ausgabe `/home/annika` steht für das *Heimatverzeichnis* des Benutzers `annika`."
   ]
  },
  {
   "cell_type": "markdown",
   "metadata": {},
   "source": [
    "Um zu verstehen, was ein Heimatverzeichnis ist, schauen wir uns an, wie das `Unix`-Dateisystem generell aufgebaut ist. Wir betrachten hierzu einen Teil des Dateisystems auf dem Rechner der Benutzerin Annika. Danach schauen wir uns einige Kommandos an, damit Sie das aktuelle Dateisystem auf Ihrem eigenen Rechner erkunden können.\n",
    "\n",
    "Das Dateisystem auf Annikas Rechner habe eine Struktur wie in folgender Figur:"
   ]
  },
  {
   "cell_type": "markdown",
   "metadata": {},
   "source": [
    "<img src=\"figuren/Shell_Befehle_Dateisystem_fig1.png\" style=\"height: 300px;\">"
   ]
  },
  {
   "cell_type": "markdown",
   "metadata": {},
   "source": [
    "Die *Wurzel* eines `Unix`-Dateisystems ist das so-genannte *Root*-Verzeichnis (oder Wurzelverzeichnis). Es wird durch einen Slash `/` gekennzeichnet. Der *führende* Slash in `/home/annika` steht für dieses Root-Verzeichnis.\n",
    "\n",
    "Innerhalb des Root-Verzeichnisses befinden sich andere Verzeichnisse, wie z.B. `bin` (es enthält ausführbare Programme wie `ls`), `dev` (kurz für: *devices*), `home` (hierunter sind die Heimatverzeichnisse aller Benutzer des Rechners) usw.\n",
    "\n",
    "Die Interpretation von `/home/annika` ist die folgende: Unser gegenwärtiges Verzeichnis `/home/annika` befindet sich innerhalb des Ordners `home`. Ähnlich befindet sich `home` innerhalb des Root-Verzechnisses `/`. Man sagt auch, dass `home` ein *Unterverzeichnis* des Root-Verzeichnisses und `annika` ein Unterverzeichnis von `home` ist.\n",
    "\n",
    "Jeder Nutzer auf einer `Unix`-Maschine besitzt ein eigenes Unterverzeichnis unter `home`. Auf Annikas Maschine haben außer ihr selber noch ihre Kollegen Oliver und Thomas einen Benutzeraccount und demtentsprechend ein Heimatverzeichnis - siehe die folgende Figur:"
   ]
  },
  {
   "cell_type": "markdown",
   "metadata": {},
   "source": [
    "<img src=\"figuren/Shell_Befehle_Dateisystem_fig2.png\" style=\"height: 300px;\">"
   ]
  },
  {
   "cell_type": "markdown",
   "metadata": {},
   "source": [
    "Da wir dieses Tutorial aus Annikas Perspektive betrachten, bekommen wir `/home/annika` als *unser* Heimatverzeichnis. Jedes Mal, wenn Sie eine neue Shell starten (wie immer dies auch geschieht), sind Sie zu Anfang in Ihrem Heimatverzeichnis."
   ]
  },
  {
   "cell_type": "markdown",
   "metadata": {},
   "source": [
    "<div class=\"alert alert-info\">\n",
    "    <b> Pfade, Slashes und Verzeichnisbaum </b>\n",
    "    \n",
    "Man bezeichnet <code>/home/annika</code> und generell einen Satz aus Slashes <code>(/)</code> und Verzeichnisnamen, die zu einem Verzeichnis (oder zu einer Datei) führen, als <code><b>Pfad</b></code> zu dem entsprechenden Verzeichnis (oder zu der entsprechenden Datei).\n",
    "\n",
    "Beachten Sie, dass der Slash <code>/</code> in einem Pfad wie <code>/home/annika</code> <b>zwei</b> verschiedene Bedeutungen hat. Der erste Slash steht für das Wurzelverzeichnis und die anderen jeweils als Trennzeichen zwischen Verzeichnissen.\n",
    "\n",
    "Das Gebilde aus Wurzelverzeichnis und den darunterliegenden Ordnern ist ein astartiges, sich weit verzweigendes Gebilde. Daher rührt der Name <code>Verzeichnisbaum</code>.\n",
    "</div>"
   ]
  },
  {
   "cell_type": "markdown",
   "metadata": {},
   "source": [
    "<div class=\"alert alert-info\">\n",
    "    <b> Verzeichnisbaum auf Microsoft Windows Rechnern</b>\n",
    "    \n",
    "Beachten Sie, dass es das Konzept von Dateien, Verzeichnissen und Verzeihnisbäumen so auch unter allen anderen Betriebssystemen, wie z.B. <code>Microsoft Windows</code>, realisiert ist. Die Details werden dort allerdings durch das GUI von den Benutzern <i>ferngehalten</i> und viele komme nie direkt damit in Berührung.\n",
    "\n",
    "Unter <code>Microsoft Windows</code> finden Sie Ihr Heimatverzeichnis üblicherweise unter einem Pfad wie\n",
    "<code>C:\\Users\\annika</code>. <code>Microsoft Windows</code> benutzt als Trennzeichen im einem Pfad den <i>Backslash</i> <code>(\\\\)</code> anstatt den Slash <code>(/)</code> wie unter <code>Unix</code>. Desweiteren ist das Dateisystem unter <code>Microsoft Windows</code> mit <i>mehreren</i> Verzeichnisbäumen anstatt mit einem einzigen realisiert. Diese Bäume werden durch Grossbuchstaben ab dem Buchstabem <code>C</code> bezeichnet. Einzelne Festplatten, das CD-Laufwerk, angeschlossene USB-Laufwerke und anderes haben jeweils einen eigenen Baum. Unter <code>Unix</code> wird alles unter dem Wurzelverzeichnis <code>/</code> eingebunden.\n",
    "</div>"
   ]
  },
  {
   "cell_type": "markdown",
   "metadata": {},
   "source": [
    "Schauen wir uns jetzt an, wie wir uns den Inhalt einer Verzeichnisses anzeigen lassen können. Hierzu dient das Kommando `ls` (listing)."
   ]
  },
  {
   "cell_type": "code",
   "execution_count": null,
   "metadata": {},
   "outputs": [],
   "source": [
    "ls    # zeige Inhalt des gegenwärtigen Verzeichnisses"
   ]
  },
  {
   "cell_type": "markdown",
   "metadata": {},
   "source": [
    "Auf Ihrem eigenen Recher ist das Ergebnis dieses Kommandos natürlich von dem Imhalt ihres gegenwärtigen Verzeichnisses abhängig.\n",
    "\n",
    "`ls` zeigt Namen von Verzeichnissen und Dateien. Um sie zu unterscheiden, können wir `ls` die *Option* `-F` mitgeben."
   ]
  },
  {
   "cell_type": "code",
   "execution_count": null,
   "metadata": {},
   "outputs": [],
   "source": [
    "ls -F"
   ]
  },
  {
   "cell_type": "markdown",
   "metadata": {},
   "source": [
    "Die Option `-F` weist `ls` an, zur Klassifikation von Dateien und Verzeichnissen einen *Marker* an die gezeigten Namen anzuhängen. Hierbei bedeutet:\n",
    "\n",
    "- Ein Slash besagt, dass es sich um ein Verzeichnis handelt.\n",
    "- Ein Asterisk `*` besagt, dass es sich um ein *ausführbares Programm* handelt.\n",
    "- Ein At-Zeichen `@` steht für einen so-genannten *Link*.\n",
    "\n",
    "Auf *auführbare Programme* werden wir an späterer Stelle eingehen. Links werden wir in diesem Tutorial nicht weiter betrachten. Ein neu angelegtes Heimatverzeichnis enthält anfänglich hauptsächlich andere Verzeichnisse. Namen ohne angehängten Marker stehen für *normale Dateien* aller Art.\n",
    "\n",
    "**Hinweis:** Abhängig von Ihrer Installation und Konfiguration können auf Ihrem eigenem Rechner Dateien und Verzeichnisse nach `ls` bereits durch verschiedene Farben klassifiziert sein. Hier brauchen Sie die Option `-F` nicht."
   ]
  },
  {
   "cell_type": "markdown",
   "metadata": {},
   "source": [
    "## Die Anatomie von `Unix`-Befehlen\n",
    "Wir wollen uns an dieser Stelle den allgemeinen Aufbau von `Unix`-Befehlen, und wie man bei Bedarf Hilfe über sie bekommt, explizit ansehen.\n",
    "\n",
    "Betrachten wir dazu die Bestandteile des folgenden Befehl genauer: "
   ]
  },
  {
   "cell_type": "code",
   "execution_count": null,
   "metadata": {},
   "outputs": [],
   "source": [
    "ls -F /"
   ]
  },
  {
   "cell_type": "markdown",
   "metadata": {},
   "source": [
    "Jeder `Ùnix`-Befehl besteht aus einem *Kommando* (hier `ls`) und hat optional einen oder mehrere *Parameter* (hier `-F`), sowie ebenfalls optional ein oder mehrere *Argumente* (hier `/`).\n",
    "\n",
    "- Kommandos erfüllen eine bestimmte Aufgabe. Wie wir gesehen haben, listet `ls` den Inhalt eines Verzeichnisses.\n",
    "- Parameter beeinflussen das Verhalten von Kommandos. Der Parameter `-F` für das Kommando `ls` klassifiziert Verzeichnisse und Dateien. Parameter beginnen entweder mit einem Dash `-`, gefolgt von einem Klein- oder Großbuchstaben oder sie beginnen mit einem Doppeldash `--` gefolgt von einem englischen Wort. Es gibt viele Parameter, die sowohl eine Kurz-, als auch eine Langform haben. So ist `ls --classify` identisch zu `ls -F`. Während man sich die Langformen meist deutlich besser merken kann, sind die Kurzformen deutlich weniger Tipparbeit.\n",
    "- Argumente geben an, auf welche Objekte sich ein Kommando beziehen soll. Im vorleigenden Fall, dem Kommando `ls -F /` wollen wir das Kommando `ls` auf das Wurzelverzeichnis `/` anwenden und uns dessen Inhalt anzeigen lassen. Wir wissen bereits, dass sich `ls` auf das gegenwärtige Verzeichnis bezieht, wenn wir es ohne Argument aufrufen."
   ]
  },
  {
   "cell_type": "markdown",
   "metadata": {},
   "source": [
    "Zusammengefasst gibt uns der Befehl `ls -F /` ein Listing des Wurzelverzeichnisses mit einer Klassifizierung der darin befindlichen Dateien und Verzeichnisse."
   ]
  },
  {
   "cell_type": "markdown",
   "metadata": {},
   "source": [
    "### Hilfe zu `Ùnix`-Kommandos"
   ]
  },
  {
   "cell_type": "markdown",
   "metadata": {},
   "source": [
    "Der Befehl `ls` hat eine *sehr* große Anzahl möglicher Parameter. Um innerhalb einer Shell Hilfe darüber und die generelle Syntax des Kommandos zu bekommen, gibt es im allgemeinen mehrere Möglichkeiten: Die geläufigste davon sind die so-genanntem *manual pages* (oder *man-pages*), welche Sie mit `man ls` aufrufen."
   ]
  },
  {
   "cell_type": "code",
   "execution_count": null,
   "metadata": {},
   "outputs": [],
   "source": [
    "man ls"
   ]
  },
  {
   "cell_type": "markdown",
   "metadata": {},
   "source": [
    "Der Aufbau der man-pages ist für alle `Unix`-Kommandos gleich. Nach der Aufrufsyntax folgt eine kurze Beschreibung, wozu das Kommando dient. Daran schliesst sich eine Auflistung und knappe Erläuterung aller möglichen Parameter an. Für einige Befehle finden sich noch Beispiele. Sehen Sie sich einfach im Laufe dieses Tutorials die man-pages einiger Kommandos an, um ein Gefühl dafür zu bekommen."
   ]
  },
  {
   "cell_type": "markdown",
   "metadata": {},
   "source": [
    "<div class=\"alert alert-info\">\n",
    "    <b> Pager </b>\n",
    "    \n",
    "\n",
    "</div>"
   ]
  },
  {
   "cell_type": "markdown",
   "metadata": {},
   "source": [
    "<div class=\"alert alert-info\">\n",
    "    <b> Hilfe zu <code>Unix</code>-Kommandos über das Web </b>\n",
    "    \n",
    "Natürlich hilft bei allen Problemen mit <code>Unix</code>-Kommandos auch <i>Dr. Google</i> weiter. Viele Anfänger haben mit den man-pages Probleme und betrachten die dortigen Informationen als <i>deutlich zu knapp</i>, um ein gegebenes Problem zu lösen. In der Tat sind die Seiten primär für Benutzer verfasst, die die Grundlagen eines Kommandos bereits kennen und z. B. schnell die Bedeutung eines bestimmten Parameters nachschalgen möchten. <code>Unix</code>-Anfänger wünschen sich oft ausgührlichere Erläuterungen und Erklärungen. Schlagen Sie in diesem Fall einfach im Netz nach und Sie finden schnell Hilfe in jeder Ausführlichkeit. Ein guter Startpunkt für sehr Einsteigerfreundliche Seiten und Dokumentationen ist <a href=\"http://www.ubuntuusers.de\">Ubuntuusers</a>. Als Vergleich zu den man-pages finden Sie die Ubuntuusers-Beschreibung zu <code>ls</code> <a href=\"https://wiki.ubuntuusers.de/ls/\">hier</a>.\n",
    "\n",
    "</div>"
   ]
  },
  {
   "cell_type": "code",
   "execution_count": null,
   "metadata": {},
   "outputs": [],
   "source": []
  }
 ],
 "metadata": {
  "kernelspec": {
   "display_name": "Calysto Bash",
   "language": "bash",
   "name": "calysto_bash"
  },
  "language_info": {
   "file_extension": ".sh",
   "help_links": [
    {
     "text": "MetaKernel Magics",
     "url": "https://metakernel.readthedocs.io/en/latest/source/README.html"
    }
   ],
   "mimetype": "text/x-sh",
   "name": "bash",
   "version": "0.2.1"
  }
 },
 "nbformat": 4,
 "nbformat_minor": 2
}
