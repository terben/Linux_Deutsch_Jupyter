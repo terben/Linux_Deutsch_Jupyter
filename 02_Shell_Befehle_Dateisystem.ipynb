{
 "cells": [
  {
   "cell_type": "markdown",
   "metadata": {},
   "source": [
    "# `Unix`-Befehle und das `Unix`-Dateisystem"
   ]
  },
  {
   "cell_type": "markdown",
   "metadata": {},
   "source": [
    "## Was behandeln wir in diesem Notebook / Lernziele"
   ]
  },
  {
   "cell_type": "markdown",
   "metadata": {},
   "source": [
    "<div class=\"alert alert-success\">\n",
    "<ul>\n",
    "    <li> Wie sind <code>Unix-Befehle</code> aufgebaut.</li>\n",
    "    <li> Was sind Dateien und Verzeichnisse.</li>\n",
    "    <li> Was ist mein <code>Heimatverzeichnis</code>.</li>\n",
    "    <li> Was ist der <code>Unix-Verzeichnisbaum</code>. </li>\n",
    "    <li> Was sind <i>absolute</i> und <i>relative</i> Pfade. </li> \n",
    "    <li> Was ist die <code>tab-completion</code> und wie setze ich sie effektiv ein. </li>        \n",
    "</ul>\n",
    "</div>"
   ]
  },
  {
   "cell_type": "markdown",
   "metadata": {},
   "source": [
    "## Der `Unix`-Verzeichnisbaum\n",
    "Derjenige Teil eines Betriebssystems, der für die Verwaltung von Dateien und Verzeichnissen verantwortlich ist, heißt *Dateisystem*. Es organisiert unsere Daten in *Dateien*, welche Informationen enthalten. Dateien befinden sich in *Verzeichnissen* (oder Ordnern), welche Dateien und/oder weitere Ordner enthalten."
   ]
  },
  {
   "cell_type": "markdown",
   "metadata": {},
   "source": [
    "<div class=\"alert alert-info\">\n",
    "    <b> Shell und Verzeichnis</b>\n",
    "    \n",
    "Wenn Sie innerhalb einer Shell arbeiten, so befinden Sie sich <b>immer</b> in einem Verzeichnis. Wenn Sie eine neue Shell öffnen, ist dies ihr so-genanntes <i>Heimatverzeichnis</i> (oder Englisch <i>home-directory</i>), in dem Sie nach Belieben Dateien und Verzeichnisse anlegen, löschen und verwalten können.    \n",
    "</div>"
   ]
  },
  {
   "cell_type": "markdown",
   "metadata": {},
   "source": [
    "Fangen wir damit an, wie Sie herausfinden können, in welchem Verzeichnis Sie sich gerade befinden. Hierzu dient das Kommando `pwd` (present working directory). `Unix`-Befehle lesen, schreiben oder modifizieren Dateien im gegenwärtigen Verzeichnis. Sie sollten sich also vor der Ausführung wichtiger Kommandos immer sicher sein, *wo* Sie sich gerade befinden. Im Zweifel benutzen Sie hierzu `pwd`."
   ]
  },
  {
   "cell_type": "code",
   "execution_count": null,
   "metadata": {},
   "outputs": [],
   "source": [
    "pwd   # zeige gegenwärtiges Verzeichnis"
   ]
  },
  {
   "cell_type": "markdown",
   "metadata": {},
   "source": [
    "Die Ausgabe `/home/annika` steht für das *Heimatverzeichnis* des Benutzers `annika`."
   ]
  },
  {
   "cell_type": "markdown",
   "metadata": {},
   "source": [
    "Um zu verstehen, was ein Heimatverzeichnis ist, schauen wir uns an, wie das `Unix`-Dateisystem generell aufgebaut ist. Wir betrachten hierzu einen Teil des Dateisystems auf dem Rechner der Benutzerin Annika. Danach schauen wir uns einige Kommandos an, damit Sie das aktuelle Dateisystem auf Ihrem eigenen Rechner erkunden können.\n",
    "\n",
    "Das Dateisystem auf Annikas Rechner habe eine Struktur wie in folgender Figur:"
   ]
  },
  {
   "cell_type": "markdown",
   "metadata": {},
   "source": [
    "<img src=\"figuren/Shell_Befehle_Dateisystem_fig1.png\" style=\"height: 300px;\">"
   ]
  },
  {
   "cell_type": "markdown",
   "metadata": {},
   "source": [
    "Die *Wurzel* eines `Unix`-Dateisystems ist das so-genannte *Root*-Verzeichnis (oder Wurzelverzeichnis). Es wird durch einen Slash `/` gekennzeichnet. Der *führende* Slash in `/home/annika` steht für dieses Root-Verzeichnis.\n",
    "\n",
    "Innerhalb des Root-Verzeichnisses befinden sich andere Verzeichnisse, wie z.B. `bin` (es enthält ausführbare Programme wie `ls`), `dev` (kurz für: *devices*), `home` (hierunter sind die Heimatverzeichnisse aller Benutzer des Rechners) usw.\n",
    "\n",
    "Die Interpretation von `/home/annika` ist die folgende: Unser gegenwärtiges Verzeichnis `/home/annika` befindet sich innerhalb des Ordners `home`. Ähnlich befindet sich `home` innerhalb des Root-Verzechnisses `/`. Man sagt auch, dass `home` ein *Unterverzeichnis* (oder auch *Kindverzeichnis*) des Root-Verzeichnisses und `annika` ein Unterverzeichnis von `home` ist.\n",
    "\n",
    "Jeder Nutzer auf einer `Unix`-Maschine besitzt ein eigenes Unterverzeichnis unter `home`. Auf Annikas Maschine haben außer ihr selber noch ihre Kollegen Oliver und Thomas einen Benutzeraccount und demtentsprechend ein Heimatverzeichnis - siehe die folgende Figur:"
   ]
  },
  {
   "cell_type": "markdown",
   "metadata": {},
   "source": [
    "<img src=\"figuren/Shell_Befehle_Dateisystem_fig2.png\" style=\"height: 300px;\">"
   ]
  },
  {
   "cell_type": "markdown",
   "metadata": {},
   "source": [
    "Da wir dieses Tutorial aus Annikas Perspektive betrachten, bekommen wir `/home/annika` als *unser* Heimatverzeichnis. Jedes Mal, wenn Sie eine neue Shell starten (wie immer dies auch geschieht), sind Sie zu Anfang in Ihrem Heimatverzeichnis."
   ]
  },
  {
   "cell_type": "markdown",
   "metadata": {},
   "source": [
    "<div class=\"alert alert-info\">\n",
    "    <b> Pfade, Slashes und Verzeichnisbaum </b>\n",
    "    \n",
    "Man bezeichnet <code>/home/annika</code> und generell einen Satz aus Slashes <code>(/)</code> und Verzeichnisnamen, die zu einem Verzeichnis (oder zu einer Datei) führen, als <code><b>Pfad</b></code> zu dem entsprechenden Verzeichnis (oder zu der entsprechenden Datei).\n",
    "\n",
    "Beachten Sie, dass der Slash <code>/</code> in einem Pfad wie <code>/home/annika</code> <b>zwei</b> verschiedene Bedeutungen hat. Der erste Slash steht für das Wurzelverzeichnis und die anderen jeweils als Trennzeichen zwischen Verzeichnissen.\n",
    "\n",
    "Das Gebilde aus Wurzelverzeichnis und den darunterliegenden Ordnern ist ein astartiges, sich weit verzweigendes Gebilde. Daher rührt der Name <code>Verzeichnisbaum</code>.\n",
    "</div>"
   ]
  },
  {
   "cell_type": "markdown",
   "metadata": {},
   "source": [
    "<div class=\"alert alert-info\">\n",
    "    <b> Verzeichnisbaum auf Microsoft Windows Rechnern</b>\n",
    "    \n",
    "Beachten Sie, dass es das Konzept von Dateien, Verzeichnissen und Verzeichnisbäumen so auch unter allen anderen Betriebssystemen, wie z.B. <code>Microsoft Windows</code>, realisiert ist. Die Details werden dort allerdings durch das GUI von den Benutzern <i>ferngehalten</i> und viele Anwender kommen nie direkt damit in Berührung.\n",
    "\n",
    "Unter <code>Microsoft Windows</code> finden Sie Ihr Heimatverzeichnis üblicherweise unter einem Pfad wie\n",
    "<code>C:\\Users\\annika</code>. <code>Microsoft Windows</code> benutzt als Trennzeichen im einem Pfad den <i>Backslash</i> <code>(\\\\)</code> anstatt den Slash <code>(/)</code> wie unter <code>Unix</code>. Desweiteren ist das Dateisystem unter <code>Microsoft Windows</code> mit <i>mehreren</i> Verzeichnisbäumen anstatt mit einem einzigen realisiert. Diese Bäume werden durch Grossbuchstaben ab dem Buchstabem <code>C</code> bezeichnet. Einzelne Festplatten, das CD-Laufwerk, angeschlossene USB-Laufwerke und anderes haben jeweils einen eigenen Baum. Unter <code>Unix</code> wird alles unter dem Wurzelverzeichnis <code>/</code> eingebunden.\n",
    "</div>"
   ]
  },
  {
   "cell_type": "markdown",
   "metadata": {},
   "source": [
    "Schauen wir uns jetzt an, wie wir uns den Inhalt eines Verzeichnisses anzeigen lassen können. Hierzu dient das Kommando `ls` (listing)."
   ]
  },
  {
   "cell_type": "code",
   "execution_count": null,
   "metadata": {},
   "outputs": [],
   "source": [
    "ls    # zeige Inhalt des gegenwärtigen Verzeichnisses"
   ]
  },
  {
   "cell_type": "markdown",
   "metadata": {},
   "source": [
    "Auf Ihrem eigenen Recher ist das Ergebnis dieses Kommandos natürlich von dem Imhalt ihres gegenwärtigen Verzeichnisses abhängig.\n",
    "\n",
    "`ls` zeigt Namen von Verzeichnissen und Dateien. Um sie zu unterscheiden, können wir `ls` die *Option* `-F` mitgeben."
   ]
  },
  {
   "cell_type": "code",
   "execution_count": null,
   "metadata": {},
   "outputs": [],
   "source": [
    "ls -F"
   ]
  },
  {
   "cell_type": "markdown",
   "metadata": {},
   "source": [
    "Die Option `-F` weist `ls` an, zur Klassifikation von Dateien und Verzeichnissen einen *Marker* an die gezeigten Namen anzuhängen. Hierbei bedeutet:\n",
    "\n",
    "- Ein Slash besagt, dass es sich um ein Verzeichnis handelt.\n",
    "- Ein Asterisk `*` besagt, dass es sich um ein *ausführbares Programm* handelt.\n",
    "- Ein At-Zeichen `@` steht für einen so-genannten *Link*.\n",
    "\n",
    "Auf *auführbare Programme* werden wir an späterer Stelle eingehen. Links werden wir in diesem Tutorial nicht weiter betrachten. Ein neu angelegtes Heimatverzeichnis enthält anfänglich hauptsächlich andere Verzeichnisse. Namen ohne angehängten Marker stehen für *normale Dateien* aller Art.\n",
    "\n",
    "**Hinweis:** Abhängig von Ihrer Installation und Konfiguration können auf Ihrem eigenem Rechner Dateien und Verzeichnisse nach `ls` bereits durch verschiedene Farben klassifiziert sein. Hier brauchen Sie die Option `-F` nicht."
   ]
  },
  {
   "cell_type": "markdown",
   "metadata": {},
   "source": [
    "## Die Anatomie von `Unix`-Befehlen\n",
    "Wir wollen uns an dieser Stelle den allgemeinen Aufbau von `Unix`-Befehlen, und wie man bei Bedarf Hilfe über sie bekommt, explizit ansehen.\n",
    "\n",
    "Betrachten wir dazu die Bestandteile des folgenden Befehl genauer: "
   ]
  },
  {
   "cell_type": "code",
   "execution_count": null,
   "metadata": {},
   "outputs": [],
   "source": [
    "ls -F /"
   ]
  },
  {
   "cell_type": "markdown",
   "metadata": {},
   "source": [
    "Jeder `Ùnix`-Befehl besteht aus einem *Kommando* (hier `ls`) und hat optional einen oder mehrere *Parameter* (hier `-F`), sowie ebenfalls optional ein oder mehrere *Argumente* (hier `/`).\n",
    "\n",
    "- Kommandos erfüllen eine bestimmte Aufgabe. Wie wir gesehen haben, listet `ls` den Inhalt eines Verzeichnisses.\n",
    "- Parameter beeinflussen das Verhalten von Kommandos. Der Parameter `-F` für das Kommando `ls` klassifiziert Verzeichnisse und Dateien. Parameter beginnen entweder mit einem Dash `-`, gefolgt von einem Klein- oder Großbuchstaben oder sie beginnen mit einem Doppeldash `--` gefolgt von einem englischen Wort. Es gibt viele Parameter, die sowohl eine Kurz-, als auch eine Langform haben. So ist `ls --classify` identisch zu `ls -F`. Während man sich die Langformen besser merken kann, sind die Kurzformen deutlich weniger Tipparbeit.\n",
    "- Argumente geben an, auf welche Objekte sich ein Kommando beziehen soll. Im vorliegenden Fall, dem Kommando `ls -F /`, wollen wir das Kommando `ls` auf das Wurzelverzeichnis `/` anwenden und uns dessen Inhalt anzeigen lassen. Wir wissen bereits, dass sich `ls` auf das gegenwärtige Verzeichnis bezieht, wenn wir es ohne Argument aufrufen."
   ]
  },
  {
   "cell_type": "markdown",
   "metadata": {},
   "source": [
    "Zusammengefasst gibt uns der Befehl `ls -F /` ein Listing des Wurzelverzeichnisses mit einer Klassifizierung der darin befindlichen Dateien und Verzeichnisse."
   ]
  },
  {
   "cell_type": "markdown",
   "metadata": {},
   "source": [
    "### Hilfe zu `Ùnix`-Kommandos"
   ]
  },
  {
   "cell_type": "markdown",
   "metadata": {},
   "source": [
    "Der Befehl `ls` hat eine *sehr* große Anzahl möglicher Parameter. Um innerhalb einer Shell Hilfe darüber und die generelle Syntax des Kommandos zu bekommen, gibt es im allgemeinen mehrere Möglichkeiten: Die geläufigste davon sind die so-genanntem *manual pages* (oder *man-pages*), welche Sie mit `man ls` aufrufen."
   ]
  },
  {
   "cell_type": "code",
   "execution_count": null,
   "metadata": {},
   "outputs": [],
   "source": [
    "man ls   # zeige die man-pages des Kommandos ls"
   ]
  },
  {
   "cell_type": "markdown",
   "metadata": {},
   "source": [
    "Der Aufbau der man-pages ist für alle `Unix`-Kommandos gleich. Nach der Aufrufsyntax folgt eine kurze Beschreibung, wozu das Kommando dient. Daran schliesst sich eine Auflistung und knappe Erläuterung aller möglichen Parameter an. Für einige Befehle finden sich noch Beispiele. Sehen Sie sich einfach im Laufe dieses Tutorials die man-pages einiger Kommandos an, um ein Gefühl dafür zu bekommen."
   ]
  },
  {
   "cell_type": "markdown",
   "metadata": {},
   "source": [
    "<div class=\"alert alert-info\">\n",
    "    <b> Pager </b>\n",
    "    \n",
    "\n",
    "</div>"
   ]
  },
  {
   "cell_type": "markdown",
   "metadata": {},
   "source": [
    "<div class=\"alert alert-info\">\n",
    "    <b> Hilfe zu <code>Unix</code>-Kommandos über das Web </b>\n",
    "    \n",
    "Natürlich hilft bei allen Problemen mit <code>Unix</code>-Kommandos auch <i>Dr. Google</i> weiter. Viele Anfänger haben mit den man-pages Probleme und betrachten die dortigen Informationen als <i>deutlich zu knapp</i>, um ein gegebenes Problem zu lösen. In der Tat sind die Seiten primär für Benutzer verfasst, die die Grundlagen eines Kommandos bereits kennen und z. B. schnell die Bedeutung eines bestimmten Parameters nachschlagen möchten. <code>Unix</code>-Anfänger wünschen sich oft ausführlichere Erläuterungen und Erklärungen. Schlagen Sie in diesem Fall einfach im Netz nach und Sie finden schnell Hilfe in jeder Ausführlichkeit. Ein guter Startpunkt für sehr einsteigerfreundliche Seiten und Dokumentationen ist <a href=\"http://www.ubuntuusers.de\">Ubuntuusers</a>. Als Vergleich zu den man-pages finden Sie die Ubuntuusers-Beschreibung zu <code>ls</code> <a href=\"https://wiki.ubuntuusers.de/ls/\">hier</a>.\n",
    "\n",
    "</div>"
   ]
  },
  {
   "cell_type": "markdown",
   "metadata": {},
   "source": [
    "Unter den *sehr* vielen Parametern von `ls` sind etliche, die man sehr häufig verwendet. Unbedingt kennen sollte man am Anfang `-l` (long listing; gibt weitere wichtige Informationen zu Dateien/Verzeichnissen) und `-t` (sort according to *modification time*), um schnell die zuletzt modifizierten Dateien zu identifizieren). "
   ]
  },
  {
   "cell_type": "code",
   "execution_count": null,
   "metadata": {},
   "outputs": [],
   "source": [
    "ls -l   # gib Zusatzinfromationen zu jeder Datei"
   ]
  },
  {
   "cell_type": "code",
   "execution_count": null,
   "metadata": {},
   "outputs": [],
   "source": [
    "ls -t   # sortiere das Listing nach Modifikationszeit"
   ]
  },
  {
   "cell_type": "markdown",
   "metadata": {},
   "source": [
    "Man beachte, dass man bei den meisten `Unix`-Kommandos mehrere Einbuchstaben-Parameter unter einem einzigen Dash `-` zusammenfassen kann. Die Befehle der beiden folgenden Zellen liefern identische Ergebnisse."
   ]
  },
  {
   "cell_type": "code",
   "execution_count": null,
   "metadata": {},
   "outputs": [],
   "source": [
    "ls -l -t  # Kombination der Parameter -l und -t"
   ]
  },
  {
   "cell_type": "code",
   "execution_count": null,
   "metadata": {},
   "outputs": [],
   "source": [
    "ls -lt    # Kombination der Parameter -l und -t; identisch zu ls -l -t"
   ]
  },
  {
   "cell_type": "markdown",
   "metadata": {},
   "source": [
    "## Navigation im `Unix`-Verzeichnisbaum"
   ]
  },
  {
   "cell_type": "markdown",
   "metadata": {},
   "source": [
    "Wir wollen das Heimatverzeichnis von Annika weiter erkunden. Wir wissen bereits, dass wir uns den Inhalt eines beliebigen Verzeichnisses mit einem `ls`-Kommando und geeignetem Parameter anzeigen lassen können: "
   ]
  },
  {
   "cell_type": "code",
   "execution_count": null,
   "metadata": {},
   "outputs": [],
   "source": [
    "ls -F  # zeige Inhalt des gegenwärtigen Verzeichnisses"
   ]
  },
  {
   "cell_type": "code",
   "execution_count": null,
   "metadata": {},
   "outputs": [],
   "source": [
    "ls -F Bachelor_Arbeit  # zeige Inhalt des Unterverzeichnisses 'Bachelor_Arbeit'"
   ]
  },
  {
   "cell_type": "markdown",
   "metadata": {},
   "source": [
    "Wir sehen, dass das Unterverzeichnis `Bachelor_Arbeit` ein weiteres Unterverzeichnis `Beobachtungen` enthält. Um uns diese weitere Ebene des Verzeichnisbaums anzuschauen, können wir *zwei Dinge* tun:"
   ]
  },
  {
   "cell_type": "markdown",
   "metadata": {},
   "source": [
    "- Wir können einen neuen Parameter an `ls` übergeben:"
   ]
  },
  {
   "cell_type": "code",
   "execution_count": null,
   "metadata": {},
   "outputs": [],
   "source": [
    "ls Bachelor_Arbeit/Beobachtungen  # zeige den Inahlt des Unter-unterverzeichnisses\n",
    "                                  # 'Bachelor_Arbeit/Beobachtungen'"
   ]
  },
  {
   "cell_type": "markdown",
   "metadata": {},
   "source": [
    "- Wir können unsere Position wechseln, so dass das Heimatverzeichnis *nicht mehr* unser gegenwärtiges Verzeichnis ist. Der Befehl, um ein Verzeichnis zu wechseln ist `cd` (change directory). Um in das `Beobachtungen`-Verzeichnis von oben zu wechseln, können wir beispielsweise folgende Befehlssequenz verwenden:"
   ]
  },
  {
   "cell_type": "code",
   "execution_count": null,
   "metadata": {},
   "outputs": [],
   "source": [
    "cd Bachelor_Arbeit   # wechsle ins Unterverzeichnis 'Bachelor_Arbeit'\n",
    "cd Beobachtungen     # wechsle ins Unterverzeichnis 'Beobachtungen'"
   ]
  },
  {
   "cell_type": "markdown",
   "metadata": {},
   "source": [
    "Der erste `cd`-Befehl bringt uns in das `Bachelor_Arbeit`-Unterverzeichnis und von dort bewegen wir uns weiter in `Beobachtungen`. Wir können das Ergebnis mit `pwd` überprüfen. Beachten Sie auch, dass `ls` (ohne Parameter) jetzt den Inhalt des *neuen gegenwärtigen Verzeichnisses* liefert:"
   ]
  },
  {
   "cell_type": "code",
   "execution_count": null,
   "metadata": {},
   "outputs": [],
   "source": [
    "pwd   # Hier sollten Sie in 'Beobachtungen' sein."
   ]
  },
  {
   "cell_type": "code",
   "execution_count": null,
   "metadata": {},
   "outputs": [],
   "source": [
    "ls -F"
   ]
  },
  {
   "cell_type": "markdown",
   "metadata": {},
   "source": [
    "<div class=\"alert alert-info\">\n",
    "    <b> <code>Unix</code> ist ein <i>ruhiges</i> Betriebssytem</b>\n",
    "    \n",
    "Obige `cd`-Befehle haben zwar unser gegenwärtiges Verzeichnis gewechselt, sie haben aber <i>keine</i> Terminalausgabe erzeugt und unsere Aktion nicht quittiert. Die allermeisten <code>Unix</code>-Befehle erzeugen keine Ausgabe, wenn dies nicht zwingend erforderlich ist wie z.B. bei `ls` oder `pwd`. Wenn ein Befehl keine Ausgabe und keine Fehlerausgabe erzeugt, können Sie davon ausgehen, dass die gewünsche Aktion einfach ausgeführt wurde.\n",
    "</div>"
   ]
  },
  {
   "cell_type": "markdown",
   "metadata": {},
   "source": [
    "Wir haben uns bisher mit `cd` im Verzeichnisbaum *nach unten* in Unterverzeichnisse bewegt - siehe links in folgender Figur. Wir wollen uns nun auch in *übergeordnete Verzeichnisse* (auch als *Elternverzeichnisse* bezeichnet) bewegen - siehe rechts in folgender Figur:"
   ]
  },
  {
   "cell_type": "markdown",
   "metadata": {},
   "source": [
    "<img src=\"figuren/Shell_Befehle_Dateisystem_fig4_und_5.png\" style=\"height: 300px;\">"
   ]
  },
  {
   "cell_type": "markdown",
   "metadata": {},
   "source": [
    "Ein spontaner Versuch, um uns aus `Beobachtungen` wieder nach `Bachelor_Arbeit` zu begeben, wäre:"
   ]
  },
  {
   "cell_type": "code",
   "execution_count": null,
   "metadata": {},
   "outputs": [],
   "source": [
    "pwd   # Hier sollten Sie sich in 'Beobachtungen' befinden."
   ]
  },
  {
   "cell_type": "code",
   "execution_count": null,
   "metadata": {},
   "outputs": [],
   "source": [
    "cd Bachelor_Arbeit"
   ]
  },
  {
   "cell_type": "markdown",
   "metadata": {},
   "source": [
    "Hier bekommen wir eine Fehlermeldung. Wir merken zunächst an, dass uns `ls` momentan nur Unterverzeichnisse aber keine Elternverzeichnisse anzeigt. Des weiteren beobachten wir, dass ein Verzeichnis zwar *beliebig viele* Unterverzeichnisse, aber nur *genau ein* Elternverzeichnis haben kann (Das Wurzelverzeichnis ist hier die einzige Ausnahme, da es *kein* Elternverzeichnis hat). Um sich in das Elternverzeichnis zu begeben, gibt es das *spezielle Verzeichnis* `..`."
   ]
  },
  {
   "cell_type": "code",
   "execution_count": null,
   "metadata": {},
   "outputs": [],
   "source": [
    "pwd\n",
    "cd ..  # Wir bewegen uns im Verzeichnisbaum eine Ebene nach 'oben'\n",
    "pwd"
   ]
  },
  {
   "cell_type": "markdown",
   "metadata": {},
   "source": [
    "`..` existiert in jedem Verzeichnis (außer im Wurzelverzeichnis) und erlaubt es, uns im Verzeichnisbaum eine Ebene nach oben zu bewegen. Das Verzeichnis `..` wird uns standardmäßig von `ls` nicht angezeigt. Um es sichtbar zu machen, können wir den Parameter `-a` (all) verwenden:"
   ]
  },
  {
   "cell_type": "code",
   "execution_count": null,
   "metadata": {},
   "outputs": [],
   "source": [
    "ls -a   # zeige 'alle' Dateien und Verzeichnisse - auch solche, die mit einem '.' beginnen."
   ]
  },
  {
   "cell_type": "markdown",
   "metadata": {},
   "source": [
    "<div class=\"alert alert-info\">\n",
    "    <b> Versteckte Dateien und Verzeichnisse</b>\n",
    "    \n",
    "`ls -a` zeigt uns neben *gewöhnlichen* Dateien und Verzeichnissen auch solche, die mit einem `.` beginnen. Solche Dateien und Verzeichnisse sind unter <code>Unix</code> so-genannte <b>versteckte</b> Dateien/Verzeichnisse. Vor allem in Ihrem Heimatverzeichnis werden sie recht viele dieser Dateien/Verzeichnisse entdecken. Sie dienen primär zur Konfiguration diverser Anwendungen und sollten meist von Benutzern nicht angetastet oder modifiziert werden. Hiervon gibt es einige Ausnahmen. So ist es für reguläre Nutzer durchaus interessant, die Shell an eigene Bedürfnisse anzupassen. Hierauf werden wir aber im Rahmen dieses Tutorials nicht weiter eingehen.\n",
    "</div>"
   ]
  },
  {
   "cell_type": "markdown",
   "metadata": {},
   "source": [
    "Innerhalb des Verzeichnisses `Bachelor_Arbeit` sehen wir neben dem Verzeichnis `..` noch das Verzeichnis `.`. Wie wir gesehen haben, steht `..` für das Elternverzeichnis. `.` ist eine Abkürzung für das gegenwärtige Verzeichnis. Es erscheint Ihnen momentan sicherlich überflüssig, eine Abkürzung für das gegenwärtige Verzeichnis zu haben. Der Sinn wird im nächsten Teil des Tutorials jedoch klar werden."
   ]
  },
  {
   "cell_type": "markdown",
   "metadata": {},
   "source": [
    "## Absolute und relative Pfade"
   ]
  },
  {
   "cell_type": "markdown",
   "metadata": {},
   "source": [
    "Wir haben die drei wesentlichen Kommandos `(pwd, ls und cd)`, mit denen Sie das Dateisystem Ihres Computers erkunden können, kennengelernt. Wir müssen uns aber noch die Möglichkeiten, Pfade zu spezifizieren, etwas genauer ansehen. Schauen wir zuerst, was passiert, wenn wir `cd` *ohne Parameter* aufrufen:"
   ]
  },
  {
   "cell_type": "code",
   "execution_count": null,
   "metadata": {},
   "outputs": [],
   "source": [
    "pwd\n",
    "cd # cd ohne Parameter wecheselt ins Heimatverzeichnis\n",
    "pwd"
   ]
  },
  {
   "cell_type": "markdown",
   "metadata": {},
   "source": [
    "`cd` ohne Parameter wechselt von *jedem beliebigen* Verzeichnis direkt in das Heimatverzeichnis, was oft sehr nützlich ist. Gehen wir nun noch einmal in das `Beobachtungen`-Verzeichnis von oben. Wir haben dies mit der Befehlssequenz `cd Bachelor_Arbeit` und danach `cd Beobachtungen` getan. Wir können dies aber auch mit einem einzigen Befehl erreichen, indem wir den Pfad zu `Beobachtungen` auf einmal spezifizieren: "
   ]
  },
  {
   "cell_type": "code",
   "execution_count": null,
   "metadata": {},
   "outputs": [],
   "source": [
    "cd Bachelor_Arbeit/Beobachtungen   # äquivalent zu der Sequenz cd Bachelor_Arbeit; cd Beobachtungen\n",
    "pwd"
   ]
  },
  {
   "cell_type": "markdown",
   "metadata": {},
   "source": [
    "Bis jetzt waren alle unsere Pfadangaben **relativ**, da sie sich auf das gegenwärtige Verzeichnis bezogen. So führt der Befehl `cd Bachelor_Arbeit/Beobachtungen` *nur* innerhalb des Heimatverzeichnisses zum korrekten Ergebnis. Das Verzeichis `Bachelor_Arbeit/Beobachtungen` existiert so *nur unterhalb, bzw. relativ* zum Heimatverzeichnis von Annika."
   ]
  },
  {
   "cell_type": "code",
   "execution_count": null,
   "metadata": {},
   "outputs": [],
   "source": [
    "cd Bachelor_Arbeit/Beobachtungen\n",
    "    # Dies sollte hier zu einem Fehler führen\n",
    "    # da es innerhalb des gegenwärtigen Verzeicnhisses\n",
    "    # kein Unterverzeichnis Bachelor_Arbeit/Beobachtungen\n",
    "    # gibt."
   ]
  },
  {
   "cell_type": "markdown",
   "metadata": {},
   "source": [
    "Außer der relativen Pfadangebe existiert noch die **absolute**, indem der *gesamte* Pfad, startend vom Wurzelverzeichnis spezifiziert wird. *Absolute Pfadangaben* beginnen immer mit einem Slash `(/)` und sie beziehen sich immer *auf dasselbe Verzeichnis*, egal wo man sich gerade befindet."
   ]
  },
  {
   "cell_type": "code",
   "execution_count": null,
   "metadata": {},
   "outputs": [],
   "source": [
    "cd # gehe zurück ins Heimatverzeichnis\n",
    "pwd"
   ]
  },
  {
   "cell_type": "code",
   "execution_count": null,
   "metadata": {},
   "outputs": [],
   "source": [
    "cd /home/annika/Bachelor_Arbeit/Beobachtungen\n",
    "   # absoluter Pfad zu Bachelor_Arbeit/Beobachtungen\n",
    "   # unterhalb des Heimatverzeichnisses\n",
    "pwd   "
   ]
  },
  {
   "cell_type": "markdown",
   "metadata": {},
   "source": [
    "## Effizientes Arbeiten und möglichst wenig Tipparbeit"
   ]
  },
  {
   "cell_type": "markdown",
   "metadata": {},
   "source": [
    "Ein Hauptanliegen von `Unix` ist es, Kommandos möglichst effektiv und mit möglichst wenig Tipparbeit ausführen zu können. Dieses Ziel ist der Hauptgrund, dass viele Befehle und Zeichenketten für Anfänger sehr kryptisch erscheinen und den Einstieg in die Arbeit mit der Shell erschweren. Wenn Sie länger mit dem System arbeiten, werden Sie dies mit zunehmender Erfahrung jedoch sehr zu schätzen wissen.\n",
    "\n",
    "- Kommandos ohne Parameterangabe verwenden implizit gegebenenfalls den Parameter, den *man am häufigsten* verwenden würde. Dies ist z.B. der Grund, dass `ls` ohne Parameter den Inhalt des *gegenwärtigen Verzeichnisses* zeigt oder `cd` ohne Parameter in das Heimatverzeichnis wechselt.\n",
    "\n",
    "- Für häufig verwendete Parameter gibt es einfach zu tippende *Abkürzungen*. So haben wir bereits das Kürzel `..` gesehen, welches für das Elternverzeichnis steht. Vor allem absolute Pfadangaben beinhalten sehr oft das eigene Heimatverzeichnis, wie z.B. `cd /home/annika/Bachelor_Arbeit/Beobachtungen` von weiter oben. Daher gibt es für das Heimatverzeichnis in absoluten Pfaden das Kürzel Tilde `(~)` und der Pfad von eben wäre äquivalent zu `cd ~/Bachelor_Arbeit/Beobachtungen`."
   ]
  },
  {
   "cell_type": "code",
   "execution_count": null,
   "metadata": {},
   "outputs": [],
   "source": [
    "cd                    # Gehe in das Heimatverzeichnis\n",
    "cd ~/Bachelorarbeit   # äquivalent zu cd /home/annika/Bachelorarbeit"
   ]
  },
  {
   "cell_type": "markdown",
   "metadata": {},
   "source": [
    "- Es gibt sehr viele weitere Möglichkeiten, sich unnötige Tipparbeit zu sparen. Eine sehr wichtige ist die so-genannte `tab`-completion, welche nicht nur in der Shell, sondern auch in sehr vielen anderen `Unix`-Programmen in der ein oder anderen Form vorhanden ist. Gibt man einen Befehl wie `cd Bachelor_Arbeit`, so ist dies einiges an Tipparbeit. Hiervon kann uns die Shell einen guten Teil abnehmen. Wenn wir\n",
    "```bash\n",
    "cd Ba<TAB> \n",
    "```\n",
    "tippen, wobei `<TAB>` die Tabulatortaste ist, so komplettiert die Shell den Befehl automatisch zu `cd Bachelor_Arbeit`. Dies geschieht, da die Zeichenkette `Ba` im vorliegenden Fall bereits eindeutig das Verzeichnis `Bachelor_Arbeit` repräsentiert. Dies ist lediglich die einfachste Form der `tab`-completion und sie soll für den Anfang genügen."
   ]
  },
  {
   "cell_type": "code",
   "execution_count": null,
   "metadata": {},
   "outputs": [],
   "source": [
    "cd  # gehe zurück ins Heimatverzeichnis"
   ]
  },
  {
   "cell_type": "code",
   "execution_count": null,
   "metadata": {},
   "outputs": [],
   "source": [
    "cd Ba    # setzen Sie den Cursor unmittelbar nach das 'a' und drücken Sie <TAB>\n",
    "         # Drücken Sie danach (den Befehl nicht ausführen) erneut die <TAB>-Taste\n",
    "         # und sehen Sie, was passiert."
   ]
  },
  {
   "cell_type": "markdown",
   "metadata": {},
   "source": [
    "Es gibt noch viele andere Möglichkeiten, sich Tipparbeit zu ersparen und die Kommandozeile mit sehr wenigen Tastenanschlägen *sehr* effektiv zu nutzen. Das hier vorgestellte ist für den Anfang aber das allerwichtigste."
   ]
  },
  {
   "cell_type": "markdown",
   "metadata": {},
   "source": [
    "<div class=\"alert alert-success\">\n",
    "<b>Zum Mitnehmen</b>\n",
    "<ul>\n",
    "    <li> Informationen werden in Dateien gespeichert. Dateien selber befinden sich in Verzeichnissen. </li>\n",
    "    <li> Verzeichnisse enthalten Dateien und andere Verzeichnisse und formen so einen Verzeichnisbaum.  </li>\n",
    "    <li> <code>pwd</code> zeigt das gegenwärtige Verzeichnis.</li>\n",
    "    <li> <code>ls pfad</code> zeigt den Inhalt von <code>pfad</code>. <code>ls</code> ohne Pfadangabe listet den Inhalt des gegenwärtigen Verzeichnisses.</li>\n",
    "    <li> <code>cd pfad</code> setzt das gegenwärtige Verzeichnis auf <code>pfad</code>.</li>\n",
    "    <li> Pfade, die mit <code>/</code> beginnen, sind absolute Pfade, alle anderen sind relative Pfade. Relative Pfade beziehen sich auf das gegenwärtige Verzeichnis.</li>\n",
    "    <li> <code>..</code> ist eine Abkürzung für das Elternverzeichnis und <code>~</code> für das Heimatverzeichnis.\n",
    "</ul>\n",
    "</div>"
   ]
  }
 ],
 "metadata": {
  "kernelspec": {
   "display_name": "Calysto Bash",
   "language": "bash",
   "name": "calysto_bash"
  },
  "language_info": {
   "file_extension": ".sh",
   "help_links": [
    {
     "text": "MetaKernel Magics",
     "url": "https://metakernel.readthedocs.io/en/latest/source/README.html"
    }
   ],
   "mimetype": "text/x-sh",
   "name": "bash",
   "version": "0.2.1"
  }
 },
 "nbformat": 4,
 "nbformat_minor": 2
}
