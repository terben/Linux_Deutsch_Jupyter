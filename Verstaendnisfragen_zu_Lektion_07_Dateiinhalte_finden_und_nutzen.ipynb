{
 "cells": [
  {
   "cell_type": "markdown",
   "metadata": {},
   "source": [
    "<!--NAVIGATION-->\n",
    "| [zur Lektion](07_Shell_Dateiinhalte_finden_und_nutzen.ipynb) |"
   ]
  },
  {
   "cell_type": "markdown",
   "metadata": {},
   "source": [
    "# Verständnisfragen zu Lektion 07_Dateiinhalte_finden_und_nutzen"
   ]
  },
  {
   "cell_type": "markdown",
   "metadata": {},
   "source": [
    "## 1. Verständnisfrage"
   ]
  },
  {
   "cell_type": "markdown",
   "metadata": {},
   "source": [
    "Für ihre Seminararbeit hatte Annika einige Beobachtungen von Planeten durchgeführt - siehe [Lektion 4](04_Shell_Pipelines_und_Filter.ipynb#Filter)."
   ]
  },
  {
   "cell_type": "code",
   "execution_count": null,
   "metadata": {},
   "outputs": [],
   "source": [
    "cd ~/Seminar\n",
    "cat Beobachtungen.txt"
   ]
  },
  {
   "cell_type": "markdown",
   "metadata": {},
   "source": [
    "Die Datei `Beobachtungen.txt` enthält in jeder Zeile ein Beobachtungsdatum und den beobachteten Planeten.\n",
    "\n",
    "1. Geben Sie eine Pipeline aus `awk` und `grep` an, die alle Beobachtungsdaten (und *nur* die Beobachtungsdaten) für Planet Merkur zeigt.\n",
    "\n",
    "2. Formulieren Sie eine Aufgabe, deren Lösung die Pipeline\n",
    "```bash\n",
    "grep \"Merkur\" Beobachtungen.txt | wc -l\n",
    "```\n",
    "ist."
   ]
  },
  {
   "cell_type": "markdown",
   "metadata": {},
   "source": [
    "## 2. Verständnisfrage"
   ]
  },
  {
   "cell_type": "markdown",
   "metadata": {},
   "source": [
    "Annika arbeitet weiter an den Beobachtungen ihrer Bachelorarbeit."
   ]
  },
  {
   "cell_type": "markdown",
   "metadata": {},
   "source": [
    "Beschreiben Sie, was sie mit dem folgenden Shell-Skript innerhalb des Verzeichnisses `~/Bachelor_Arbeit/Beobachtungen` tut. Die relevante Datei `Beobachtungs_Logdatei.txt` wurde [in der Lektion](07_Shell_Kommandosubstitution_und_Dateiinhalte_finden.ipynb#Logdatei) beschrieben und behandelt.\n",
    "```\n",
    "# was_mache_ich.sh\n",
    "for FELD in D1 D2\n",
    "do\n",
    "  mkdir ${FELD}\n",
    "  grep \"${FELD}\" Beobachtungs_Logdatei.txt | awk '{print $1}' > ${FELD}.txt\n",
    "  \n",
    "  for ID in $(cat ${FELD}.txt)\n",
    "  do\n",
    "    cp processed/${ID}.txt ${FELD}\n",
    "  done\n",
    "  rm ${FELD}.txt\n",
    "done\n",
    "```"
   ]
  },
  {
   "cell_type": "markdown",
   "metadata": {},
   "source": [
    "## 3. Verständnisfrage"
   ]
  },
  {
   "cell_type": "markdown",
   "metadata": {},
   "source": [
    "Wir beschäftigen uns weiter mit Annikas Datei `~/Bachelor_Arbeit/Beobachtungen/Beobachtungs_Logdatei.txt`. Sie möchte wissen, wie viele Beobachtungen jeweils in den fünf Konfigurationen `u`, `g`, `r`, `i` und `z` vorhanden sind. Schreiben Sie eine `for`-Schleife, weclhe über die fünf Konfigurationen iteriert und diese Aufgabe erledigt."
   ]
  },
  {
   "cell_type": "markdown",
   "metadata": {},
   "source": [
    "<!--NAVIGATION-->\n",
    "| [zur Lektion](07_Shell_Dateiinhalte_finden_und_nutzen.ipynb) |"
   ]
  }
 ],
 "metadata": {
  "kernelspec": {
   "display_name": "Calysto Bash",
   "language": "bash",
   "name": "calysto_bash"
  },
  "language_info": {
   "file_extension": ".sh",
   "help_links": [
    {
     "text": "MetaKernel Magics",
     "url": "https://metakernel.readthedocs.io/en/latest/source/README.html"
    }
   ],
   "mimetype": "text/x-sh",
   "name": "bash",
   "version": "0.2.1"
  }
 },
 "nbformat": 4,
 "nbformat_minor": 2
}
