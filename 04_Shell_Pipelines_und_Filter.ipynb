{
 "cells": [
  {
   "cell_type": "markdown",
   "metadata": {},
   "source": [
    "# Pipelines und Filter unter `Unix`"
   ]
  },
  {
   "cell_type": "markdown",
   "metadata": {},
   "source": [
    "## Was behandeln wir in diesem Notebook / Lernziele"
   ]
  },
  {
   "cell_type": "markdown",
   "metadata": {},
   "source": [
    "<div class=\"alert alert-success\">\n",
    "\n",
    "<b>Fragestellung:</b>\n",
    "<ul>\n",
    "    <li> Wie kann ich existierende <code>Unix</code>-Programme kombinieren, um neue und komplexere Aufgaben zu erledigen.</li>\n",
    "</ul>\n",
    "\n",
    "<b>Aspekte der Fragestellung:</b>\n",
    "<ul>\n",
    "    <li> Ausgabeumlenkung von Programmausgaben in Textdateien</li>\n",
    "    <li> Kombination von <code>Unix</code>-Programmen durch <i>Pipelines</i></li>\n",
    "    <li> Das <code>Unix</code>-Baukastenprinzip</li>\n",
    "</ul>\n",
    "\n",
    "<b> Zeitaufwand für diese Lektion: </b> \n",
    "<ul>\n",
    "    <li> Durcharbeiten des Textes: 30 min</li>\n",
    "    <li> Verständnisfragen: 20 min</li>\n",
    "</ul>\n",
    "</div>"
   ]
  },
  {
   "cell_type": "markdown",
   "metadata": {},
   "source": [
    "## Das `Unix`-Baukastenprinzip"
   ]
  },
  {
   "cell_type": "markdown",
   "metadata": {},
   "source": [
    "Nachdem wir in vorherigen Lektionen grundlegende Aspekte der `Unix`-Shell (Arbeit mit Dateien und Verzeichnissen, Aufruf und Hilfe zu Kommandos) kennengelernt haben, können wir uns jetzt einem der wichtigsten und mächtigsten Eigenschaften der Shell widmen. Es ist die Möglichkeit, als Anwender bestehende Kommandos und Programme einfach zu *kombinieren* und so mit vorhandenen Bausteinen schnell recht komplexe Probleme lösen zu können. Programme unter `Unix` haben üblicherweise nur einen *sehr geringen* Funktionsumfang. Sie lösen in der Regel *eine einzige Aufgabe* sehr gut und sehr effizient. Als Anwender kann man somit bei der Lösung eines komplexeren Problems auf *hoch-qualitative* Grundbausteine zurückgreifen. Dieses Prinzip, vorhandene Baustiene zusammenzubauen, um ein Problem zu lösen, ist eine der fundamentalen Unterschiede zu einem GUI-basierten System. Bei letzterem hat man entweder ein Programm, das ein gegebenes Problem löst oder nicht. Es ist aber in der Regel nicht möglich, die Funktionalitäten zweier GUI-basierter Programme als Anwender in einfacher Weise zu kombinieren oder Teilfunktionalitäten eines Programmes innerhalb eines anderen zu nutzen. Falls dies möglich ist, so muss dies in der Regel alles *mauell* und mit großem Zeitaufwand geschehen.\n",
    "\n",
    "Da man sich unter `Unix` die Grundbausteine ständig für neue Aufgaben unterschiedlich zusammenstellt, spricht man vom `Unix`-Baukastenprinzip.\n",
    "\n",
    "In dieser Lektion beschäftigen wir uns mit den ersten beiden Werkzeugen, um Programme zu kombinieren. Es handelt sich um die *Ausgabeumlenkung* und *Pipelines* zwischen Programmen."
   ]
  },
  {
   "cell_type": "markdown",
   "metadata": {},
   "source": [
    "## Umleitung der Ausgabe eines Programms in Textdateien (Ausgabeumlenkung)"
   ]
  },
  {
   "cell_type": "markdown",
   "metadata": {},
   "source": [
    "Annika muss in den nächsten Tagen noch ein Seminar über Monde, die die Planeten unseres Sonnensystems umkreisen, halten. Ihre Daten befinden sich in dem Verzeichnis `Seminar/Planeten_Daten` unterhalb ihres Heimatverzeichnis."
   ]
  },
  {
   "cell_type": "code",
   "execution_count": null,
   "metadata": {},
   "outputs": [],
   "source": [
    "cd ~/Seminar/Planeten_Daten\n",
    "ls"
   ]
  },
  {
   "cell_type": "markdown",
   "metadata": {},
   "source": [
    "Neben einer Testdatei (`zahlen_test.txt`)gibt es für jeden Planeten, der von Monden umkreist wird, eine Datei (Endung `.dat`). Um uns eine Textdatei *mal eben schnell* anzusehen, müssen wir keinen Editor aufrufen. Die einfachste Möglichkeit ist das Kommando `cat` (concatenate), welches den Inhalt von Textdateien in der Shell ausgibt."
   ]
  },
  {
   "cell_type": "code",
   "execution_count": null,
   "metadata": {},
   "outputs": [],
   "source": [
    "cat Mars.dat   # zeige Inhalt der Datei Mars.txt"
   ]
  },
  {
   "cell_type": "markdown",
   "metadata": {},
   "source": [
    "Die Bedeutung der vier Spalten ist:\n",
    "1. Name des Mondes\n",
    "2. Zentralobjekt des Mondes\n",
    "3. Mittlere Entfernung des Mondes vom Zentralobjekt (in km)\n",
    "4. Umlaufperiode des Mondes um das Zentralobjekt (in Tagen)"
   ]
  },
  {
   "cell_type": "markdown",
   "metadata": {},
   "source": [
    "<div class=\"alert alert-info\">\n",
    "    <b> Schnelles Betrachten von Textdateien </b>\n",
    "    \n",
    "Wegen der zentralen Bedeutung von Textdateien unter <code>Unix</code> möchte man sich diese oft <i>schnell</i> einmal ansehen. Wenn man die Datei nicht modifizieren möchte, lohnt sich oft der Aufruf eines Editors hierfür nicht. Die Shell bietet für das schnelle Betrachten hauptsächlich zwei Programme. Das hier verwendete <code>cat</code>, welches für Dateien mit wenigen Zeilen die einfachste Möglichkeit ist und welches den gesamten Dateiinhalt auf dem Terminal ausgibt. Die andere Möglichkeit ist der <i>Pager</i> <code>less</code>, welcher Ihnen mit einfachen Tastenkombinationen ein seitenweises Betrachten, Blättern oder Suchen im Text erlaubt. Die wichtigesten Tasten sind: 1. Die Cursortasten erlauben Ihnen Scrollen im Text; 2. <code>Space</code> (oder Leertaste) blättert eine Seite nach vorne und <code>b</code> eine Seite zurück; 3. <code>h</code> zeigt Hilfeinformationen, die Sie mit <code>q</code> wieder verlassen können; 4. Mit <code>q</code> verlassen Sie den Pager.\n",
    "\n",
    "<code>less</code> müssen Sie in einem voll-funktionsfähigem Terminal ausprobieren. In einer Notebook Befehlszelle funktioniert es nicht.\n",
    "</div>"
   ]
  },
  {
   "cell_type": "markdown",
   "metadata": {},
   "source": [
    "Annika möchte herausfinden, welcher Planet die wenigsten/meisten Monde hat und wie viele dies sind. Ein erster Schritt zur Lösung dieses Problems ist das Kommando `wc` (word count), welches die Anzahl der Zeilen, Worte und einzelner Zeichen einer Textdatei anzeigt. "
   ]
  },
  {
   "cell_type": "code",
   "execution_count": null,
   "metadata": {},
   "outputs": [],
   "source": [
    "wc Mars.dat  # zeigt Anzahl der Zeilen, Worte und Zeichen der Datei Mars.txt"
   ]
  },
  {
   "cell_type": "markdown",
   "metadata": {},
   "source": [
    "Mit der Option `-l` zeigt uns `wc` nur die Anzahl der Zeilen, was hier identisch zur Zahl der Monde eines Planeten ist."
   ]
  },
  {
   "cell_type": "code",
   "execution_count": null,
   "metadata": {},
   "outputs": [],
   "source": [
    "wc -l *.dat  # Zeige die Anzahl der Zeilen aller Dateien mit\n",
    "             # Endung dat"
   ]
  },
  {
   "cell_type": "markdown",
   "metadata": {},
   "source": [
    "Die Planeten mit den wenigsten und meisten Monde aus der Programmausgabe abzulesen, ist bei sieben Dateien kein Problem. Wir wollen jedoch eine Lösung erarbeiten, die auch bei mehreren Tausend Dateien schnell ein Ergebnis liefert. Hierzu führen wir zunächst folgenden `wc`-Befehl aus.  "
   ]
  },
  {
   "cell_type": "code",
   "execution_count": null,
   "metadata": {},
   "outputs": [],
   "source": [
    "wc -l *.dat > laengen.txt   # lenke die Ausgane des wc-Befehls in die Datei\n",
    "                            # laengen.txt um"
   ]
  },
  {
   "cell_type": "markdown",
   "metadata": {},
   "source": [
    "Die Syntax `> laengen.txt` weist die Shell an, die gesamte Ausgabe des `wc`-Befehls *nicht* auf dem Bildschirm anzuzeigen, sondern sie in die Textdatei `laengen.txt` zu schreiben, bzw. *umzuleiten*. Man spricht hier auch von der *Ausgabeumlenkung in eine Textdatei*."
   ]
  },
  {
   "cell_type": "markdown",
   "metadata": {},
   "source": [
    "<div class=\"alert alert-danger\">\n",
    "    <b> Vorsicht bei der Ausgabeumlenkung (I)</b>\n",
    "\n",
    "Die Ausgabeumlenkung <b>überschreibt</b> die Zieldatei <b>ohne Warnung</b> falls sie schon existiert! Daher ist hier ein wenig Vorsicht geboten.\n",
    "</div>"
   ]
  },
  {
   "cell_type": "markdown",
   "metadata": {},
   "source": [
    "Überzeugen wir uns von der Existenz und dem Inhalt der Datei."
   ]
  },
  {
   "cell_type": "code",
   "execution_count": null,
   "metadata": {},
   "outputs": [],
   "source": [
    "ls laengen.txt  # ueberprüfe, ob Datei laengen.txt vorhanden ist."
   ]
  },
  {
   "cell_type": "code",
   "execution_count": null,
   "metadata": {},
   "outputs": [],
   "source": [
    "cat laengen.txt"
   ]
  },
  {
   "cell_type": "markdown",
   "metadata": {},
   "source": [
    "Der nächste Baustein für unser Problem ist das Kommando `sort`, welches den Inhalt einer Textdatei *sortiert* auf dem Bildschirm ausgibt. Ohne Option sortiert `sort` *alphabetisch*. Wir wollen allerdings die Datei `laengen.txt` *numerisch* sortieren und benötigen hierzu die Option `-g` (general numeric sort)."
   ]
  },
  {
   "cell_type": "code",
   "execution_count": null,
   "metadata": {},
   "outputs": [],
   "source": [
    "sort -g laengen.txt  # gib Datei laengen.txt 'numerisch sortiert'\n",
    "                     # auf dem Bildschirm aus."
   ]
  },
  {
   "cell_type": "markdown",
   "metadata": {},
   "source": [
    "### Einschub: alphabetische und numerische Sortierung"
   ]
  },
  {
   "cell_type": "markdown",
   "metadata": {},
   "source": [
    "Wenn Sie obiges Beispiel als `sort laengen.txt` (ohne die Option `-g`) ausprobieren, so sehen Sie anscheinend keinen Unterschied. DIe Struktur der Datei `laengen.txt` ist so, dass beide Befehle in diesem Fall dasselbe Ergebnis liefern. Um den Unterschied zwischen alphabetischer und numerischer Sortierung zu sehen, führen wir den Befehl auf die Datei `zahlen_test.txt` aus."
   ]
  },
  {
   "cell_type": "code",
   "execution_count": null,
   "metadata": {},
   "outputs": [],
   "source": [
    "cat zahlen_test.txt"
   ]
  },
  {
   "cell_type": "code",
   "execution_count": null,
   "metadata": {},
   "outputs": [],
   "source": [
    "sort zahlen_test.txt  # alphabetische Sortierung der Datei zahlen_test.txt"
   ]
  },
  {
   "cell_type": "code",
   "execution_count": null,
   "metadata": {},
   "outputs": [],
   "source": [
    "sort -g zahlen_test.txt  # numerische Sortierung der Datei zahlen_test.txt"
   ]
  },
  {
   "cell_type": "markdown",
   "metadata": {},
   "source": [
    "Zurück zur Sortierung der Datei `laengen.txt`. Der Planet mit den wenigsten Monden befindet sich offenbar in der ersten Zeile der sortierten Liste. Um diesen Eintrag zu bekommen, lenken wir die Ausgabe der Sortierung in eine weitere Datei um und wenden darauf ein neues Kommando, `head -n 1`, an. Dieses Kommando extrahiert aus einer Datei die erste Zeile. "
   ]
  },
  {
   "cell_type": "code",
   "execution_count": null,
   "metadata": {},
   "outputs": [],
   "source": [
    "sort -g laengen.txt > laengen_sort.txt  \n",
    "    # erstelle eine neue Datei mit einer sortierten\n",
    "    # Version der Datei laengen.txt                                        "
   ]
  },
  {
   "cell_type": "code",
   "execution_count": null,
   "metadata": {},
   "outputs": [],
   "source": [
    "head -n 1 laengen_sort.txt  # zeige die erste Zeile der Datei laengen_sort.txt"
   ]
  },
  {
   "cell_type": "markdown",
   "metadata": {},
   "source": [
    "Die Option `-n 1` besagt, dass wir nur die erste Zeile haben möchten. Allgmein würde `head -n m` die ersten `m` Zeilen einer Datei liefern. Ohne Option `-n` zeigt `head` die ersten zehn Zeilen."
   ]
  },
  {
   "cell_type": "markdown",
   "metadata": {},
   "source": [
    "<div class=\"alert alert-danger\">\n",
    "    <b> Vorsicht bei der Ausgabeumlenkung (II)</b>\n",
    "\n",
    "Vielleicht wundern Sie sich, dass wir oben anstatt des Befehls <code>sort -g laengen.txt > laengen_sort.txt</code> nicht die Variante <code>sort -g laengen.txt > laengen.txt</code> gewählt haben. Schließlich brauchen wir die alte Datei <code>laengen.txt</code> nicht mehr und es liegt nahe, sie einfach durch ihre sortierte Version zu ersetzen. <b>Dies funktioniert leider nicht und das Ergebnis wäre am Ende eine <b>leere</b> Datei <code>laengen.txt</code>!</b> Eingabedatei und Ziel der Ausgabeumlenkung sollten <b>nie</b> dieselbe Datei sein!\n",
    "</div>"
   ]
  },
  {
   "cell_type": "markdown",
   "metadata": {},
   "source": [
    "Analog zu `head`, was die ersten Zeilen einer Datei ausgibt, können wir uns mit dem Kommando `tail` die *letzten* Zeilen einer Datei besorgen."
   ]
  },
  {
   "cell_type": "code",
   "execution_count": null,
   "metadata": {},
   "outputs": [],
   "source": [
    "tail -n 2 laengen_sort.txt  # zeige die letzten zwei Zeilen der\n",
    "                            # Datei laengen_sort.txt"
   ]
  },
  {
   "cell_type": "markdown",
   "metadata": {},
   "source": [
    "Beachten Sie, dass wir für den Planeten mit den meisten Monden die *letzten zwei* Zeilen von `laengen_sort.txt` brauchen, da die letzte Zeile eine Gesamtbilanz aller Planetendateien enthält.  "
   ]
  },
  {
   "cell_type": "markdown",
   "metadata": {},
   "source": [
    "## Pipelines zwischen `Unix`-Kommandos"
   ]
  },
  {
   "cell_type": "markdown",
   "metadata": {},
   "source": [
    "<a id='Planeten_Pipeline'></a>\n",
    "Zusammengefasst haben wir, um die Planeten mit den wenigsten und den meisten Moden zu finden, folgende Befehle ausgeführt:\n",
    "```bash\n",
    "> wc -l *.dat > laengen.txt\n",
    "> sort -g laengen.txt > laengen_sort.txt\n",
    "> head -n 1 laengen_sort.txt  # zeige Datei mit den wenigsten Planeten\n",
    "> tail -n 2 laengen_sort.txt  # zeige Datei mit den meisten Planeten\n",
    "                              # (erste Zeile der beiden ausgegebenen)\n",
    "```\n",
    "Wir können diese Sequenz an Befehlen auf das allgemeine Problem *Finde aus einer beliebigen Anzahl an Textdateien diejenigen mit den wenigsten und den meisten Zeilen* anwenden. Die einzig notwendige Änderung ist die Übergabe der zu betrachtenden Dateien in dem `wc`-Befehl am Anfang der Sequenz.\n",
    "\n",
    "Obwohl dies bereits sehr nützlich ist, finden Sie die Sequenz wahrscheinlich auch verwirrend. Auch wenn man weiß, was die Kommandos `wc`, `sort`, `head` und `tail` tun, machen vor allem die *Zwischendateien* das Ganze unübersichtlich, schwer zu verfolgen und auch fehleranfällig (Verwechslung der Zwischendateien). "
   ]
  },
  {
   "cell_type": "markdown",
   "metadata": {},
   "source": [
    "Wir können das Ganze *deutlich* vereinfachen und klarer machen, indem wir die involvierten Befehle *direkt kombinieren*. Nehmen wir als Beispiel die Sequenz\n",
    "```bash\n",
    "sort -g laengen.txt > laengen_sort.txt\n",
    "head -n 1 laengen_sort.txt\n",
    "```\n",
    "Diese beiden Befehle können wir *zu einem einzigen* zusammenfassen."
   ]
  },
  {
   "cell_type": "code",
   "execution_count": null,
   "metadata": {},
   "outputs": [],
   "source": [
    "sort -g laengen.txt | head -n 1   # Nutze die Ausgabe von sort -n laengen.txt\n",
    "                                  # als Eingabe für den Befehl head -n 1"
   ]
  },
  {
   "cell_type": "markdown",
   "metadata": {},
   "source": [
    "Der vertikale Strich `|` baut eine so-genannte *Pipeline* zwischen zwei Befehlen auf. Er weist die Shell an, die *Ausgabe des Befehls links* als *die Eingabe des Befehls rechts* zu nutzen.\n",
    "\n",
    "Das Schöne an den Pipelines ist, dass Sie nicht nur zwei, sondern *beliebig viele* Befehle damit verbinden können. So können wir die Ausgabe von `wc` an `sort` schicken und das Resultat direkt an `head` weiterleiten. Das heisst, dass wir zuerst eine Pipeline zwischen `wc` und `sort` konstruieren."
   ]
  },
  {
   "cell_type": "code",
   "execution_count": null,
   "metadata": {},
   "outputs": [],
   "source": [
    "wc -l *.dat | sort -g  # äquivalent zur Befehlssequenz wc *dat > laengen.txt\n",
    "                       # und sort -n laengen.txt"
   ]
  },
  {
   "cell_type": "markdown",
   "metadata": {},
   "source": [
    "Die resultierende Ausgabe dieses Befehls schicken wir an `head` weiter und die gesamte Befehlskette, um den Planeten mit den wenigsten Monden zu finden, ist "
   ]
  },
  {
   "cell_type": "code",
   "execution_count": null,
   "metadata": {},
   "outputs": [],
   "source": [
    "wc -l *.dat | sort -g | head -n 1"
   ]
  },
  {
   "cell_type": "markdown",
   "metadata": {},
   "source": [
    "Diese eine Pipeline leistet *genau dasselbe* wie die, mit Zwischendateien gespickte, Befehlssequenz am Anfang dieses Abschnitts.\n",
    "\n",
    "Sie können sich das Ganze ähnlich der Konstruktion einer zusammengesetzten mathematischen Funktion aus einzelnen Operatoren, wie z. B. $\\sin(3x)$, vorstellen. In die Bestandteile zerlegt, liest es sich *Der Sinus aus drei mal $x$*. In unserem Fall wäre die Analogie etwa *Erste Zeile aus sortierten Zeilen aus Zeilenzählung von Dateien mit Endung `.dat`*."
   ]
  },
  {
   "cell_type": "markdown",
   "metadata": {},
   "source": [
    "Die Ausgabeumleitungen und Pipelines dieses Abschnitts sind noch einmal in folgender Figur visualisiert."
   ]
  },
  {
   "cell_type": "markdown",
   "metadata": {},
   "source": [
    "<img src=\"figuren/Shell_Pipelines_und_Filter_fig1.png\" style=\"height: 400px;\">"
   ]
  },
  {
   "cell_type": "markdown",
   "metadata": {},
   "source": [
    "<div class=\"alert alert-danger\">\n",
    "    <b>Programme, die sich anscheinend aufhängen</b>\n",
    "\n",
    "Manchmal ruft man ein Programm <i>einfach</i> ohne Optionen und Parameter auf, um z. B. eine Fehlermeldung kombiniert mit Hilfe zur Benutzung zu bekommen. Dies kann natürlich auch aus Versehen passieren. Geschieht dies mit einem Pipeline-fähigem Programm wie <code>head</code> oder <code>sort</code> in einer Shell, so scheinen sie sich anscheinend <i>aufgehängt zu haben</i> und es geschieht <i>nichts mehr</i>. Die Programme warten in diesem Fall auf Eingabedaten über eine Pipeline, die <i>nie</i> kommen werden und es scheint, dass sich das Programm anscheinend aufgehängt hat. In einer <code>Unix</code>-Shell sollten Sie in diesem Falls die Tastenkombination <code>Control+C</code> betätigen, um das Programm abzubrechen. Passiert Ihnen dies hier in einer Notebook-Zelle, so müssen Sie den Kernel neu starten - siehe [hier](00_Wie_bearbeite_ich_dieses_Tutorial.ipynb#Kernel_Absturz).\n",
    "</div>"
   ]
  },
  {
   "cell_type": "markdown",
   "metadata": {},
   "source": [
    "## Filter"
   ]
  },
  {
   "cell_type": "markdown",
   "metadata": {},
   "source": [
    "Programme, die ihre Eingaben nicht nur über Parameter (z.B. Textdateien), sondern auch über eine Pipeline erhalten können und die ihre Ausgabe standardmäßig auf dem Bildschirm zeigen, nennt man auch *Filter*. Diese Programme können beliebig in `Unix`-Pipelines eingesetzt werden. Sie werden im Laufe der Zeit diejenigen Filter genau kennenlernen, die für Ihre Arbeit wichtig sind. Neben  den hier bereits besprochenen (`cat`, `wc`, `sort`, `head` und `tail`), wollen wir an dieser Stelle noch zwei weitere erwähnen, die für jeden Anwender essentiell sind."
   ]
  },
  {
   "cell_type": "markdown",
   "metadata": {},
   "source": [
    "Das erste Filterprogramm ist `awk`. Sein Name setzt sich aus den Initialen seiner Entwickler zusammen (Aho, Weinberger und Kernighan) und es erlaubt sehr umfangreiche und komplexe Operationen mit spaltenorientierten Textdateien. Auch eine erste Einführung in dieses Programm würde den Rahmen dieses Tutorials bei weitem sprengen. Wir wollen es hier lediglich nutzen, um aus einer Textdatei einzelne Splaten zu isolieren. "
   ]
  },
  {
   "cell_type": "markdown",
   "metadata": {},
   "source": [
    "Annika hat für Ihr Seminar Beobachtungen einiger Planeten durchgeführt. Die Daten der Beobachtungen und die beobachteten Planeten sind in der Datei `~/Seminar/Beobachtungen.txt`."
   ]
  },
  {
   "cell_type": "code",
   "execution_count": null,
   "metadata": {},
   "outputs": [],
   "source": [
    "cd ~/Seminar\n",
    "cat Beobachtungen.txt"
   ]
  },
  {
   "cell_type": "markdown",
   "metadata": {},
   "source": [
    "Sie möchte überprüfen, welche Planeten beobachtet wurden und sich dafür die zweite Spalte dieser Datei ansehen. Um diese zu isolieren, gibt sie den Befehl."
   ]
  },
  {
   "cell_type": "code",
   "execution_count": null,
   "metadata": {},
   "outputs": [],
   "source": [
    "awk '{print $2}' Beobachtungen.txt  # zeige zweite Spalte der Datei Beobachtungen.txt"
   ]
  },
  {
   "cell_type": "markdown",
   "metadata": {},
   "source": [
    "Um sich eine andere Spalte anzeigen zu lassen, müsste nur in dem `awk`-Befehl nach dem Dollar `($)`-Zeichen die entsprechende Zahl gesetzt werden. So würde z.B. `awk '{print $1}'` die erste Spalte drucken."
   ]
  },
  {
   "cell_type": "markdown",
   "metadata": {},
   "source": [
    "Für eine bessere Übersicht würde Annika gerne Mehrfacheinträge bei der Ausgabe des letzten Befehls loswerden. Hierzu dient der Filter `uniq`. `uniq` löscht aus einer *sortierten* Textdatei mehrfache Einträge. Da die Eingabe für `uniq` sortiert sein muss, kommt dieser Filter eigentlich immer in Verbindung mit `sort` vor."
   ]
  },
  {
   "cell_type": "code",
   "execution_count": null,
   "metadata": {},
   "outputs": [],
   "source": [
    "awk '{print $2}' Beobachtungen.txt | sort | uniq\n",
    "   # drucke alle vorkommenden Einträge der zweiten Spalte\n",
    "   # in Beobachtungen.txt"
   ]
  },
  {
   "cell_type": "markdown",
   "metadata": {},
   "source": [
    "Sehr nützlich ist bei `uniq` noch die Option `-c` (count). Mit dieser Option werden Mehrfacheinträge nicht gelöscht, sondern es wird gezeigt, wie oft jeder Eintrag vorkommt. Hiermit bekommt Annika eine schnelle Übersicht, *wie oft* jedes Objekt beobachtet wurde."
   ]
  },
  {
   "cell_type": "code",
   "execution_count": null,
   "metadata": {},
   "outputs": [],
   "source": [
    "awk '{print $2}' Beobachtungen.txt | sort | uniq -c"
   ]
  },
  {
   "cell_type": "markdown",
   "metadata": {},
   "source": [
    "## Annikas Bachelor-Arbeit: Vollständigkeit der Beobachtungen"
   ]
  },
  {
   "cell_type": "markdown",
   "metadata": {},
   "source": [
    "Wie [hier](01_Shell_Einleitung.ipynb#Annikas_Bachelor_Arbeit) beschrieben, ist Annikas erste Aufgabe für ihre Bachelor-Arbeit, ihre Beobachtungen zu sichten und zu sehen, ob sie alle notwendigen Daten hat. Die vorhandenen Beobachtungen sind in der Datei `~/Bachelor_Arbeit/Beobachtungen/Beobachtungs_Logdatei.txt` gelistet."
   ]
  },
  {
   "cell_type": "code",
   "execution_count": null,
   "metadata": {},
   "outputs": [],
   "source": [
    "cd ~/Bachelor_Arbeit/Beobachtungen\n",
    "head Beobachtungs_Logdatei.txt"
   ]
  },
  {
   "cell_type": "markdown",
   "metadata": {},
   "source": [
    "Die ersten beiden Spalten dieser Datei sind die Identifikation der Beobachtung und die zweite Spalte eine Kombination aus beobachtetem Feld `(D1-D4)` und der Beobachtingskonfiguration `u, g, r, i` oder `z`. Die restlichen Spalten sind für den Moment nicht wichtig. Die Datei enthält an die 500 Beobachtungen und ist daher nicht mehr mit einem Blick zu überschauen."
   ]
  },
  {
   "cell_type": "code",
   "execution_count": null,
   "metadata": {},
   "outputs": [],
   "source": [
    "wc -l Beobachtungs_Logdatei.txt  # wie viele Beobachtungen gibt es"
   ]
  },
  {
   "cell_type": "markdown",
   "metadata": {},
   "source": [
    "Annika muss als Erstes prüfen, ob sie für jedes Feld in jeder Konfiguration mindestens zehn Beobachtungen hat. Wenn nicht, soll sie ihrem Betreuer sagen, was nachbeobachtet werden muss.\n",
    "\n",
    "Mit dem Wissen dieser Lektion ist diese Aufgabe sehr schnell erledigt. Zuerst formuliert Annika  sie in die Sprache der vorhandenen `Unix`-Filter um. Sie erkennt, dass mit den vorhandenen Infromationen in der Datei `Beobachtungs_Logdatei.txt` die Aufgabe *Wie bestimme ich die Anzahl vorhandener Beobachtungen in jedem Feld und in jeder Konfiguration* äquivalent ist zu *Bestimme, wie oft jeder Eintrag der zweiten Spalte in der Datei vorhanden ist*. Die durchzuführenden Schritte mit den bekannten Werkezugen sind also:\n",
    "\n",
    "1. isoliere aus der Datei die zweite Spalte\n",
    "2. Schaue in der isolierten Spalte, wie oft jeder Eintrag vorkommt\n",
    "\n",
    "Die hierzu erforderliche Pipleine ist nun nicht mehr schwierig."
   ]
  },
  {
   "cell_type": "code",
   "execution_count": null,
   "metadata": {},
   "outputs": [],
   "source": [
    "awk '{print $2}' Beobachtungs_Logdatei.txt | sort | uniq -c\n",
    "   # isoliere die zweite Spalte aus Beobachtungs_Logdatei.txt und schaue,\n",
    "   # wie oft jeder Eintrag darin vorkommt"
   ]
  },
  {
   "cell_type": "markdown",
   "metadata": {},
   "source": [
    "Hiermit kann Annika leicht ihrem Betreuer mitteilen, in welchem Feld noch Beobachtngen mit welcher Kombination nötig sind. Sie kann das benötige Ergebnis - alle Feld/Konfiguration-Kombinationen mit weniger als zehn Beobachtungen - auch direkt mit einem weiterem `awk`-Befehl erhalten. "
   ]
  },
  {
   "cell_type": "code",
   "execution_count": null,
   "metadata": {},
   "outputs": [],
   "source": [
    "awk '{print $2}' Beobachtungs_Logdatei.txt | sort | uniq -c | awk '($1 < 10)'\n",
    "   # erweitere den letzten Befehl um einen Filter, der nur Einträge zeigt,\n",
    "   # in denen die erste Apslete einen Wert kleiner 10 hat."
   ]
  },
  {
   "cell_type": "markdown",
   "metadata": {},
   "source": [
    "Der Befehl `awk '($1 < 10)'` liefert alle Zeilen, deren numerischer Wert der ersten Spalte kleiner als 10 ist. Analog könnte man z.B. mit `awk '($3 > 100)'` aus einer Textdatei alle Zeilen bekommen, deren numerischer Wert der dritten Spalte größer als 100 ist."
   ]
  },
  {
   "cell_type": "markdown",
   "metadata": {},
   "source": [
    "<div class=\"alert alert-success\">\n",
    "<b>Zum Mitnehmen</b>\n",
    "<ul>\n",
    "    <li> <code>befehl > datei</code> lenkt die Ausgabe von <code>befehl</code> in <code>datei</code> um.</li>\n",
    "    <li> <code>befehl_1 | befehl_2</code> ist eine Pipeline. Die Ausgabe von <code>befehl_1</code> ist die Eingabe von <code>befehl_2</code>.</li>\n",
    "    <li> <code>cat textdatei</code> zeigt den Inhalt von <code>textdatei</code> auf dem Bildschirm.</li>\n",
    "    <li> <code>less textdatei</code> zeigt den Inhalt von <code>textdatei</code> in einem Pager.</li>\n",
    "    <li> <code>head textdatei</code> zeigt die <i>ersten</i> zehn Zeilen von <code>textdatei</code>.</li>\n",
    "    <li> <code>tail textdatei</code> zeigt die <i>letzten</i> zehn Zeilen von <code>textdatei</code>.</li>\n",
    "    <li> <code>sort</code> sortiert die übergebenen Textdateien. In Verbindung mit <code>uniq</code> lassen sich Mehrfacheinträge in Textdateien identifizieren.</li>\n",
    "    <li> <code>wc</code> zählt Zeilen, Worte und Zeichen der übergebenen Textdateien.</li>\n",
    "    <li> <code>awk</code> ist ein sehr mächtiges Werkzeug zur Arbeit mit Daten in Spaltentabellen. Ein nähere Beschäftigung damit zahlt sich auf alle Fälle aus.</li>\n",
    "</ul>\n",
    "</div>"
   ]
  }
 ],
 "metadata": {
  "kernelspec": {
   "display_name": "Calysto Bash",
   "language": "bash",
   "name": "calysto_bash"
  },
  "language_info": {
   "file_extension": ".sh",
   "help_links": [
    {
     "text": "MetaKernel Magics",
     "url": "https://metakernel.readthedocs.io/en/latest/source/README.html"
    }
   ],
   "mimetype": "text/x-sh",
   "name": "bash",
   "version": "0.2.1"
  }
 },
 "nbformat": 4,
 "nbformat_minor": 2
}
