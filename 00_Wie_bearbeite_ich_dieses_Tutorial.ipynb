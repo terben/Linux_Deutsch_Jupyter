{
 "cells": [
  {
   "cell_type": "markdown",
   "metadata": {},
   "source": [
    "# Wie bearbeite ich dieses Tutorial"
   ]
  },
  {
   "cell_type": "markdown",
   "metadata": {},
   "source": [
    "**Bitte lesen Sie diese Einführung KOMPLETT, bevor Sie anfangen, mit dem Tutorial zu arbeiten!**"
   ]
  },
  {
   "cell_type": "markdown",
   "metadata": {},
   "source": [
    "## Was behandeln wir in diesem Tutorial"
   ]
  },
  {
   "cell_type": "markdown",
   "metadata": {},
   "source": [
    "Dieses Tutorial ist eine Einführung in die Benutzung der `Unix`-Shell. Es ist ein kompakter Begleitkurs zu meinem Buch [Einführung in Unix/Linux für\n",
    "Naturwissenschaftler](http://www.springer.com/de/book/9783662503003), welches im Februar 2017 im Springer Verlag erschienen ist:\n",
    "\n",
    "<a href=\"http://www.springer.com/de/book/9783662503003\">\n",
    "<img src=\"https://github.com/terben/Einfuehrung_in_Unix/blob/master/_images/cover.jpg?raw=true\"\n",
    " alt=\"Einführung in Unix - Titelseite\" style=\"height: 200px;\" align=\"center\" vspace=15>\n",
    "</a>\n",
    "\n",
    "Dieser Kurs enthält das meines Erachtens *absolute Minimum*, das benötigt wird, um mit einer `Unix`-Shell die ersten Schritte im wissenschaftlichen Kontext zu gehen. Für einen ausführlicheren und tieferen Einstieg in die Materie, sowie Übungsaufgaben mit Lösungen sollten das Buch oder andere Quellen zu Rate gezogen werden.\n",
    "\n",
    "**Das Tutorial kann komplett online innerhalb eines Web-Browsers und ohne zusätzliche Installationen bearbeitet werden.**"
   ]
  },
  {
   "cell_type": "markdown",
   "metadata": {},
   "source": [
    "## Wie benutze ich die Materialien"
   ]
  },
  {
   "cell_type": "markdown",
   "metadata": {},
   "source": [
    "Nach dem Start des Tutorials in Ihrem Browser befinden Sie sich in einer `Jupyter-Notebook`-Umgebung. Viele Details hierüber müssen Sie zur Nutzung dieser `Unix`-Shell Einführung nicht wissen. Hier zeigen wir Ihnen, was Sie benötigen, um mit dem Material arbeiten zu können."
   ]
  },
  {
   "cell_type": "markdown",
   "metadata": {},
   "source": [
    "- Nach dem Start zeigt der Einstiegsbildschirm etliche Links zu Dateien mit der Endung `.ipynb`. Diese bilden den Kern des Kurses und ein Klick auf eine dieser Dateien führt Sie zur entsprechenden Lektion.   \n",
    "Arbeiten Sie die Abschnitte zu Anfang einfach der Reihe nach ab oder springen Sie später zu einer Lektion, die Sie vertiefen oder wiederholen möchten. Was Sie zur Bearbeitung einer Lektion wissen sollten, beschreiben wir [weiter unten](#Abschnitt_Notebook).\n",
    "- Innerhalb der Lektionen können Sie `Unix`-Befehle in einzelnen Kommandozeilen (`Jupyter-Notebook`-Zellen) ausführen. Diese Zellen sind allerdings keine voll-funktionsfähigen `Unix`-Terminals und Shellumgebungen. Sie können aber neben den Lektionen ein *vollwertiges Terminal* öffnen und das erworbene Wissen darin vertiefen - siehe die folgende Figur."
   ]
  },
  {
   "cell_type": "markdown",
   "metadata": {},
   "source": [
    "<a id='Figur_Lektion_Terminal'></a>\n",
    "<img src=\"figuren/Wie_bearbeite_ich_dieses_Tutorial_fig1.png\" style=\"width: 700px;\">"
   ]
  },
  {
   "cell_type": "markdown",
   "metadata": {},
   "source": [
    "Nach dem Start des Tutorials haben Sie eine *temporäre* `Unix`-Umgebung, in der Sie aus Sicht einer virtuellen Benutzerin `annika` arbeiten können (mehr hierzu in den ersten Lektionen). Sie können vorhandene Dateien ihres *Benutzeraccounts* nach Belieben verändern, löschen oder auch neue Dateien erzeugen.\n",
    "\n",
    "**Beachten Sie aber, dass Ihre Arbeit auf den Ursprungszustand zurückgesetzt wird, sobald Sie das Tutorial komplett beenden und alle beteiligten Browserfenster schließen!** Sie können somit auch nichts *kaputtmachen*. Wenn Sie das Tutorial zu einem späteren Zeitpunkt neu starten, beginnen Sie wieder mit einem *frischen* Benutzeraccount."
   ]
  },
  {
   "cell_type": "markdown",
   "metadata": {},
   "source": [
    "<a id='Abschnitt_Notebook'></a>\n",
    "## Wie bearbeite ich eine Lektion"
   ]
  },
  {
   "cell_type": "markdown",
   "metadata": {},
   "source": [
    "Die Lektionen sind alle *interaktiv* und sie können die entsprechenden Notebooks *von oben nach unten* bearbeiten. Es werden Ihnen notwendige Konzepte und `Unix`-Befehle in Textabschnitten oder *Textzellen* erklärt und Sie können alles sogleich in *Befehlszellen* ausprobieren und praktisch anwenden - siehe folgende Figur."
   ]
  },
  {
   "cell_type": "markdown",
   "metadata": {},
   "source": [
    "<img src=\"figuren/Wie_bearbeite_ich_dieses_Tutorial_fig2.png\" style=\"width: 700px;\">"
   ]
  },
  {
   "cell_type": "markdown",
   "metadata": {},
   "source": [
    "Befehlszellen enthalten üblicherweise bereits einen `Unix`-Befehl, den Sie direkt ausführen können. Klicken Sie hierzu in die entsprechende Zelle und betätigen Sie die Tastenkombination `Shift+Enter`. Der entsprechende Befehl wird danach ausgeführt. Auf mobilen Geräten (Tablets/Smartphones) haben Sie zum Ausführen einer Befehlszelle ein separates Bedienelement.\n",
    "- Der Inhalt der Befehlszellen ist oft der Befehl selber gefolgt von einem oder mehreren *Kommentaren*. Alles, was auf einem `Unix`-Terminal nach einer Raute `(#)` steht, ist in der Regel ein Kommentar. Zur korrekten Abarbeitung eines Befehls müssen Sie die Raute und alles, was danach steht, *nicht* ab- bzw. eintippen.\n",
    "- Sie können jederzeit den Befehl innerhalb einer Zelle verändern und den neuen Befehl ausführen.\n",
    "- Sie können innerhalb einer Zelle auf nachfolgenden Zeilen auch mehrere Befehle auf einmal geben. Der Übersichtlichkeit halber und um das Geschehen leichter nachverfolgen zu können, ist aber in der Regel *ein Befehl pro Zelle* besser. \n",
    "- Wenn Sie einmal vor oder nach einer Zelle gerne eine zusätzliche hätten, so können Sie dies mit dem Notebook-Menüpunkt `Insert` erreichen."
   ]
  },
  {
   "cell_type": "markdown",
   "metadata": {},
   "source": [
    "Zu jeder Lektion gibt es in einem separaten Notebook *Verständnisfragen*, mit denen Sie das erworbene Wissen überprüfen können."
   ]
  },
  {
   "cell_type": "markdown",
   "metadata": {},
   "source": [
    "### Unerwartete Ergebnisse und Kernelabsturz"
   ]
  },
  {
   "cell_type": "markdown",
   "metadata": {},
   "source": [
    "Die Befehle, die Sie ausführen und deren erwartete Ergebnisse werden üblicherweise im Text diskutiert. Falls Sie über mehrere Zellen hinweg komplett unerwartete Ergebnisse bekommen oder Befehle gar nicht mehr ausgeführt werden, hat dies wahrscheinlich eine der beiden folgenden Ursachen:\n",
    "1. Ausgeführte Befehle können den Zustand ihrer Umgebung verändern und folgende Befehle dementsprechend neue Ergebnisse liefern. Der erklärende Text nimmt an, dass Sie die Zellen in einem Notebook *in der gegebenen Reihenfolge von oben nach unten* ausführen. Es kann daher vorkommen, dass Ihre Ergebnisse nicht mehr mit den Erwartungen übereinstimmen, wenn Sie dies nicht tun, eine Zelle mehrfach mit neuen Befehlen verwenden oder neue Zellen in Ihr Notebook einfügen.\n",
    "2. Wie oben bereits erwähnt, sind die Notebook Befehlszellen *keine* vollwertigen `Unix`-Terminalumgebungen. Viele `Unix`-Kommandos erwarten nach ihrer Ausführung weitere Benutzerinteraktion, die in den Notebook-Zellen nicht implementiert ist. In diesem Fall *hängt sich der Kernel auf* und die Ausführung weiterer Befehle führt zu keinen Ergebnissen mehr. Sie erkennen, dass sich eine Zeile *aufgehängt hat*, daran, dass nach deren Ausführung in der Zeichenkette `In [ ]` am Anfang der Zelle ein permanenter Asterisk `(*)` auftaucht. Eine nicht mehr reagierende Zelle sieht nach Befehlsauführung so aus: `In[*]`. Normalerweise erscheint nach einer erfolgreichen Befehlsausführung eine Zahl (z.B. `In[1]`), die angibt, der wievielte erfolgreich ausgeführte Befehl es im Notebook war.\n",
    "\n",
    "In allen diesen Fällen können Sie einfach den Kernel neu starten und das Notebook in seinen Anfangszustand versetzen - siehe folgende Figur."
   ]
  },
  {
   "cell_type": "markdown",
   "metadata": {},
   "source": [
    "<a id='Kernel_Absturz'></a>\n",
    "<img src=\"figuren/Wie_bearbeite_ich_dieses_Tutorial_fig3.png\" style=\"width: 700px;\">"
   ]
  },
  {
   "cell_type": "markdown",
   "metadata": {},
   "source": [
    "`Unix`-Befehle, die sich aufgrund von (2.) nicht in einer Notebook-Befehlszelle ausführen lassen, können Sie in der [Terminalumgebung](#Figur_Lektion_Terminal) ausprobieren. "
   ]
  },
  {
   "cell_type": "markdown",
   "metadata": {},
   "source": [
    "# Viel Spass mit dem Tutorial"
   ]
  },
  {
   "cell_type": "markdown",
   "metadata": {},
   "source": [
    "Das ist alles, was Sie wissen müssen, um mit dem Tutorial anzufangen. Wenn Sie gleich starten möchten, geht es [hier](01_Shell_Einleitung.ipynb) zur ersten Lektion."
   ]
  }
 ],
 "metadata": {
  "kernelspec": {
   "display_name": "Calysto Bash",
   "language": "bash",
   "name": "calysto_bash"
  },
  "language_info": {
   "file_extension": ".sh",
   "help_links": [
    {
     "text": "MetaKernel Magics",
     "url": "https://metakernel.readthedocs.io/en/latest/source/README.html"
    }
   ],
   "mimetype": "text/x-sh",
   "name": "bash",
   "version": "0.2.2"
  }
 },
 "nbformat": 4,
 "nbformat_minor": 4
}
