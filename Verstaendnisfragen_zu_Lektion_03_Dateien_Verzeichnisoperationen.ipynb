{
 "cells": [
  {
   "cell_type": "markdown",
   "metadata": {},
   "source": [
    "# Verständnisfragen zu Lektion 03_Shell_Dateien_Verzeichnisoperationen"
   ]
  },
  {
   "cell_type": "markdown",
   "metadata": {},
   "source": [
    "## 1. Verständnisfrage"
   ]
  },
  {
   "cell_type": "markdown",
   "metadata": {},
   "source": [
    "Oliver möchte am Ende seines Arbeitstages zwei Dateien an ihren richtigen Platz verschieben. Momentan bekommt er:\n",
    "```bash\n",
    "$ ls -F\n",
    "log_process_01_02_2019.txt   log_process_02_02_2019.txt   processed/   raw/\n",
    "```\n",
    "Die Dateien `log_process_01_02_2019.txt` und `log_process_02_02_2019.txt` dokumentieren Arbeitsschritte, die Oliver zum Prozessieren seiner Daten ausgeführt hat. Geben Sie, startend von diesem Zustand, mögliche Befehle, nach denen Oliver folgende Ausgaben erhält:\n",
    "```bash\n",
    "$ ls -F\n",
    "processed/   raw/\n",
    "$ ls processed\n",
    "log_process_01_02_2019.txt   log_process_02_02_2019.txt\n",
    "```"
   ]
  },
  {
   "cell_type": "markdown",
   "metadata": {},
   "source": [
    "## 2. Verständnisfrage"
   ]
  },
  {
   "cell_type": "markdown",
   "metadata": {},
   "source": [
    "<img src=\"figuren/Shell_Dateien_Verzeichnisoperationen_fig2.png\" style=\"height: 250px;\">"
   ]
  },
  {
   "cell_type": "markdown",
   "metadata": {},
   "source": [
    "Oliver befinde sich in dem Verzsichnis `Oktober_2019` und er möchte die Verzeichnisse der rot-markierten Struktur erstellen. Welche der folgenden Befehlssequenzen leisten dies? Was erzeugen die Befehlssequenzen, welche die Struktur *nicht* reproduzieren?"
   ]
  },
  {
   "cell_type": "markdown",
   "metadata": {},
   "source": [
    " 1.\n",
    "```bash\n",
    "$ mkdir Daten\n",
    "$ mkdir Daten/processed\n",
    "$ mkdir Daten/raw\n",
    "$ mkdir Logs\n",
    "```\n",
    "2.\n",
    "```bash\n",
    "$ mkdir Daten\n",
    "$ cd Daten\n",
    "$ mkdir processed raw Logs\n",
    "```\n",
    "3.\n",
    "```bash\n",
    "$ mkdir Daten Logs\n",
    "$ mkdir Daten/processed Daten/raw\n",
    "```\n",
    "4.\n",
    "```bash\n",
    "$ mkdir Logs\n",
    "$ cd Logs\n",
    "$ mkdir ../Daten\n",
    "$ cd ..\n",
    "$ mkdir processed raw\n",
    "```"
   ]
  },
  {
   "cell_type": "markdown",
   "metadata": {},
   "source": [
    "## 3. Verständnisfrage"
   ]
  },
  {
   "cell_type": "markdown",
   "metadata": {},
   "source": [
    "Am Ende einer Arbeitswoche möchte Oliver ein Backup seiner Arbeit erstellen und vor dem Verlassen des Instituts noch einige Daten an seinen Kollegen Thomas schicken. Er startet mit der Verzeichnisstruktur in folgender Figur (links) und er befinde sich in dem Verzeichnis `Analysen_Mai_bis_Juli`. Die Schreibweise `Data_01_05_19.txt ... Data_31_05_19.txt` bedeute hierbei die Existenz einer entsprechenden Datei für *jeden Tag* im Mai.\n",
    "\n",
    "Geben Sie mögliche `Unix`-Befehle, um hieraus die Datei- und Verzeichnisstruktur in der folgenden Figur (rechts) zu erzeugen."
   ]
  },
  {
   "cell_type": "markdown",
   "metadata": {},
   "source": [
    "<img src=\"figuren/Shell_Dateien_Verzeichnisoperationen_fig3_und_4.png?modified=12345678\" style=\"width: 900px;\">"
   ]
  }
 ],
 "metadata": {
  "kernelspec": {
   "display_name": "Calysto Bash",
   "language": "bash",
   "name": "calysto_bash"
  },
  "language_info": {
   "file_extension": ".sh",
   "help_links": [
    {
     "text": "MetaKernel Magics",
     "url": "https://metakernel.readthedocs.io/en/latest/source/README.html"
    }
   ],
   "mimetype": "text/x-sh",
   "name": "bash",
   "version": "0.2.1"
  }
 },
 "nbformat": 4,
 "nbformat_minor": 2
}
