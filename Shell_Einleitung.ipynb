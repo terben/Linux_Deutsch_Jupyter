{
 "cells": [
  {
   "cell_type": "markdown",
   "metadata": {},
   "source": [
    "# Einführung in die `Linux/Unix`-Shell"
   ]
  },
  {
   "cell_type": "markdown",
   "metadata": {},
   "source": [
    "## Was behandeln wir in diesem Notebook / Lernziele"
   ]
  },
  {
   "cell_type": "markdown",
   "metadata": {},
   "source": [
    "<div class=\"alert alert-success\">\n",
    "<ul>\n",
    "    <li> Was ist eine Shell (ein Kommandozeileninterface) und warum wollen wir es nutzen</li>\n",
    "    <li> In welcher Beziehung steht die Shell zur Tastatur, dem Bildschirm, dem Betriebssystem und Programmen</li>\n",
    "    <li> Unter welchen Umständen sollte ein Kommandozeileninterface anstatt einer grafischen Benutzeroberfläche verwendet werden</li>\n",
    "</ul>\n",
    "</div>"
   ]
  },
  {
   "cell_type": "markdown",
   "metadata": {},
   "source": [
    "## Einleitung"
   ]
  },
  {
   "cell_type": "markdown",
   "metadata": {},
   "source": [
    "Auf einer abstrakten Ebene haben Computer vier Hauptaufgaben:\n",
    "1. sie führen Programme aus\n",
    "2. sie speichern Daten\n",
    "3. sie kommunizieren untereinander (Netzwerke) und\n",
    "4. sie interagieren mit uns, den Benutzern\n",
    "\n",
    "Computer können mit uns auf verschiedene Arten interagieren, z.B. mit Spracherkennung (sicherlich die Zukunft), mit einen Touchscreen (Smartphones, Tablets) oder mit Tastatur und Maus.\n",
    "\n",
    "Die Computerinteraktion mit Tastatur und Maus ist heute noch die vorherrschende Methode und diejenige, die die meisten von Ihnen gut kennen. **Grafische Benutzeroberflächen (Graphical User Interfaces oder GUIs)**, wie sie z.B. in dem Betriebssystem `Microsoft Windows` realisiert sind, erlauben es, wesentliche Aktionen (Ausführen von Programmen, Kopieren von Dateien, Anlegen neuer Verzeichnisse/Ordner) mit wenigen Mausklicks durchzuführen. Diese Art der Computerinteraktion ist intuitiv und die Gruindlagen sind sehr einfach und schnell zu erlernen. Dies ist der Hauptgrund für die Beliebtheit und die sehr weite Verbreitung von `Microsoft Windows`. Jedoch werden GUIs sehr schwerfällig und mühsam zu bedienen, wenn eine sehr grosse Anzahl an Eingaben zu tätigen ist - vor allem, wenn diese Eingaben ähnlich und eintönig sind. Betrachten Sie zum Beispiel das Anlegen von 20 oder mehr Ordnern mit ähnlichen Namen wie `Daten_01-05-2019, Daten_02-05-2019, ..., Daten_20-05-2019`.\n",
    "\n",
    "In der Wissenschaft sind im Rahmen eines Forschungsprojektes technische Aufgaben wie die folgende nicht unüblich: *Nimm aus 1000 Textdateien die jeweils dritte Zeile und füge diese Zeilen in einer neuen Datei zusammen.* Mit einer grafischen Benutzeroberfläche sind Aufgaben wie diese oft nicht mit vertretbarem Zeitaufwand zu erledigen.\n",
    "\n",
    "An dieser Stelle kommen **Kommandozeileninterfaces (Command Line Interfaces oder CLIs)** ins Spiel, um sich wiederholende und eintönige Arbeiten schnell und reproduzierbar zu erledigen. Ein CLI nimmt vom Benutzer ein Kommando entgegen und erlaubt dieses beliebig oft zu wiederholen - sei es unverändert oder abgeändert. Die obige Aufgabe mit den 1000 Textdateien ist auf einem `Unix`-CLI spätestens nach ein paar Minuten erledigt.\n",
    "\n",
    "Kern eines CLI ist eine **read-evaluate-print-loop** (zu Deutsch etwa *lese-führe aus-zeige Ergebnis*-Schelife). Das CLI wartet auf ein Benutzerkommando und nach Drücken von `Return` (oder `Enter`) liest die Shell dasselbe. Das Kommando wird ausgeführt, eventuelle Ausgaben werden am Bildschirm angezeigt und das Ganze beginnt von vorne."
   ]
  },
  {
   "cell_type": "markdown",
   "metadata": {},
   "source": [
    "## Die Shell"
   ]
  },
  {
   "cell_type": "markdown",
   "metadata": {},
   "source": [
    "Die Shell ist ein Computerprogramm, das selber Computerprogramme ausführt, Die Shell selber führt keinerlei Berechnungen aus, sondern konzentriert sich darauf, den Umgag mit anderen Programmen für den Nutzer so angenehm und einfach wie möglich zu gestalten. Die auszuführenden Programme können hierbei komplexe wissenschaftliche Analysen sein oder einfache Aufgaben wie das Anlegen eines neuen Verzeichnisses.\n",
    "\n",
    "Unter `Unix/Linux` gibt es viele verschiedene Shellprogramme. Heute ist aber die so-genannte Bourne-Again Shell (oder `bash`; sie ist die Weiterentwicklung einer Shell, die ursprünglich von Stephen Bourne entwickelt wurde) unter `Linux` der Quasistandard."
   ]
  },
  {
   "cell_type": "markdown",
   "metadata": {},
   "source": [
    "Eine Shell präsentiert sich dem Nutzer üblicherweise mit einem so-genannten *Prompt* und einem Cursor, der auf eine Eingabe wartet. Die seht auf meinem System wie folgt aus:\n",
    "\n",
    "```\n",
    "thomas@aibn234:~$\n",
    "```\n",
    "\n",
    "Der Prompt gibt hier Informationen übder den Benutzer (hier `thomas`) und die Maschine, auf der `thomas` arbeitet (hier `aibn234`). Das `$` markiert das Ende des Prompt und dahinter wartet der Cursor auf eine Benutzereingabe. Der Prompt kann bei Ihnen auch ganz anders aussehen und er ist auch vom Benutzer frei konfigurierbar. Hierauf gehen wir an dieser Stelle aber nicht weiter ein."
   ]
  },
  {
   "cell_type": "markdown",
   "metadata": {},
   "source": [
    "<div class=\"alert alert-info\">\n",
    "    <b> Unix-Kommandos innerhalb dieser Notebooks</b>\n",
    "    \n",
    "Innerhalb dieser Notebooks haben Sie innerhalb der bash-Zellen <b>keinen</b> traditionellen Unix-prompt, sondern nur den, auf ein Kommando wartenden, Cursor.\n",
    "Des weiteren müssen Sie zum Ausführen der Zellen <b><code>Shift-Enter</code></b> und nicht einfach nur <b><code>Enter</code></b> wie unter `Unix` tippen.    \n",
    "</div>"
   ]
  },
  {
   "cell_type": "markdown",
   "metadata": {},
   "source": [
    "Probieren wir ein erstes Kommando, das uns den Inhalt des gegenwärtigen Verzeichnisses anzeigt. Zum Ausführen der folgenden Zelle bitte `Shift-Enter` betätigen."
   ]
  },
  {
   "cell_type": "code",
   "execution_count": null,
   "metadata": {},
   "outputs": [],
   "source": [
    "ls   # Das Kommando 'ls' zeigt den Inhalt des gegenwärtigen Verzeichnisses"
   ]
  },
  {
   "cell_type": "markdown",
   "metadata": {},
   "source": [
    "<div class=\"alert alert-warning\">\n",
    "<b>command not found</b>\n",
    "\n",
    "Falls Sie ein Kommando tippen, das die Shell nicht kennt, so bekommen Sie eine entsprechende Fehlermeldung!\n",
    "</div>"
   ]
  },
  {
   "cell_type": "code",
   "execution_count": null,
   "metadata": {},
   "outputs": [],
   "source": [
    "ms   # Das Kommando 'ms' kennt die Shell nicht!"
   ]
  },
  {
   "cell_type": "markdown",
   "metadata": {},
   "source": [
    "## Ist die Benutzung der Shell schwierig?"
   ]
  },
  {
   "cell_type": "markdown",
   "metadata": {},
   "source": [
    "Die Interaktion mit einem Computer über die Shell ist ein komplett anderes Modell als die Nutzung mit einem GUI. Es muss auch klar und ehrlich gesagt werden, dass das Erlernen eines CLI anfangs mit Lernaufwand verbunden ist. Eine GUI präsentiert Ihnen üblicherweise alle Anwendungsmöglichkeiten (z.B. in Menüs) und sie können so lange suchen/klicken, bis Sie finden, was Sie suchen - oder feststellen, dass etwas nicht möglich ist.\n",
    "\n",
    "Bei einem CLI bestehen die Auswahlmöglichkeiten aus Kombinationen von Programmen/Kommandos, Optionen und Parametern. Diese werden Ihnen nicht in einem Menü präsentiert, sondern Sie müssen die wichtigsten lernen und die selteneren bei Bedarf nachschlagen. Allerdings ist ein Grossteil der Arbeit mit wenigen Kommandos durchführbar und dieses Grundwissen wollen wir Ihnen vermitteln. "
   ]
  },
  {
   "cell_type": "markdown",
   "metadata": {},
   "source": [
    "## Flexiblität und Automatisierung"
   ]
  },
  {
   "cell_type": "markdown",
   "metadata": {},
   "source": [
    "Als Gegenleistung für den anfänglichen Lernaufwand bekommen Sie mit der Shell ein Werkzeug, welches Ihnen erlaubt, existierende Programme einfach zu kombinieren und sehr grosse Datenmengen automatisch zu verarbeiten. Immer weiderkehrende Sequenzen von Programmaufrufen können in so-genannte *Shell-Skripte* zusammengefasst und als neues Kommando immer wieder und reproduzierbar ausgeführt werden.\n",
    "\n",
    "Die Shell ist weiterhin die einfachste Möglichkeit, um sich auf anderen Computern einzuloggen und zum Beispiel auf Grossrechern in Datenzentren zu arbeiten. Eine solide Kenntnis der Shell ist heute oft eine Vorrausetzung, um Rechner in entfernten Computerzentren zu verwenden oder Cloud-basierte Dienste effektiv zu nutzen. "
   ]
  },
  {
   "cell_type": "markdown",
   "metadata": {},
   "source": [
    "<div class=\"alert alert-success\">\n",
    "<b>Zum Mitnehmen</b>\n",
    "<ul>\n",
    "    <li> Die Shell ist ein Programm, welches Benutzereingaben entgegennimmt, Programme ausführt und deren Ergebnisse zurück an den Nutzer meldet.</li>\n",
    "    <li> Hauptvorteile der Shell sind ein sehr hohes <b>Aktionen pro Tastenanschlag-Verhältnis</b>, eine sehr umfangreiche Unterstützung, Prozesse reproduzierbar zu automatisieren und die einfache Nutzung anderer Maschinen über ein Computernetzwerk.  </li>\n",
    "    <li> Hauptnachteil der Shell ist ein erhöhter Lern- und Einführungsaufwand gegenüber GUIs. Desweiteren erscheinen Kommandos und Eingabe-Syntax vor allen Anfängern oft sehr kryptisch.</li>\n",
    "</ul>\n",
    "<b> GUIs und CLIs stehen nicht in Konkurrenz zueinander, sondern sie ergänzen sich hervorragend. Sie sollten stets diejenige Methode wählen, die für eine gegebene Aufgabe geeigneter ist. </b>\n",
    "</div>"
   ]
  }
 ],
 "metadata": {
  "kernelspec": {
   "display_name": "Calysto Bash",
   "language": "bash",
   "name": "calysto_bash"
  },
  "language_info": {
   "file_extension": ".sh",
   "help_links": [
    {
     "text": "MetaKernel Magics",
     "url": "https://metakernel.readthedocs.io/en/latest/source/README.html"
    }
   ],
   "mimetype": "text/x-sh",
   "name": "bash",
   "version": "0.2.1"
  }
 },
 "nbformat": 4,
 "nbformat_minor": 2
}
