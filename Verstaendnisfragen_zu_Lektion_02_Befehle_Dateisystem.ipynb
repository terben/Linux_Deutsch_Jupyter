{
 "cells": [
  {
   "cell_type": "markdown",
   "metadata": {},
   "source": [
    "# Verständnisfragen zu Lektion 02_Shell_Befehle_Dateisystem"
   ]
  },
  {
   "cell_type": "markdown",
   "metadata": {},
   "source": [
    "## 1. Verständnisfrage"
   ]
  },
  {
   "cell_type": "markdown",
   "metadata": {},
   "source": [
    "Gegeben sei der Verzeichnisbaum in folgender Figur und das Kommando `pwd` liefere `/home/oliver`."
   ]
  },
  {
   "cell_type": "markdown",
   "metadata": {},
   "source": [
    "<img src=\"figuren/Shell_Befehle_Dateisystem_fig3.png\" style=\"height: 300px;\">"
   ]
  },
  {
   "cell_type": "markdown",
   "metadata": {},
   "source": [
    "Geben Sie *zwei verschiedene* `ls`-Befehle, die die Ausgabe\n",
    "```\n",
    "02-10-2019/     01-10-2019/\n",
    "```\n",
    "liefern. Einer ihrer `ls`-Befehle soll hierbei einen relativen und der andere einen absoluten Pfad als Parameter enthalten."
   ]
  },
  {
   "cell_type": "markdown",
   "metadata": {},
   "source": [
    "## 2. Verständnisfrage"
   ]
  },
  {
   "cell_type": "markdown",
   "metadata": {},
   "source": [
    "Gegeben sei der Verzeichnisbaum der 1. Verständnisaufgabe und `pwd` gebe `/home/oliver`. Was liefern die Befehle:\n",
    "1. `ls ../backup`\n",
    "2. `ls ./backup`\n",
    "3. `ls backup`\n",
    "4. `ls -F .`\n",
    "5. `ls /home/oliver/daten`"
   ]
  },
  {
   "cell_type": "markdown",
   "metadata": {},
   "source": [
    "## 3. Verständnisfrage"
   ]
  },
  {
   "cell_type": "markdown",
   "metadata": {},
   "source": [
    "Gegeben sei der Verzsichnisbaum der 1. Verständnisaufgabe und `pwd` gebe `/home/oliver/backup`. Welche der folgenden Befehle könnte Benutzer `oliver` verwenden, um in sein Heimatverzeichnis `/home/oliver` zu wechseln:\n",
    "1.  `cd .`\n",
    "2. `cd /home/oliver`\n",
    "3. `cd`\n",
    "4. `cd home`\n",
    "5. `cd ~`\n",
    "6. `cd oliver` \n",
    "8. `cd ~/daten/..`\n",
    "9. `cd ..`\n",
    "9. `cd /`\n",
    "10. `cd /home/annika/../oliver`\n",
    "11. Die Befehlssequenz `cd /home` und `cd /oliver`\n",
    "12. Die Befehlssequenz `cd /home` und `cd oliver`"
   ]
  }
 ],
 "metadata": {
  "kernelspec": {
   "display_name": "Calysto Bash",
   "language": "bash",
   "name": "calysto_bash"
  },
  "language_info": {
   "file_extension": ".sh",
   "help_links": [
    {
     "text": "MetaKernel Magics",
     "url": "https://metakernel.readthedocs.io/en/latest/source/README.html"
    }
   ],
   "mimetype": "text/x-sh",
   "name": "bash",
   "version": "0.2.1"
  }
 },
 "nbformat": 4,
 "nbformat_minor": 2
}
