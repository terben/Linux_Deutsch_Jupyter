{
 "cells": [
  {
   "cell_type": "markdown",
   "metadata": {},
   "source": [
    "<!--NAVIGATION-->\n",
    "| [zur Lektion](06_Shell_Shell-Skripte.ipynb) |"
   ]
  },
  {
   "cell_type": "markdown",
   "metadata": {},
   "source": [
    "# Verständnisfragen zu Lektion 06_Shell-Skripte"
   ]
  },
  {
   "cell_type": "markdown",
   "metadata": {},
   "source": [
    "## 1. Verständnisfrage"
   ]
  },
  {
   "cell_type": "markdown",
   "metadata": {},
   "source": [
    "Sie befinden sich in einem Verzeichnis mit vier Textdateien `a.dat`, `a.txt`, `b.dat` und `b.txt`. Andere Dateien gibt es nicht. Erklären Sie, was die folgenden drei Shell-Skripte nach den Aufrufen `bash skript1.sh *.dat *.txt`, `bash skript2.sh *.dat *.txt` und `bash skript3.sh *.dat *.txt` jeweils tun."
   ]
  },
  {
   "cell_type": "markdown",
   "metadata": {},
   "source": [
    "1.\n",
    "```bash\n",
    "# skript1.sh\n",
    "ls *\n",
    "```\n",
    "\n",
    "2.\n",
    "```bash\n",
    "# skript2.sh\n",
    "for DATEI in ${1} ${2}\n",
    "do\n",
    "  cat \"${DATEI}\"\n",
    "done  \n",
    "```\n",
    "\n",
    "3.\n",
    "```bash\n",
    "# skript3.sh\n",
    "wc -l ${@} | sort -g\n",
    "```\n"
   ]
  },
  {
   "cell_type": "markdown",
   "metadata": {},
   "source": [
    "## 2. Verständnisfrage"
   ]
  },
  {
   "cell_type": "markdown",
   "metadata": {},
   "source": [
    "Schreiben Sie ein Shell-Skript `shortest.sh`, welches ein Verzeichnis und eine Dateiendung als Argumente nimmt. Das Skript soll den Namen der kürzesten Datei (Datei mit den wenigsten Zeilen) in diesem Verzeichnis mit der übergebenen Dateiendung auf dem Bildschirm ausgeben. Wir nehmen an, dass alle Dateien Textdateien sind. Falls es mehrere kürzeste Dateien gibt, genügt es *eine davon* auszugeben.\n",
    "\n",
    "**Beispiel:**\n",
    "Der Aufruf `bash shortest.sh /home/annika/Seminar/Planeten_Daten dat` soll den Namen der kürzesten Datei mit der Endung `dat` in `/home/annika/Seminar/Planeten_Daten` ausgeben. "
   ]
  },
  {
   "cell_type": "markdown",
   "metadata": {},
   "source": [
    "## 3. Verständnisfrage"
   ]
  },
  {
   "cell_type": "markdown",
   "metadata": {},
   "source": [
    "Annika hat in Lektion 4 die Vollständigkeit ihrer Beobachtungen überprüft - siehe [hier](04_Shell_Pipelines_und_Filter.ipynb#Annika_Test_Beobachtungen). Die letztendlich wesentlichen Befehle dazu waren:"
   ]
  },
  {
   "cell_type": "code",
   "execution_count": null,
   "metadata": {},
   "outputs": [],
   "source": [
    "cd ~/Bachelor_Arbeit/Beobachtungen"
   ]
  },
  {
   "cell_type": "code",
   "execution_count": null,
   "metadata": {},
   "outputs": [],
   "source": [
    "awk '{print $2}' Beobachtungs_Logdatei.txt | sort | uniq -c | awk '($1 < 10)'"
   ]
  },
  {
   "cell_type": "markdown",
   "metadata": {},
   "source": [
    "Die Pipeline des letzten Befehls filtert diejenigen Kombinationen aus Beobachtungsfeld und Beobachtungskonfiguration, die weniger als 10 Daten haben und nachbeobachtet werden sollen.\n",
    "\n",
    "Annika möchte diese Pipeline in ein Shell-Skript umwandeln, welches das Ergebnis der unvollständigen Beobachtungen nicht auf den Bildschirm ausgibt, sondern in eine Datei speichert. Schreiben Sie dieses Shell-Skript mit Namen `unvollstaendige_Daten.sh`. Skriptargumente sollen die Beobachtungslogdatei und die zu erstellende Ausgabedatei sein. Kommentieren Sie ihr Skript angemessen."
   ]
  },
  {
   "cell_type": "markdown",
   "metadata": {},
   "source": [
    "<!--NAVIGATION-->\n",
    "| [zur Lektion](06_Shell_Shell-Skripte.ipynb) |"
   ]
  }
 ],
 "metadata": {
  "kernelspec": {
   "display_name": "Calysto Bash",
   "language": "bash",
   "name": "calysto_bash"
  },
  "language_info": {
   "file_extension": ".sh",
   "help_links": [
    {
     "text": "MetaKernel Magics",
     "url": "https://metakernel.readthedocs.io/en/latest/source/README.html"
    }
   ],
   "mimetype": "text/x-sh",
   "name": "bash",
   "version": "0.2.1"
  }
 },
 "nbformat": 4,
 "nbformat_minor": 2
}
