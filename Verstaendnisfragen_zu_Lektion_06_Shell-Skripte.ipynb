{
 "cells": [
  {
   "cell_type": "markdown",
   "metadata": {},
   "source": [
    "# Verständnisfragen zu Lektion 06_Shell-Skripte"
   ]
  },
  {
   "cell_type": "markdown",
   "metadata": {},
   "source": [
    "## 1. Verständnisfrage"
   ]
  },
  {
   "cell_type": "markdown",
   "metadata": {},
   "source": [
    "Sie befinden sich in einem Verzeichnis mit vier Textdateien `a.dat`, `b.txt`, `b.dat` und `b.txt`. Andere Dateien gibt es nicht. Erklären Sie, was die folgenden drei Shell-Skripte nach den Aufrufen `bash skript1.sh *.dat *.txt`, `bash skript2.sh *.dat *.txt` und `bash skript3.sh *.dat *.txt` jeweils tun."
   ]
  },
  {
   "cell_type": "markdown",
   "metadata": {},
   "source": [
    "1.\n",
    "```bash\n",
    "# skript1.sh\n",
    "ls *\n",
    "```\n",
    "\n",
    "2.\n",
    "```bash\n",
    "# skript2.sh\n",
    "for DATEI in ${1} ${2}\n",
    "  cat \"${DATEI}\"\n",
    "done  \n",
    "```\n",
    "\n",
    "3.\n",
    "```bash\n",
    "# skript3.sh\n",
    "wc -l ${@} | head -n -1 | sort -g\n",
    "```\n"
   ]
  },
  {
   "cell_type": "markdown",
   "metadata": {},
   "source": [
    "## 2. Verständnisfrage"
   ]
  },
  {
   "cell_type": "markdown",
   "metadata": {},
   "source": [
    "Schreiben Sie ein Shell-Skript `longest.sh`, welches ein Verzeichnis und eine Dateiendung als Argumente nimmt. Das Skript soll den Namen der längsten Datei in diesem Verzeichnis mit der übergebenen Dateiendung auf dem Bildschirm ausgeben. Wir nehmen an, dass alle Dateien Textdateien sind.\n",
    "\n",
    "**Beispiel:**\n",
    "Der Aufruf `bash longest.sh /home/annika/Seminar/Planeten_Daten dat` soll den Namen der längsten Datei mit der Endung `dat` in `/home/annika/Seminar/Planeten_Daten` ausgeben. "
   ]
  }
 ],
 "metadata": {
  "kernelspec": {
   "display_name": "Calysto Bash",
   "language": "bash",
   "name": "calysto_bash"
  },
  "language_info": {
   "file_extension": ".sh",
   "help_links": [
    {
     "text": "MetaKernel Magics",
     "url": "https://metakernel.readthedocs.io/en/latest/source/README.html"
    }
   ],
   "mimetype": "text/x-sh",
   "name": "bash",
   "version": "0.2.1"
  }
 },
 "nbformat": 4,
 "nbformat_minor": 2
}
