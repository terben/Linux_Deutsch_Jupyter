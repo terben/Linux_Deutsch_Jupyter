{
 "cells": [
  {
   "cell_type": "markdown",
   "metadata": {},
   "source": [
    "# Operationen mit Dateien und Verzeichnissen unter `Unix`"
   ]
  },
  {
   "cell_type": "markdown",
   "metadata": {},
   "source": [
    "## Was behandeln wir in diesem Notebook / Lernziele"
   ]
  },
  {
   "cell_type": "markdown",
   "metadata": {},
   "source": [
    "<div class=\"alert alert-success\">\n",
    "<ul>\n",
    "    <li> Wie werden Dateien und Verzeichnisse erzeugt, kopiert und gelöscht.</li>\n",
    "    <li> Wie erkenne/erkunde ich den Inhalt einer Datei.</li>\n",
    "    <li> Was sind Wildcards und wie benutze ich sie.</li>\n",
    "</ul>\n",
    "</div>"
   ]
  },
  {
   "cell_type": "markdown",
   "metadata": {},
   "source": [
    "## Verzeichnisse erstellen"
   ]
  },
  {
   "cell_type": "markdown",
   "metadata": {},
   "source": [
    "Wir haben [in der letzten Lektion](02_Shell_Befehle_Dateisystem.ipynb) gesehen, wie wir die Verzeichnisstruktur und den Inhalt von Verzeichnissen erkunden können. Wie schauen uns nun an, wie wir Dateien und Verzeichnisse erzeugen können."
   ]
  },
  {
   "cell_type": "code",
   "execution_count": null,
   "metadata": {},
   "outputs": [],
   "source": [
    "pwd   # Hier sollten wir in Annikas Heimatverzeichnis sein\n",
    "cd Bachelor_Arbeit\n",
    "ls -F"
   ]
  },
  {
   "cell_type": "markdown",
   "metadata": {},
   "source": [
    "Annika möchte einige erste Gedanken zum Aufbau Ihrer Bachelorarbeit aufschreiben. Sie legt hierzu mit dem Befehl `mkdir` (make directory) einen neuen Ordner `thesis` an."
   ]
  },
  {
   "cell_type": "code",
   "execution_count": null,
   "metadata": {},
   "outputs": [],
   "source": [
    "mkdir thesis  # Lege ein neues Verzeichnis 'thesis' im gegenwärtigen Verzeichnis an"
   ]
  },
  {
   "cell_type": "markdown",
   "metadata": {},
   "source": [
    "Beachten Sie, dass `thesis` innerhalb des gegenwärtigen Verzeichnisses angelegt wird, da es ein relativer Pfad ist!"
   ]
  },
  {
   "cell_type": "code",
   "execution_count": null,
   "metadata": {},
   "outputs": [],
   "source": [
    "ls -F"
   ]
  },
  {
   "cell_type": "markdown",
   "metadata": {},
   "source": [
    "<div class=\"alert alert-info\">\n",
    "    <b> Shell und Grafische Benutzeroberfläche</b>\n",
    "\n",
    "Es sei an dieser Stelle noch einmal darauf hingewiesen, dass es sich bei CLI und GUI um *zwei verschiedene Arten* handelt, um mit einem Computer zu interagieren. Die Dateien, Verzeichnisse und alle anderen Objekte, die mit einem CLI oder einem GUI bearbeitet werden, sind aber *die selben*! So würde es im gegebenem Fall für das erzeugte Verzeichnis <code>thesis</code> keinen Unterschied machen, wenn es mit einem grafischen Dateimanager erstellt worden wäre. Mit <code>mkdir</code> in der Shell erzeugte Verzeichnisse erscheinen in Ihrem Dateimanager. Ebenso können Sie z.B. auch mit <code>ls</code> alle Dateien/Verzeichnisse sehen, die Sie mit einem Dateimanager erstellen und bearbeiten.\n",
    "</div>"
   ]
  },
  {
   "cell_type": "markdown",
   "metadata": {},
   "source": [
    "<img src=\"figuren/Shell_Dateien_Verzeichnisoperationen_fig1.png\" style=\"height: 350px;\">"
   ]
  },
  {
   "cell_type": "code",
   "execution_count": null,
   "metadata": {},
   "outputs": [],
   "source": []
  }
 ],
 "metadata": {
  "kernelspec": {
   "display_name": "Calysto Bash",
   "language": "bash",
   "name": "calysto_bash"
  },
  "language_info": {
   "file_extension": ".sh",
   "help_links": [
    {
     "text": "MetaKernel Magics",
     "url": "https://metakernel.readthedocs.io/en/latest/source/README.html"
    }
   ],
   "mimetype": "text/x-sh",
   "name": "bash",
   "version": "0.2.1"
  }
 },
 "nbformat": 4,
 "nbformat_minor": 2
}
