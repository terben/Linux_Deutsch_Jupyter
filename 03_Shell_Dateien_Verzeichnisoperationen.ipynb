{
 "cells": [
  {
   "cell_type": "markdown",
   "metadata": {},
   "source": [
    "<!--NAVIGATION-->\n",
    "< [Vorherige Lektion](02_Shell_Befehle_Dateisystem.ipynb) || [Verständnisfragen zu dieser Lektion](Verstaendnisfragen_zu_Lektion_03_Dateien_Verzeichnisoperationen.ipynb) || [Nächste Lektion](04_Shell_Pipelines_und_Filter.ipynb) >"
   ]
  },
  {
   "cell_type": "markdown",
   "metadata": {},
   "source": [
    "# Operationen mit Dateien und Verzeichnissen unter `Unix`"
   ]
  },
  {
   "cell_type": "markdown",
   "metadata": {},
   "source": [
    "## Was behandeln wir in diesem Notebook / Lernziele"
   ]
  },
  {
   "cell_type": "markdown",
   "metadata": {},
   "source": [
    "<div class=\"alert alert-success\">\n",
    "<ul>\n",
    "    <li> Wie werden Dateien und Verzeichnisse erzeugt, kopiert und gelöscht?</li>\n",
    "    <li> Textdateien und Texteditoren unter <code>Unix</code>.</li>\n",
    "    <li> Was sind Wildcards und wie benutze ich sie?</li>\n",
    "</ul>\n",
    "\n",
    "<b> Zeitaufwand für diese Lektion: </b> \n",
    "<ul>\n",
    "    <li> Durcharbeiten des Textes: 40 min</li>\n",
    "    <li> Verständnisfragen: 20 min</li>\n",
    "</ul>\n",
    "</div>"
   ]
  },
  {
   "cell_type": "markdown",
   "metadata": {},
   "source": [
    "## Verzeichnisse erstellen"
   ]
  },
  {
   "cell_type": "markdown",
   "metadata": {},
   "source": [
    "Wir haben [in der letzten Lektion](02_Shell_Befehle_Dateisystem.ipynb) gesehen, wie wir die Verzeichnisstruktur und den Inhalt von Verzeichnissen erkunden können. Wir schauen uns nun an, wie wir Dateien und Verzeichnisse erzeugen können."
   ]
  },
  {
   "cell_type": "code",
   "execution_count": null,
   "metadata": {},
   "outputs": [],
   "source": [
    "pwd   # Hier sollten wir in Annikas Heimatverzeichnis sein\n",
    "cd Bachelor_Arbeit\n",
    "ls -F"
   ]
  },
  {
   "cell_type": "markdown",
   "metadata": {},
   "source": [
    "Annika möchte einige erste Gedanken zum Aufbau ihrer Bachelorarbeit aufschreiben. Sie legt hierzu mit dem Befehl `mkdir` (make directory) einen neuen Ordner `thesis` an."
   ]
  },
  {
   "cell_type": "code",
   "execution_count": null,
   "metadata": {},
   "outputs": [],
   "source": [
    "mkdir thesis  # Lege ein neues Verzeichnis 'thesis' im gegenwärtigen Verzeichnis an"
   ]
  },
  {
   "cell_type": "markdown",
   "metadata": {},
   "source": [
    "Beachten Sie, dass `thesis` innerhalb des gegenwärtigen Verzeichnisses angelegt wird, da es ein relativer Pfad ist! `mkdir` ist wieder ein *ruhiger* Befehl, der seine Arbeit ohne Rückmeldung erledigt. Wir können es aber mit `ls` überprüfen:"
   ]
  },
  {
   "cell_type": "code",
   "execution_count": null,
   "metadata": {},
   "outputs": [],
   "source": [
    "ls -F"
   ]
  },
  {
   "cell_type": "markdown",
   "metadata": {},
   "source": [
    "Wir sehen uns weiter unten an, wie man Verzeichnisse löschen kann."
   ]
  },
  {
   "cell_type": "markdown",
   "metadata": {},
   "source": [
    "<div class=\"alert alert-info\">\n",
    "    <b> Shell und Grafische Benutzeroberfläche</b>\n",
    "\n",
    "Es sei an dieser Stelle noch einmal darauf hingewiesen, dass es sich bei CLI und GUI um *zwei verschiedene Arten* handelt, um mit einem Computer zu interagieren. Die Dateien, Verzeichnisse und alle anderen Objekte, die mit einem CLI oder einem GUI bearbeitet werden, sind aber *die selben*! So würde es im gegebenem Fall für das erzeugte Verzeichnis <code>thesis</code> keinen Unterschied machen, wenn es mit einem grafischen Dateimanager erstellt worden wäre. Mit <code>mkdir</code> in der Shell erzeugte Verzeichnisse erscheinen in Ihrem Dateimanager. Ebenso können Sie z.B. auch mit <code>ls</code> alle Dateien/Verzeichnisse sehen, die Sie mit einem Dateimanager erstellen und bearbeiten.\n",
    "</div>"
   ]
  },
  {
   "cell_type": "markdown",
   "metadata": {},
   "source": [
    "<div class=\"alert alert-info\">\n",
    "    <b> (Gute) Namen für Dateien und Verzeichnisse</b>\n",
    "\n",
    "Für die Arbeit mit der Shell möchte ich Ihnen von Anfang an einige Grundregeln/Ratschläge für Datei- und Verzeichnisnamen an die Hand geben. Dies hilft Ihnen, vor allem als Anfänger, gewisse Probleme zu vermeiden:\n",
    "- Die meines Erachtens <b>wichtigste Regel</b>:Vermeiden Sie *Leerzeichen* in Datei- und Verzeichnisnamen! Sie haben bereits gesehen, dass die Shell Leerzeichen verwendet, um Kommandos, Optionen und Parameter voneinander abzutrennen. Sie können sich daher denken, dass Leerzeichen in Dateinamen hier zu Verwirrungen führen können. Die hiermit verbundenen möglichen Fehler sind sehr subtil und vor allem für Anfänger <b>sehr</b> schwer zu finden. Wenn Sie einen Worttrenner benötigen, so verwenden Sie den Underscore <code>\\_</code> oder den Bindestrich <code>-</code>. Aus diesem Grund heißt Annikas Verzeichnis auch <code>/home/annika/Bachelor_Arbeit</code> und nicht etwa <code>/home/annika/Bachelor Arbeit</code>. Auf die Techniken, die notwendig werden, um Datei- und Verzeichnisnamen mit Leerzeichen <i>korrekt</i> zu behandeln, werden wir in diesem Tutorial nicht eingehen.\n",
    "- Vermeiden Sie Dateinamen, die mit einem Bindestrich <code>-</code> beginnen. Der Bindestrich dient als Einleitung von Optionen und führt daher als erstes Zeichen bei Datei- und Verzeichnisnamen ebenfalls zu Problemen.\n",
    "- Vermeiden Sie deutsche Umlaute in Dateinamen. Vor allem an Universitäten ist es üblich, dass viele <code>Unix</code>-Rechner mit englischen Spracheinstellungen konfiguriert und mit englischen Tastaturen ausgestattet sind. Hier haben Sie u.U. Probleme, an Ihre Dateien überhaupt heranzukommen!\n",
    "</div>"
   ]
  },
  {
   "cell_type": "markdown",
   "metadata": {},
   "source": [
    "## Einschub: Textdateien und Texteditoren"
   ]
  },
  {
   "cell_type": "markdown",
   "metadata": {},
   "source": [
    "Dateien werden unter `Unix` ähnlich erzeugt und bearbeitet wie unter `Microsoft Windows`. Aus Anwendersicht sind primäre Quellen für neue Dateien Programminstallationen, Ausgaben und Ergebnisse von Programmen (z.B. ein Dokument, das mit `Word` erstellt wurde oder ein Video, das mit der WebCam aufgenommen wurde) oder etwa ein Download aus dem Internet. Auch gängige Dateitypen aus der `Windows`-Welt (z.B. `PDF`-Dokumente oder `mp3` Audio-Dateien) finden sich so unter `Unix` wieder."
   ]
  },
  {
   "cell_type": "markdown",
   "metadata": {},
   "source": [
    "Ein Dateityp spielt allerdings in der `Windows`-Welt aus Anwendersicht nur eine sehr untergeordnete Rolle - wenn überhaupt -, ist aber in der `Unix`-Welt zentral. Es handelt sich um *einfache Textdateien*. Dieser Dateityp kann die Zeichen der Tastatur im Klartext darstellen. Es enthält jedoch z.B. keinerlei Grafiken oder Fontformatierungen. Dieser Dateityp ist unter `Unix` allgegenwärtig (z.B. in sämtlichen Konfigurationsdateien, Programmquellcodes, $\\LaTeX$-Quellcode, wissenschaftliche Datentabellen) und jeder Anwender muss wissen, wie er Textdateien behandeln und bearbeiten kann. Dateien dieses Typs haben meist die Endung `.txt`. Ein Großteil der restlichen Lektionen dieses Tutorials wird sich damit befassen, Textdateien *effektiv* zu bearbeiten."
   ]
  },
  {
   "cell_type": "markdown",
   "metadata": {},
   "source": [
    "Um Textdateien manuell zu erstellen, benötigt man einen *Texteditor*. Wegen der zentralen Rolle der Textdateien unter `Unix` ist die Zahl der verfügbaren *hervorragenden* Texteditoren *sehr hoch*. Sehr weit verbreitete und *außerordentlich mächtige* Editoren sind z.B. `vi` und `emacs`. Diese benötigen allerdings einige Einarbeitungszeit und sind daher bei Anfängern oft nicht erste Wahl. Sobald Sie Ihre ersten Schritte unter `Unix` gegangen sind, sollten Sie mehrere Editoren ausprobieren und denjenigen verwenden, der Ihnen am besten gefällt. In diesem Tutorial stellen wir Ihnen den Texteditor `nano` vor, da seine Bedienung sehr einfach ist."
   ]
  },
  {
   "cell_type": "markdown",
   "metadata": {},
   "source": [
    "`nano` ist eines der Programme, das SIe nicht hier in einer Notebook-Befehlszelle ausführen können, sondern in einem `Linux`-Terminal ausführen müssen - siehe [hier](00_Wie_bearbeite_ich_dieses_Tutorial.ipynb#Figur_Lektion_Terminal).\n",
    "Nachdem SIe den Editor im Terminal mit dem Befehl `nano` gestartet haben, verwandelt sich das Terminalfenster in den Editor-Modus. Sie können erst wieder neue Befehle im Terminal eingeben, sobald Sie den Editor verlassen. Wie erwartet können Sie Text eingeben und sich mit den Cursortasten im Text bewegen. Zum Schluss können Sie mit der Tastenkombination `Ctrl-o`\n",
    "(Control-Taste und o) einen Dateinamen auswählen, den Text darin speichern und den Editor mit `Ctrl-x` (Control und x) verlassen. Mögliche weitere Kommandos in Verbindung mit der Control-Taste während des Editiermodus befinden sich in der Fußzeile des Editors - siehe auch folgende Figur. "
   ]
  },
  {
   "cell_type": "markdown",
   "metadata": {},
   "source": [
    "<img src=\"figuren/Shell_Dateien_Verzeichnisoperationen_fig1.png\" style=\"height: 350px;\">"
   ]
  },
  {
   "cell_type": "markdown",
   "metadata": {},
   "source": [
    "## Dateien *bewegen* (umbenennen/verschieben)"
   ]
  },
  {
   "cell_type": "markdown",
   "metadata": {},
   "source": [
    "Annika schreibt innerhalb des gerade angelegten Ordners `thesis` mit `nano` einige Zeilen in eine Textdatei `draft.txt`"
   ]
  },
  {
   "cell_type": "code",
   "execution_count": null,
   "metadata": {},
   "outputs": [],
   "source": [
    "cd ~/Bachelor_Arbeit/thesis\n",
    "# nano   # ist hier nicht auführbar; wenn Sie wollen,\n",
    "         # schreiben Sie über das Terminal mit nano\n",
    "         # einige Zeilen in\n",
    "         # ~/Bachelor_Arbeit/thesis/draft.txt"
   ]
  },
  {
   "cell_type": "markdown",
   "metadata": {},
   "source": [
    "Der folgende Befehl `touch` erzeugt eine *leere* Datei, wenn sie noch nicht existiert. Wenn sie schon existiert, hat er keinen wesentlichen Effekt. Damit können Sie das Tutorial an dieser Stelle einfach weiterverfolgen, wenn Sie `nano` erst an späterer Stelle erkunden wollen."
   ]
  },
  {
   "cell_type": "code",
   "execution_count": null,
   "metadata": {},
   "outputs": [],
   "source": [
    "touch draft.txt  # erzeugt ggf. eine leere Datei draft.txt\n",
    "ls -ltr          # teste, dass die Datei draft.txt vorhanden\n",
    "                 # ist."
   ]
  },
  {
   "cell_type": "markdown",
   "metadata": {},
   "source": [
    "<a id='Annika_draft'></a>\n",
    "Nachdem Annika die Datei erstellt hat, beschließt sie, dieser einen neuen Namen zu geben. Hierzu dient der Befehl `mv` (move). Für Demonstrationszwecke führen wir den Befehl im Elternverzeichnis von `thesis` aus:"
   ]
  },
  {
   "cell_type": "code",
   "execution_count": null,
   "metadata": {},
   "outputs": [],
   "source": [
    "cd ..\n",
    "pwd   # Hier sollten Sie in Bachelor_Arbeit sein"
   ]
  },
  {
   "cell_type": "code",
   "execution_count": null,
   "metadata": {},
   "outputs": [],
   "source": [
    "mv thesis/draft.txt thesis/kapitel.txt\n",
    "    # benenne Datei draft.txt in kapitel.txt um"
   ]
  },
  {
   "cell_type": "markdown",
   "metadata": {},
   "source": [
    "Der erste Parameter von `mv` besagt hier, *was* *bewegt* werden soll und der zweite *wohin*. Im vorliegenden Fall bewegen wir die Datei `thesis/draft.txt` nach `thesis/kapitel.txt`, was effektiv eine *Umbenennung* der Datei ist. Das Ergebnis können wir, wie gehabt, mit `ls` überprüfen."
   ]
  },
  {
   "cell_type": "code",
   "execution_count": null,
   "metadata": {},
   "outputs": [],
   "source": [
    "ls thesis"
   ]
  },
  {
   "cell_type": "markdown",
   "metadata": {},
   "source": [
    "<div class=\"alert alert-danger\">\n",
    "    <b> Vorsicht bei <code>mv</code>!</b>\n",
    "\n",
    "<code>mv</code> ist wieder ein <i>ruhiger</i> Befehl, der seine Arbeit ohne Rückmeldung an den Nutzer verrichtet. Insbesondere <b>überschreibt</b> er Zieldateien, wenn sie schon existieren! Wenn SIe auf Nummer sicher gehen wollen, verwenden Sie <code>mv -i</code>. Dir Option <code>-i</code> fragt ggf. nach, bevor bereits existierende Dateien überschrieben werden.\n",
    "\n",
    "Änliches gilt für alle Dateimanipulationsbefehle in dieser Lektion!\n",
    "</div>"
   ]
  },
  {
   "cell_type": "markdown",
   "metadata": {},
   "source": [
    "`mv` nimmt nicht nur Dateien, sondern auch Verzeichnisse als Argumente. Wir wollen dies nutzen, um die Datei `thesis/kapitel.txt` in das gegenwärtige Verzeichnis zu *bewegen*, bzw. zu verschieben. Beachten Sie im folgenden Befehl das zweite Argument von `mv`. Es ist das Verzeichnis, in das die Datei (erstes Argument) verschoben werden soll. Da das Zielverzeichnis das gegenwärtige Verzeichnis ist, können wir hierzu das Kürzel `.` verwenden - siehe hierzu ggf. noch einmal [die letzte Lektion](02_Shell_Befehle_Dateisystem.ipynb#Kuerzel_Eltern_gegenw_Verzeichnis)."
   ]
  },
  {
   "cell_type": "code",
   "execution_count": null,
   "metadata": {},
   "outputs": [],
   "source": [
    "mv thesis/kapitel.txt .  # verschiebe thesis/kapitel.txt\n",
    "                         # ins gegenwärtige Verzeichnis"
   ]
  },
  {
   "cell_type": "markdown",
   "metadata": {},
   "source": [
    "Überprüfen wir mit `ls`, dass die Datei jetzt im gegenwärtigem Verzeichnis ist und dass `thesis` *leer* ist."
   ]
  },
  {
   "cell_type": "code",
   "execution_count": null,
   "metadata": {},
   "outputs": [],
   "source": [
    "ls thesis   # thesis sollte hier leer sein"
   ]
  },
  {
   "cell_type": "markdown",
   "metadata": {},
   "source": [
    "Man kann `ls` auch Dateinamen als Parameter übergeben. Wie zu erwarten, führt dies zur Auflistung der entsprechenden Dateien."
   ]
  },
  {
   "cell_type": "code",
   "execution_count": null,
   "metadata": {},
   "outputs": [],
   "source": [
    "ls kapitel.txt  # pruefe, dass kapitel.txt im gegenwärtigem\n",
    "                # Verzeichnis ist"
   ]
  },
  {
   "cell_type": "markdown",
   "metadata": {},
   "source": [
    "## Dateien und Verzeichnisse kopieren"
   ]
  },
  {
   "cell_type": "markdown",
   "metadata": {},
   "source": [
    "Um Dateien/Verzeichnisse zu kopieren, benutzen wir den Befehl `cp` (copy). Seine Syntax ist ähnlich zu `mv`, nur dass Objekte hier *kopiert*, anstatt *bewegt* werden.\n",
    "\n",
    "Das folgende Beispiel sollte damit klar sein. Beachten Sie, dass man Befehlen wie `ls` auch *mehrere* Pfade auf einmal geben kann. Wie zu erwarten, erzeugt dies ein Listing aller angegebenen Pfade."
   ]
  },
  {
   "cell_type": "code",
   "execution_count": null,
   "metadata": {},
   "outputs": [],
   "source": [
    "cp kapitel.txt thesis/kapitel_01_10_2019.txt\n",
    "ls kapitel.txt thesis/kapitel_01_10_2019.txt"
   ]
  },
  {
   "cell_type": "markdown",
   "metadata": {},
   "source": [
    "`cp` erlaubt auch die Kopie eines Verzeichnisses *inklusive des gesamten Verzeichnisbaums unterhalb dieses Verzeichnisses*. Hierzu ist die Option `-r` (recursive) zu benutzen: "
   ]
  },
  {
   "cell_type": "code",
   "execution_count": null,
   "metadata": {},
   "outputs": [],
   "source": [
    "cp -r thesis thesis_backup\n",
    "ls thesis thesis_backup"
   ]
  },
  {
   "cell_type": "markdown",
   "metadata": {},
   "source": [
    "## Dateien und Verzeichnisse löschen"
   ]
  },
  {
   "cell_type": "markdown",
   "metadata": {},
   "source": [
    "Die letzte wesentliche Operation mit Dateien und Verzeichnissen ist, sie wieder los zu werden. Hierzu dient der Befehl `rm` (remove). Wir wollen den Befehl dazu nutzen, nicht mehr benötigte Dateien und Verzeichnisse wieder zu entfernen."
   ]
  },
  {
   "cell_type": "code",
   "execution_count": null,
   "metadata": {},
   "outputs": [],
   "source": [
    "ls kapitel.txt # Die Datei kapitel.txt sollte hier vorhanden sein"
   ]
  },
  {
   "cell_type": "code",
   "execution_count": null,
   "metadata": {},
   "outputs": [],
   "source": [
    "rm kapitel.txt # entferne Datei kapitel.txt"
   ]
  },
  {
   "cell_type": "code",
   "execution_count": null,
   "metadata": {},
   "outputs": [],
   "source": [
    "ls kapitel.txt # dies sollte jetzt eine Fehlermeldung\n",
    "               # erzeugen"
   ]
  },
  {
   "cell_type": "markdown",
   "metadata": {},
   "source": [
    "<div class=\"alert alert-danger\">\n",
    "    <b><code>rm</code> ist endgültig!</b>\n",
    "\n",
    "Es sei noch einmal betont, dass auch <code>rm</code> seine Aktionen <b>ruhig</b> und <b>ohne Rückmeldungen</b> ausführt!\n",
    "\n",
    "Falls Sie auf Nummer sicher gehen wollen, sollten Sie, ähnlich wie bei <code>mv</code>, die Option <code>-i</code> verwenden, um vor dem Löschen von Dateien noch einmal gefragt zu werden.\n",
    "\n",
    "Beachten Sie auch, dass <code>rm</code> <b>endgültig</b> ist! Es gibt keinen <i>Papierkorb</i>, aus dem irrtümlich gelöschte Dateien wieder hergestellt werden können!\n",
    "</div>"
   ]
  },
  {
   "cell_type": "markdown",
   "metadata": {},
   "source": [
    "Um Verzeichnisse samt deren Inhalt zu löschen, müssen Sie bei `rm` die Option `-r` (recursive) verwenden."
   ]
  },
  {
   "cell_type": "code",
   "execution_count": null,
   "metadata": {},
   "outputs": [],
   "source": [
    "ls thesis_backup  "
   ]
  },
  {
   "cell_type": "code",
   "execution_count": null,
   "metadata": {},
   "outputs": [],
   "source": [
    "rm thesis_backup  # gibt eine Fehlermeldung; Option -r\n",
    "                  # ist zum Löschen von Verzeichnissen\n",
    "                  # notwendig"
   ]
  },
  {
   "cell_type": "code",
   "execution_count": null,
   "metadata": {},
   "outputs": [],
   "source": [
    "rm -r thesis_backup  # löscht thesis_backup samt\n",
    "                     # seinem hesamtem Inhalt!"
   ]
  },
  {
   "cell_type": "code",
   "execution_count": null,
   "metadata": {},
   "outputs": [],
   "source": [
    "ls thesis_backup  # dies führt jetzt zu einer Fehlermeldung"
   ]
  },
  {
   "cell_type": "markdown",
   "metadata": {},
   "source": [
    "## Operationen mit mehreren Dateien / Verzeichnissen"
   ]
  },
  {
   "cell_type": "markdown",
   "metadata": {},
   "source": [
    "Oft möchte man mehrere Dateien auf einmal verschieben oder kopieren. Ein typischer Anwendungsfall ist z.B. das Verschieben aller Bilddateien mit einer Endung `.jpg` in ein Unterverzeichnis `figuren`."
   ]
  },
  {
   "cell_type": "markdown",
   "metadata": {},
   "source": [
    "Annika möchte anfangen, ihre Beobachtungen zu überprüfen - siehe [hier in der Einführung](). Anstatt dies sofort mit allen 500 Datensätzen zu tun, beschließt sie, ihre Tests mit 20-30 Dateien aufzusetzen und zu testen. Die Rohdaten befinden sich in `~/Bachelor_Arbeit/Beobachtungen/raw` "
   ]
  },
  {
   "cell_type": "code",
   "execution_count": null,
   "metadata": {},
   "outputs": [],
   "source": [
    "cd ~/Bachelor_Arbeit/Beobachtungen/raw\n",
    "ls"
   ]
  },
  {
   "cell_type": "markdown",
   "metadata": {},
   "source": [
    "Die ca. 500 Datensätze folgen dem Namensschema `xxxxxxr.txt`, wobei jedes `x` für eine Zahl zwischen 0 und 9 steht. Annika möchte ungefähr 30 dieser Dateien in einen Unterordner `test` kopieren und dort mit ihnen arbeiten."
   ]
  },
  {
   "cell_type": "code",
   "execution_count": null,
   "metadata": {},
   "outputs": [],
   "source": [
    "mkdir test   # erstelle Unterordner für erste Tests"
   ]
  },
  {
   "cell_type": "markdown",
   "metadata": {},
   "source": [
    "Annika kann zwei Dinge tun, um ihren Testdatensatz zu erstellen:\n",
    "- Sie kann mehrere Dateien an einen `cp`-Befehl übergeben"
   ]
  },
  {
   "cell_type": "code",
   "execution_count": null,
   "metadata": {},
   "outputs": [],
   "source": [
    "cp 695833r.txt 695834r.txt 695835r.txt test\n",
    "   # Kopiere drei Datensätze nach test"
   ]
  },
  {
   "cell_type": "markdown",
   "metadata": {},
   "source": [
    "Dieses Vorgehen ist für wenige Dateien sinnvoll, aber ab einer gewissen Anzahl nicht mehr praktikabel!"
   ]
  },
  {
   "cell_type": "markdown",
   "metadata": {},
   "source": [
    "- Sie kann so-genannte *Wildcards* oder *Jokerzeichen* verwenden. Dabei beschränken wir uns in diesem Tutorial auf die Zeichen Asterisk `*` und Fragezeichen `?`. Tauchen sie in der Shell bei Datei- und Verzeichnisnamen auf, so sprechen sie alle Dateien/Verzeichnisse an, die bestimmten Mustern folgen. Der `*` steht hierbei für *beliebig viele beliebige* Zeichen. Das Fragezeichen steht für *genau ein beliebiges* Zeichen. Am besten wird dies in Beispielen klar."
   ]
  },
  {
   "cell_type": "code",
   "execution_count": null,
   "metadata": {},
   "outputs": [],
   "source": [
    "ls 69583*txt  # liste alle Dateien, die mit den Zeichen\n",
    "              # 69583 beginnen und mit txt enden.    "
   ]
  },
  {
   "cell_type": "code",
   "execution_count": null,
   "metadata": {},
   "outputs": [],
   "source": [
    "ls *34r.txt    # liste alle Dateien, die auf 34r.txt\n",
    "               # enden."
   ]
  },
  {
   "cell_type": "code",
   "execution_count": null,
   "metadata": {},
   "outputs": [],
   "source": [
    "ls *34*r.txt   # liste alle Dateien, die irgendwo die\n",
    "               # Zeichenkette 34 enthalten und auf\n",
    "               # r.txt enden"
   ]
  },
  {
   "cell_type": "code",
   "execution_count": null,
   "metadata": {},
   "outputs": [],
   "source": [
    "ls 695??3r.txt # liste alle Dateien, die mit 695\n",
    "               # anfangen, danach zwei beliebige Zeichen\n",
    "               # und mit 3r.txt enden"
   ]
  },
  {
   "cell_type": "code",
   "execution_count": null,
   "metadata": {},
   "outputs": [],
   "source": [
    "ls 71?74?r.txt # liste alle Dateien, die mit 71\n",
    "               # anfangen, dann ein beliebiges Zeichen,\n",
    "               # danach 74 gefolgt von einem beliebigem\n",
    "               # Zeichen und dem Abschluss r.txt"
   ]
  },
  {
   "cell_type": "code",
   "execution_count": null,
   "metadata": {},
   "outputs": [],
   "source": [
    "ls *11?8*r.txt # Kombination aus * und ? Wildcards"
   ]
  },
  {
   "cell_type": "markdown",
   "metadata": {},
   "source": [
    "Hiermit ist die Aufgabe, 20-30 Dateien auszuwählen und in `test` zu kopieren, schnell erledigt:"
   ]
  },
  {
   "cell_type": "code",
   "execution_count": null,
   "metadata": {},
   "outputs": [],
   "source": [
    "cp 69583?r.txt test\n",
    "cp 7154* test\n",
    "ls test"
   ]
  },
  {
   "cell_type": "markdown",
   "metadata": {},
   "source": [
    "<div class=\"alert alert-success\">\n",
    "<b>Zum Mitnehmen</b>\n",
    "<ul>\n",
    "    <li> <code>mkdir pfad</code> erstellt ein neues Verzeichnis.</li>\n",
    "    <li> <code>cp alt neu</code> kopiert eine Datei.</li>\n",
    "    <li> <code>mv alt neu</code> bewegt eine Datei (verschiebt / bennent um). </li>\n",
    "    <li> <code>rm datei</code> löscht eine Datei.</li>\n",
    "    <li> Das Löschen von Dateien ist <b>endgültig</b>!</li>\n",
    "    <li> <code>*</code> steht für <i>beliebig viele beliebige</i> Zeichen in einem Dateinamen. Zum Beispiel steht <code>*.txt</code> für alle Dateien, die auf <code>.txt</code> enden.</li>\n",
    "    <li> <code>?</code> steht für <i>genau ein beliebiges</i> Zeichen in einem Dateinamen. So wird die Datei <code>a.txt</code> von <code>?.txt</code> erfasst. Die Datei <code>abc.txt</code> jedoch nicht. </li>\n",
    "    <li> Sie benötigen für die Arbeit mit Textdateien unter <code>Unix</code> einen Texteditor.</li>\n",
    "</ul>\n",
    "</div>"
   ]
  },
  {
   "cell_type": "markdown",
   "metadata": {},
   "source": [
    "<!--NAVIGATION-->\n",
    "< [Vorherige Lektion](02_Shell_Befehle_Dateisystem.ipynb) || [Verständnisfragen zu dieser Lektion](Verstaendnisfragen_zu_Lektion_03_Dateien_Verzeichnisoperationen.ipynb) || [Nächste Lektion](04_Shell_Pipelines_und_Filter.ipynb) >"
   ]
  }
 ],
 "metadata": {
  "kernelspec": {
   "display_name": "Calysto Bash",
   "language": "bash",
   "name": "calysto_bash"
  },
  "language_info": {
   "file_extension": ".sh",
   "help_links": [
    {
     "text": "MetaKernel Magics",
     "url": "https://metakernel.readthedocs.io/en/latest/source/README.html"
    }
   ],
   "mimetype": "text/x-sh",
   "name": "bash",
   "version": "0.2.1"
  }
 },
 "nbformat": 4,
 "nbformat_minor": 2
}
