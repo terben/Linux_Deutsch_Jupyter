{
 "cells": [
  {
   "cell_type": "markdown",
   "metadata": {},
   "source": [
    "# Operationen mit Dateien und Verzeichnissen unter `Unix`"
   ]
  },
  {
   "cell_type": "markdown",
   "metadata": {},
   "source": [
    "## Was behandeln wir in diesem Notebook / Lernziele"
   ]
  },
  {
   "cell_type": "markdown",
   "metadata": {},
   "source": [
    "<div class=\"alert alert-success\">\n",
    "<ul>\n",
    "    <li> Wie werden Dateien und Verzeichnisse erzeugt, kopiert und gelöscht.</li>\n",
    "    <li> Textdateien und Texteditoren unter <code>Unix</code>.</li>\n",
    "    <li> Was sind Wildcards und wie benutze ich sie.</li>\n",
    "</ul>\n",
    "\n",
    "<b> Zeitaufwand für diese Lektion: </b> \n",
    "<ul>\n",
    "    <li> Durcharbeiten des Textes: 30 min</li>\n",
    "    <li> Verständnisfragen: 20 min</li>\n",
    "</ul>\n",
    "</div>"
   ]
  },
  {
   "cell_type": "markdown",
   "metadata": {},
   "source": [
    "## Verzeichnisse erstellen"
   ]
  },
  {
   "cell_type": "markdown",
   "metadata": {},
   "source": [
    "Wir haben [in der letzten Lektion](02_Shell_Befehle_Dateisystem.ipynb) gesehen, wie wir die Verzeichnisstruktur und den Inhalt von Verzeichnissen erkunden können. Wie schauen uns nun an, wie wir Dateien und Verzeichnisse erzeugen können."
   ]
  },
  {
   "cell_type": "code",
   "execution_count": null,
   "metadata": {},
   "outputs": [],
   "source": [
    "pwd   # Hier sollten wir in Annikas Heimatverzeichnis sein\n",
    "cd Bachelor_Arbeit\n",
    "ls -F"
   ]
  },
  {
   "cell_type": "markdown",
   "metadata": {},
   "source": [
    "Annika möchte einige erste Gedanken zum Aufbau ihrer Bachelorarbeit aufschreiben. Sie legt hierzu mit dem Befehl `mkdir` (make directory) einen neuen Ordner `thesis` an."
   ]
  },
  {
   "cell_type": "code",
   "execution_count": null,
   "metadata": {},
   "outputs": [],
   "source": [
    "mkdir thesis  # Lege ein neues Verzeichnis 'thesis' im gegenwärtigen Verzeichnis an"
   ]
  },
  {
   "cell_type": "markdown",
   "metadata": {},
   "source": [
    "Beachten Sie, dass `thesis` innerhalb des gegenwärtigen Verzeichnisses angelegt wird, da es ein relativer Pfad ist! `mkdir` ist wieder ein *ruhiger* Befehl, der seine Arbeit ohne Rückmeldung erledigt. Wir können es aber mit `ls` überprüfen:"
   ]
  },
  {
   "cell_type": "code",
   "execution_count": null,
   "metadata": {},
   "outputs": [],
   "source": [
    "ls -F"
   ]
  },
  {
   "cell_type": "markdown",
   "metadata": {},
   "source": [
    "Wir sehen uns weiter unten an, wie man Verzeichnisse löschen kann."
   ]
  },
  {
   "cell_type": "markdown",
   "metadata": {},
   "source": [
    "<div class=\"alert alert-info\">\n",
    "    <b> Shell und Grafische Benutzeroberfläche</b>\n",
    "\n",
    "Es sei an dieser Stelle noch einmal darauf hingewiesen, dass es sich bei CLI und GUI um *zwei verschiedene Arten* handelt, um mit einem Computer zu interagieren. Die Dateien, Verzeichnisse und alle anderen Objekte, die mit einem CLI oder einem GUI bearbeitet werden, sind aber *die selben*! So würde es im gegebenem Fall für das erzeugte Verzeichnis <code>thesis</code> keinen Unterschied machen, wenn es mit einem grafischen Dateimanager erstellt worden wäre. Mit <code>mkdir</code> in der Shell erzeugte Verzeichnisse erscheinen in Ihrem Dateimanager. Ebenso können Sie z.B. auch mit <code>ls</code> alle Dateien/Verzeichnisse sehen, die Sie mit einem Dateimanager erstellen und bearbeiten.\n",
    "</div>"
   ]
  },
  {
   "cell_type": "markdown",
   "metadata": {},
   "source": [
    "<div class=\"alert alert-info\">\n",
    "    <b> (Gute) Namen für Dateien und Verzeichnisse</b>\n",
    "\n",
    "Für die Arbeit mit der Shell möchte ich Ihnen von Anfang an einige Grundregeln/Ratschläge für Datei- und Verzeichnisnamen an die Hand geben. Dies hilft Ihnen, vor allem als Anfänger, gewisse Probleme zu vermeiden:\n",
    "- Die meines Erachtens <b>wichtigste Regel</b>:Vermeiden Sie *Leerzeichen* in Datei- und Verzeichnisnamen! Sie haben bereits gesehen, dass die Shell Leerzeichen verwendet, um Kommandos, Optionen und Parameter voneinander abzutrennen. Sie können sich daher denken, dass Leerzeichen in Dateinamen hier zu Verwirrungen führen können. Die hiermit verbundenen möglichen Fehler sind sehr subtil und vor allem für Anfänger <b>sehr</b> schwer zu finden. Wenn Sie einen Worttrenner benötigen, so verwenden Sie den Underscore <code>\\_</code> oder den Bindestrich <code>-</code>. Aus diesem Grund heißt Annikas Verzeichnis auch <code>/home/annika/Bachelor_Arbeit</code> und nicht etwa <code>/home/annika/Bachelor Arbeit</code>. Auf die Techniken, die notwendig werden, um Datei- und Verzeichnisnamen mit Leerzeichen <i>korrekt</i> zu behandeln, werden wir in diesem Tutorial nicht eingehen.\n",
    "- Vermeiden Sie Dateinamen, die mit einem Bindestrich <code>-</code> beginnen. Der Bindestrich dient als Einleitung von Optionen und führt daher als erstes Zeichen bei Datei- und Verzeichnisnamen ebenfalls zu Problemen.\n",
    "- Vermeiden Sie deutsche Umlaute in Dateinamen. Vor allem an Universitäten ist es üblich, dass viele <code>Unix</code>-Recher mit englischen Spracheinstellungen konfiguriert und mit englischen Tastaturen ausgestattet sind. Hier haben Sie u.U. Probleme, an Ihre Dateien überhaupt heranzukommen!\n",
    "</div>"
   ]
  },
  {
   "cell_type": "markdown",
   "metadata": {},
   "source": [
    "## Einschub: Textdateien und Texteditoren"
   ]
  },
  {
   "cell_type": "markdown",
   "metadata": {},
   "source": [
    "Dateien werden unter `Unix` ähnlich erzeugt und bearbeitet wie unter `Microsoft Windows`. Aus Anwendersicht sind primäre Quellen für neue Dateien Programminstallationen, Ausgaben und Ergebnisse von Programmen (z.B. ein Dokument, das mit `Word` erstellt wurde oder ein Video, das mit der WebCam aufgenommen wurde) oder etwa ein Download aus dem Internet. Auch gängige Dateitypen aus der `Windows`-Welt (z.B. `PDF`-Dokumente oder `mp3` Audio-Dateien) finden sich so unter `Unix` wider."
   ]
  },
  {
   "cell_type": "markdown",
   "metadata": {},
   "source": [
    "Ein Dateityp spielt allerdings in der `Windows`-Welt aus Anwendersicht nur eine sehr untergeordnete Rolle - wenn überhaupt -, ist aber in der `Unix`-Welt zentral. Es handelt sich um *einfache Textdateien*. Dieser Dateityp kann die Zeichen der Tastatur im Klartext darstellen. Es enthält jedoch z.B. keinerlei Grafiken oder Fontformatierungen. Dieser Dateityp ist unter `Unix` allgegenwärtig (z.B. in sämtlichen Konfigurationsdateien, Programmquellcodes, $\\LaTeX$-Quellcode, wissenschaftliche Datentabellen) und jeder Anwender muss wissen, wie er Textdateien behandeln und bearbeiten kann. Dateien dieses Typs haben meist die Endung `.txt`. Ein Großteil der restlichen Lektionen dieses Tutorials wird sich damit befassen, Textdateien *effektiv* zu bearbeiten."
   ]
  },
  {
   "cell_type": "markdown",
   "metadata": {},
   "source": [
    "Um Textdateien manuell zu erstellen, benötigt man einen *Texteditor*. Wegen der zentralen Rolle der Textdateien unter `Unix` ist die Zahl der verfügbaren *hervorragenden* Texteditoren *sehr hoch*. Sehr weit verbreitete und *ausserordentlich mächtige* Editoren sind z.B. `vi` und `emacs`. Diese benötigen allerdings einige Einarbeitungszeit und sind daher bei Anfängern oft nicht erste Wahl. Sobald Sie Ihre ersten Schritte unter `Unix` gegangen sind, sollten Sie mehrere Editoren ausprobieren und denjenigen verwenden, der Ihnen am besten gefällt. In diesem Tutorial stellen wir Ihnen den Texteditor `nano` vor, da seine Bedienung sehr einfach ist."
   ]
  },
  {
   "cell_type": "markdown",
   "metadata": {},
   "source": [
    "`nano` ist eines der Programme, das SIe nicht hier in einer Notebook-Befehlszelle ausführen können, sondern in einem `Linux`-Terminal ausführen müssen - siehe [hier](00_Wie_bearbeite_ich_dieses_Tutorial.ipynb#Figur_Lektion_Terminal).\n",
    "Nachdem SIe den Editor im Terminal mit dem Befehl `nano` gestartet haben, verwandelt sich das Terminalfenster in den Editor-Modus. Sie können erst wieder neue Befehle im Terminal eingeben, sobald Sie den Editor verlassen. Wie erwartet können Sie Text eingeben und sich mit den Cursortasten im Text bewegen. Zum Schluss können Sie mit der Tastenkombination `Ctrl-o`\n",
    "(Control-Taste und o) einen Dateinamen auswählen, den Text darin speichern und den Editor mit `Ctrl-x` (Control und x) verlassen. Mögliche weitere Kommandos in Verbindung mit der Control-Taste während des Editiermodus befinden sich in der Fusszeile des Editors - siehe auch folgende Figur. "
   ]
  },
  {
   "cell_type": "markdown",
   "metadata": {},
   "source": [
    "<img src=\"figuren/Shell_Dateien_Verzeichnisoperationen_fig1.png\" style=\"height: 350px;\">"
   ]
  },
  {
   "cell_type": "markdown",
   "metadata": {},
   "source": [
    "## Dateien *bewegen* (umbenennen/verschieben)"
   ]
  },
  {
   "cell_type": "markdown",
   "metadata": {},
   "source": [
    "Annika schreibt innerhalb des gerade angelegten Ordners `thesis` mit `nano` einige Zeilen in eine Textdatei `draft.txt`"
   ]
  },
  {
   "cell_type": "code",
   "execution_count": null,
   "metadata": {},
   "outputs": [],
   "source": [
    "cd ~/Bachelor_Arbeit/thesis\n",
    "# nano   # ist hier nicht auführbar; wenn Sie wollen,\n",
    "         # schreiben Sie über das Terminal mit nano\n",
    "         # einige Zeilen in\n",
    "         # ~/Bachelor_Arbeit/thesis/draft.txt"
   ]
  },
  {
   "cell_type": "markdown",
   "metadata": {},
   "source": [
    "Der folgende Befehl `touch` erzeugt eine *leere* Datei, wenn sie noch nicht existiert. Wenn sie schon existiert, hat er keinen wesentlichen Effekt. Damit können Sie das Tutorial an dieser Stelle einfach weiterverfolgen, wenn Sie `nano` erst an späterer Stelle erkunden wollen."
   ]
  },
  {
   "cell_type": "code",
   "execution_count": null,
   "metadata": {},
   "outputs": [],
   "source": [
    "touch draft.txt  # erzeugt ggf. eine leere Datei draft.txt\n",
    "ls -ltr          # teste, dass die Datei draft.txt vorhanden\n",
    "                 # ist."
   ]
  },
  {
   "cell_type": "markdown",
   "metadata": {},
   "source": [
    "Nachdem Annika die Datei erstellt hat, beschliesst sie dieser einen neuen Namen zu geben. Hierzu dient der Befehl `mv` (move). Für Demonstrationszwecke führen wir den Befehl im Elternverzeichnis von `thesis` aus:"
   ]
  },
  {
   "cell_type": "code",
   "execution_count": null,
   "metadata": {},
   "outputs": [],
   "source": [
    "cd ..\n",
    "pwd   # Hier sollten Sie in Bachelor_Arbeit sein"
   ]
  },
  {
   "cell_type": "code",
   "execution_count": null,
   "metadata": {},
   "outputs": [],
   "source": [
    "mv thesis/draft.txt thesis/kapitel.txt\n",
    "    # benenne Datei draft.txt in kapitel.txt um"
   ]
  },
  {
   "cell_type": "markdown",
   "metadata": {},
   "source": [
    "Der erste Parameter von `mv` besagt hier *was* *bewegt* werden soll und der zweite *wohin*. Im vorliegenden Fall bewegen wir die Datei `thesis/draft.txt` nach `thesis/kapitel.txt`, was effektiv eine *Umbenennung* der Datei ist. Das Ergebnis können wir, wie gehabt, mit `ls` überprüfen."
   ]
  },
  {
   "cell_type": "code",
   "execution_count": null,
   "metadata": {},
   "outputs": [],
   "source": [
    "ls thesis"
   ]
  }
 ],
 "metadata": {
  "kernelspec": {
   "display_name": "Calysto Bash",
   "language": "bash",
   "name": "calysto_bash"
  },
  "language_info": {
   "file_extension": ".sh",
   "help_links": [
    {
     "text": "MetaKernel Magics",
     "url": "https://metakernel.readthedocs.io/en/latest/source/README.html"
    }
   ],
   "mimetype": "text/x-sh",
   "name": "bash",
   "version": "0.2.1"
  }
 },
 "nbformat": 4,
 "nbformat_minor": 2
}
