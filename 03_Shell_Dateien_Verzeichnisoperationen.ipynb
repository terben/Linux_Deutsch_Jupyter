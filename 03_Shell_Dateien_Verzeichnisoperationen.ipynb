{
 "cells": [
  {
   "cell_type": "markdown",
   "metadata": {},
   "source": [
    "# Operationen mit Dateien und Verzeichnissen unter `Unix`"
   ]
  },
  {
   "cell_type": "markdown",
   "metadata": {},
   "source": [
    "## Was behandeln wir in diesem Notebook / Lernziele"
   ]
  },
  {
   "cell_type": "markdown",
   "metadata": {},
   "source": [
    "<div class=\"alert alert-success\">\n",
    "<ul>\n",
    "    <li> Wie werden Dateien und Verzeichnisse erzeugt, kopiert und gelöscht.</li>\n",
    "    <li> Wie erkenne/erkunde ich den Inhalt einer Datei.</li>\n",
    "    <li> Was sind Wildcards und wie benutze ich sie.</li>\n",
    "</ul>\n",
    "</div>"
   ]
  },
  {
   "cell_type": "markdown",
   "metadata": {},
   "source": [
    "## Verzeichnisse erstellen"
   ]
  },
  {
   "cell_type": "markdown",
   "metadata": {},
   "source": [
    "Wir haben [in der letzten Lektion](02_Shell_Befehle_Dateisystem.ipynb) gesehen, wie wir die Verzeichnisstruktur und den Inhalt von Verzeichnissen erkunden können. Wie schauen uns nun an, wie wir Dateien und Verzeichnisse erzeugen können."
   ]
  },
  {
   "cell_type": "code",
   "execution_count": null,
   "metadata": {},
   "outputs": [],
   "source": [
    "pwd   # Hier sollten wir in Annikas Heimatverzeichnis sein\n",
    "cd Bachelor_Arbeit\n",
    "ls -F"
   ]
  },
  {
   "cell_type": "markdown",
   "metadata": {},
   "source": [
    "Annika möchte einige erste Gedanken zum Aufbau ihrer Bachelorarbeit aufschreiben. Sie legt hierzu mit dem Befehl `mkdir` (make directory) einen neuen Ordner `thesis` an."
   ]
  },
  {
   "cell_type": "code",
   "execution_count": null,
   "metadata": {},
   "outputs": [],
   "source": [
    "mkdir thesis  # Lege ein neues Verzeichnis 'thesis' im gegenwärtigen Verzeichnis an"
   ]
  },
  {
   "cell_type": "markdown",
   "metadata": {},
   "source": [
    "Beachten Sie, dass `thesis` innerhalb des gegenwärtigen Verzeichnisses angelegt wird, da es ein relativer Pfad ist! `mkdir` ist wieder ein *ruhiger* Befehl, der seine Arbeit ohne Rückmeldung erledigt. Wir können es aber mit `ls` überprüfen:"
   ]
  },
  {
   "cell_type": "code",
   "execution_count": null,
   "metadata": {},
   "outputs": [],
   "source": [
    "ls -F"
   ]
  },
  {
   "cell_type": "markdown",
   "metadata": {},
   "source": [
    "Wir sehen uns weiter unten an, wie man Verzeichnisse löschen kann."
   ]
  },
  {
   "cell_type": "markdown",
   "metadata": {},
   "source": [
    "<div class=\"alert alert-info\">\n",
    "    <b> Shell und Grafische Benutzeroberfläche</b>\n",
    "\n",
    "Es sei an dieser Stelle noch einmal darauf hingewiesen, dass es sich bei CLI und GUI um *zwei verschiedene Arten* handelt, um mit einem Computer zu interagieren. Die Dateien, Verzeichnisse und alle anderen Objekte, die mit einem CLI oder einem GUI bearbeitet werden, sind aber *die selben*! So würde es im gegebenem Fall für das erzeugte Verzeichnis <code>thesis</code> keinen Unterschied machen, wenn es mit einem grafischen Dateimanager erstellt worden wäre. Mit <code>mkdir</code> in der Shell erzeugte Verzeichnisse erscheinen in Ihrem Dateimanager. Ebenso können Sie z.B. auch mit <code>ls</code> alle Dateien/Verzeichnisse sehen, die Sie mit einem Dateimanager erstellen und bearbeiten.\n",
    "</div>"
   ]
  },
  {
   "cell_type": "markdown",
   "metadata": {},
   "source": [
    "<div class=\"alert alert-info\">\n",
    "    <b> (Gute) Namen für Dateien und Verzeichnisse</b>\n",
    "\n",
    "Für die Arbeit mit der Shell möchte ich Ihnen von Anfang an einige Grundregeln/Ratschläge für Datei- und Verzeichnisnamen an die Hand geben. Dies hilft Ihnen, vor allem als Anfänger, gewisse Probleme zu vermeiden:\n",
    "- Die meines Erachtens <b>wichtigste Regel</b>:Vermeiden Sie *Leerzeichen* in Datei- und Verzeichnisnamen! Sie haben bereits gesehen, dass die Shell Leerzeichen verwendet, um Kommandos, Optionen und Parameter voneinander abzutrennen. Sie können sich daher denken, dass Leerzeichen in Dateinamen hier zu Verwirrungen führen können. Die hiermit verbundenen möglichen Fehler sind sehr subtil und vor allem für Anfänger <b>sehr</b> schwer zu finden. Wenn Sie einen Worttrenner benötigen, so verwenden Sie den Underscore <code>(_)</code> oder den Bindestrich <code>-</code>. Aus diesem Grund heißt Annikas Verzeichnis auch <code>/home/annika/Bachelor_Arbeit</code> und nicht etwa <code>/home/annika/Bachelor Arbeit</code>. Auf die Techniken, die notwendig werden, um Datei- und Verzeichnisnamen mit Leerzeichen <i>korrekt</i> zu behandeln, werden wir in diesem Tutorial nicht eingehen.\n",
    "- Vermeiden Sie Dateinamen, die mit einem Bindestrich <code>-</code> beginnen. Der Bindestrich dient als Einleitung von Optionen und führt daher als erstes Zeichen bei Datei- und Verzeichnisnamen ebenfalls zu Problemen.\n",
    "- Vermeiden Sie deutsche Umlaute in Dateinamen. Vor allem an Universitäten ist es üblich, dass viele <code>Unix</code>-Recher mit englischen Spracheinstellungen konfiguriert und mit englischen Tastaturen ausgestattet sind. Hier haben Sie u.U. Probleme, an Ihre Dateien überhaupt heranzukommen!\n",
    "</div>"
   ]
  },
  {
   "cell_type": "markdown",
   "metadata": {},
   "source": [
    "<img src=\"figuren/Shell_Dateien_Verzeichnisoperationen_fig1.png\" style=\"height: 350px;\">"
   ]
  },
  {
   "cell_type": "code",
   "execution_count": null,
   "metadata": {},
   "outputs": [],
   "source": []
  }
 ],
 "metadata": {
  "kernelspec": {
   "display_name": "Calysto Bash",
   "language": "bash",
   "name": "calysto_bash"
  },
  "language_info": {
   "file_extension": ".sh",
   "help_links": [
    {
     "text": "MetaKernel Magics",
     "url": "https://metakernel.readthedocs.io/en/latest/source/README.html"
    }
   ],
   "mimetype": "text/x-sh",
   "name": "bash",
   "version": "0.2.1"
  }
 },
 "nbformat": 4,
 "nbformat_minor": 2
}
