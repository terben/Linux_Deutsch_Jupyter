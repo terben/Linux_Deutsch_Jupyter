{
 "cells": [
  {
   "cell_type": "markdown",
   "metadata": {},
   "source": [
    "# Verständnisfragen zu Lektion 05_for_Schleife"
   ]
  },
  {
   "cell_type": "markdown",
   "metadata": {},
   "source": [
    "## 1. Verständnisfrage"
   ]
  },
  {
   "cell_type": "markdown",
   "metadata": {},
   "source": [
    "Annika führt Tests mit einigen ihrer Daten durch. Ein `ls` in ihrem Testverzeichnis liefere\n",
    "```bash\n",
    "> ls\n",
    "695844p.txt  712705p.txt  729982p.txt\n",
    "```"
   ]
  },
  {
   "cell_type": "markdown",
   "metadata": {},
   "source": [
    "Was ist die Ausgabe folgender Schleifen (Schleifen 1-4), bzw. was enthält die Datei `dateien.txt` am Ende der Schleife (Schleifen 5 und 6). Bei den Schleifen 5 und 6 existiere vor der Schleifenausführung *keine* Datei mit Namen `dateien.txt`.\n",
    "\n",
    "1.\n",
    "```bash\n",
    "for DATEI in *p.txt\n",
    "do\n",
    "  ls *.txt\n",
    "done  \n",
    "```\n",
    "\n",
    "2.\n",
    "```bash\n",
    "for DATEI in *p.txt\n",
    "do\n",
    "  echo \"${DATEI}\"\n",
    "done  \n",
    "```\n",
    "\n",
    "3.\n",
    "```bash\n",
    "for DATEI in 7*\n",
    "do\n",
    "  echo \"${DATEI}\"\n",
    "done  \n",
    "```\n",
    "\n",
    "4.\n",
    "```bash\n",
    "for DATEI in *5*; do echo \"${DATEI}\"; done\n",
    "\n",
    "```\n",
    "\n",
    "5.\n",
    "```bash\n",
    "# An dieser Stelle existiere keine Datei mit Namen\n",
    "# dateien.txt!\n",
    "for DATEI in 695844p.txt  712705p.txt\n",
    "do\n",
    "  echo \"${DATEI}\" > dateien.txt \n",
    "done  \n",
    "```\n",
    "\n",
    "6.\n",
    "```bash\n",
    "# An dieser Stelle existiere keine Datei mit Namen\n",
    "# dateien.txt!\n",
    "for DATEI in 695844p.txt  712705p.txt\n",
    "do\n",
    "  echo \"${DATEI}\" >> dateien.txt \n",
    "done  \n",
    "```"
   ]
  },
  {
   "cell_type": "markdown",
   "metadata": {},
   "source": [
    "## 2. Verständnisfrage"
   ]
  },
  {
   "cell_type": "markdown",
   "metadata": {},
   "source": [
    "Was ist der Unterschied folgender zwei Schleifenkonstrukte und was ist das jeweilige Ergebnis? Vor Schleifenausführung existiere jeweils *keine* Datei mit Namen `datei.txt`.\n",
    "\n",
    "1.\n",
    "```bash\n",
    "for DATEI in Uranus.txt Saturn.txt\n",
    "do\n",
    "  echo \"${DATEI}\" >> datei.txt\n",
    "done  \n",
    "```\n",
    "\n",
    "2.\n",
    "```bash\n",
    "for DATEI in Uranus.txt Saturn.txt\n",
    "do\n",
    "  echo \"${DATEI} >> datei.txt\"\n",
    "done  \n",
    "```"
   ]
  },
  {
   "cell_type": "markdown",
   "metadata": {},
   "source": [
    "## 3. Verständnisfrage"
   ]
  },
  {
   "cell_type": "markdown",
   "metadata": {},
   "source": [
    "Beschreiben Sie in Worten, was das folgende Konstrukt mit einer verschachtelten `for`-Schleife macht:\n",
    "```bash\n",
    "for FELD in D1 D2 D3 D4\n",
    "do\n",
    "  for KONFIG in u g r i z\n",
    "  do\n",
    "    mkdir ${FELD}_${KONFIG}\n",
    "  done\n",
    "done\n",
    "```"
   ]
  },
  {
   "cell_type": "markdown",
   "metadata": {},
   "source": [
    "## 4. Verständnisfrage"
   ]
  },
  {
   "cell_type": "markdown",
   "metadata": {},
   "source": [
    "In der Lektion wollte Annika aus ihren Planetendaten jeweils den Mond mit der geringsten Umlaufzeit erhalten. Sie hat dazu innerhalb von `~/Seminar/Planeten_Daten` Befehle wie `sort -g -k 4 Jupiter.dat` ausgeführt.\n",
    "\n",
    "Um diese Aufgabe in Zukunft einfacher durchzuführen, möchte sie die Planetendaten jetzt alle durch eine Version ersetzen, die nach der vierten Spalte (Umlaufzeit des Mondes um den Planeten) absteigend sortiert sind. Geben Sie eine `for`-Schelife an, die diese Aufagbe erledigt.\n",
    "\n",
    "**Hinweis:** Schauen Sie sich noch einmel [diese Infobox](04_Shell_Pipelines_und_Filter.ipynb#Ausgabeumlenkung_Alert) an."
   ]
  },
  {
   "cell_type": "markdown",
   "metadata": {},
   "source": [
    "## 5. Verständnisfrage"
   ]
  },
  {
   "cell_type": "markdown",
   "metadata": {},
   "source": [
    "Annikas Betreuer hat den Verdacht, dass bei der Erstellung von Annikas Beobachtungensdaten etwas schiefgegangen ist. Wenn ja, so würde sich das jeweils auf die dritte Zeilen ihrer Daten auswirken.\n",
    "\n",
    "Annika möchte daher aus allen ihren Beobachtungen in `~/Bachelor_Arbeit/Beobachtungen/processed` die jeweils dritte Zeile entnehmen und alle diese Zeilen in die Datei `dritte_zeilen.txt` speichern. Auf diese Datei möchte sie das Programm `calc_stats.py` laufen lassen. Annika befinde sich in `~/Bachelor_Arbeit/Beobachtungen/processed`.\n",
    "\n",
    "Geben Sie eine `for`-Schleife an, die die Datei `dritte_zeilen.txt` erstellt."
   ]
  }
 ],
 "metadata": {
  "kernelspec": {
   "display_name": "Calysto Bash",
   "language": "bash",
   "name": "calysto_bash"
  },
  "language_info": {
   "file_extension": ".sh",
   "help_links": [
    {
     "text": "MetaKernel Magics",
     "url": "https://metakernel.readthedocs.io/en/latest/source/README.html"
    }
   ],
   "mimetype": "text/x-sh",
   "name": "bash",
   "version": "0.2.1"
  }
 },
 "nbformat": 4,
 "nbformat_minor": 2
}
