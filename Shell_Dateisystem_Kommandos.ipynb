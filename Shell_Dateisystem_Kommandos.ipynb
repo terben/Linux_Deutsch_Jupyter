{
 "cells": [
  {
   "cell_type": "markdown",
   "metadata": {},
   "source": [
    "# `Unix`-Kommandos und Das `Unix`-Dateisystem"
   ]
  },
  {
   "cell_type": "markdown",
   "metadata": {},
   "source": [
    "## Was behandeln wir in diesem Notebook / Lernziele"
   ]
  },
  {
   "cell_type": "markdown",
   "metadata": {},
   "source": [
    "<div class=\"alert alert-success\">\n",
    "<ul>\n",
    "    <li> Wie sind <code>Unix</code>-Kommandos aufgebaut.</li>\n",
    "    <li> Was sind Dateien und Verzeichnisse.</li>\n",
    "    <li> Was ist mein <code>Heimatverzeichnis</code>.</li>\n",
    "    <li> Was ist der <code>Unix</code>-Verzeichnisbaum. </li>\n",
    "    <li> Was sind <i>absolute</i> und <i>relative</i> Pfade. </li> \n",
    "    <li> Was ist die <code>tab</code>-completion. </li>        \n",
    "</ul>\n",
    "</div>"
   ]
  },
  {
   "cell_type": "markdown",
   "metadata": {},
   "source": [
    "## Der `Unix`-Verzeichnisbaum\n",
    "Derjenige Teil eines Betriebssystems, der für die Verwaltung von Dateien und Verzeichnissen verantwortlich ist, heißt *Dateisystem*. Es organisiert unsere Daten in *Dateien*, welche Informationen enthalten. Dateien bfinden sich in *Verzeichnissen* (oder Ordnern), welche Dateien oder weitere Ordner enthalten."
   ]
  },
  {
   "cell_type": "markdown",
   "metadata": {},
   "source": [
    "<div class=\"alert alert-info\">\n",
    "    <b> Shell und Verzeichnis</b>\n",
    "    \n",
    "Wenn Sie innerhalb einer Shell arbeiten, so befinden Sie sich <b>immer</b> in einem Verzeichnis. Wenn Sie eine neue Shell öffnen, ist dies ihr so-genanntes <i>Heimatverzeichnis</i> (oder Englisch <i>home-directory</i>), im dem Sie nach Belieben Dateien und Verzeichnisse anlegen, löschen und verwalten können.    \n",
    "</div>"
   ]
  },
  {
   "cell_type": "markdown",
   "metadata": {},
   "source": [
    "Fangen wir damit an, wie Sie herausfinden können, in welchem Verzeichnis Sie sich gerade befinden. Hierzu dient das Kommando `pwd` (present working directory). Kommandos lesen, schreiben oder modifizieren Dateien im gegenwärtigen Verzeichnis. Sie sollten sich also vor der Ausführung wichtiger Kommandos immer sicher sein, *wo* Sie sich gerade befinden. Im Zweifel benutzen Sie hierzu `pwd`."
   ]
  },
  {
   "cell_type": "code",
   "execution_count": 1,
   "metadata": {},
   "outputs": [
    {
     "name": "stdout",
     "output_type": "stream",
     "text": [
      "/home/thomas/git/Linux_Deutsch_Jupyter\r\n",
      "\n"
     ]
    }
   ],
   "source": [
    "pwd   # zeige gegenwärtiges Verzeichnis"
   ]
  },
  {
   "cell_type": "markdown",
   "metadata": {},
   "source": [
    "Es wird etwas wie `/home/annika` ausgegeben, was für das *Heimatverzeichnis* des Benutzers `annika` steht."
   ]
  },
  {
   "cell_type": "markdown",
   "metadata": {},
   "source": [
    "Um zu verstehen, was ein Heimatverzeichnis ist, schauen wir uns an, wie das `Unix`-Dateisystem generell aufgebaut ist. Wir betrachten hierzu einen kleinen Teil eines fiktives Dateisystem auf dem Rechner von Annika. Danach schauen wir uns einige Kommandos an, damit Sie das aktuelle Dateisystem auf Ihrem eigenen Rechner erkunden können.\n",
    "\n",
    "Annikas Dateisystem habe eine Struktur wie in folgender Figur:"
   ]
  },
  {
   "cell_type": "markdown",
   "metadata": {},
   "source": [
    "<img src=\"figuren/Shell_Dateisystem_Kommandos_fig1.png\" style=\"height: 200px;\">"
   ]
  },
  {
   "cell_type": "markdown",
   "metadata": {},
   "source": [
    "Die *Wurzel* eines `Unix`-Dateisystems ist das so-genannte *Root*-Verzeichnis. Es wird duch einen Slash `/` gekennzeichnet. Der *führende* Slash in `/home/annika` steht in der Tat für das Root-Verzeichnis.\n",
    "\n",
    "Innerhalb des Root-Verzeichnisses befinden sich andere Verzeichnisse, wie z.B. `bin` (es enthält ausführbare Programme wie `ls`), `dev` (kurz für: *devices*), `home` (hierunter sind die Heimatverzeichnisse aller Benutzer des Rechners) usw.\n",
    "\n",
    "Die Interpretation von `/home/annika` ist die folgende: Wir wissen, dass sich unser gegenwärtiges Verzeichnis `/home/annika` innerhalb des Ordners `home` befindet. Ähnlich befindet sich `home` innerhalb des Root-Verzechnisses `/`. Man sagt auch, dass `home` ein *Unterverzeichnis* des Root-Verzeichnisses und `annika` ein Unterverzeichnis von `home` ist."
   ]
  },
  {
   "cell_type": "markdown",
   "metadata": {},
   "source": [
    "<img src=\"figuren/Shell_Dateisystem_Kommandos_fig2.png\" style=\"height: 200px;\">"
   ]
  },
  {
   "cell_type": "markdown",
   "metadata": {},
   "source": [
    "<img src=\"figuren/Shell_Dateisystem_Kommandos_fig3.png\" style=\"height: 200px;\">"
   ]
  },
  {
   "cell_type": "code",
   "execution_count": null,
   "metadata": {},
   "outputs": [],
   "source": []
  }
 ],
 "metadata": {
  "kernelspec": {
   "display_name": "Calysto Bash",
   "language": "bash",
   "name": "calysto_bash"
  },
  "language_info": {
   "file_extension": ".sh",
   "help_links": [
    {
     "text": "MetaKernel Magics",
     "url": "https://metakernel.readthedocs.io/en/latest/source/README.html"
    }
   ],
   "mimetype": "text/x-sh",
   "name": "bash",
   "version": "0.2.1"
  }
 },
 "nbformat": 4,
 "nbformat_minor": 2
}
