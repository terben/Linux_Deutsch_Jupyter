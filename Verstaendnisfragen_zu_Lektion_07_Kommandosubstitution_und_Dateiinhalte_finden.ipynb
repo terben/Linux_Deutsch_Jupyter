{
 "cells": [
  {
   "cell_type": "markdown",
   "metadata": {},
   "source": [
    "# Verständnisfragen zu Lektion 06_Shell-Skripte"
   ]
  },
  {
   "cell_type": "markdown",
   "metadata": {},
   "source": [
    "## 1. Verständnisfrage"
   ]
  },
  {
   "cell_type": "markdown",
   "metadata": {},
   "source": [
    "Annika befindet sich in Ihrem Heimatverzeichnis. Erklären Sie, was der folgende Befehl macht:\n",
    "```bash\n",
    "wc -l $(find . -type f -name '*txt') | grep -v 'total' | sort -g\n",
    "```"
   ]
  },
  {
   "cell_type": "markdown",
   "metadata": {},
   "source": [
    "## 2. Verständnisfrage"
   ]
  },
  {
   "cell_type": "markdown",
   "metadata": {},
   "source": [
    "Annika befindet sich nach wie vor in ihrem Heimatverzeichnis. Was ist der Unterschied der beiden folgenden Befehle, bzw. was leisten sie:\n",
    "\n",
    "1.\n",
    "```bash\n",
    "find . -type f -name '*txt' | grep 'Merkur'\n",
    "```\n",
    "\n",
    "2.\n",
    "```bash\n",
    "grep 'Merkur' $(find . -type f -name '*txt')\n",
    "```\n"
   ]
  },
  {
   "cell_type": "markdown",
   "metadata": {},
   "source": [
    "## 3. Verständnisfrage"
   ]
  },
  {
   "cell_type": "markdown",
   "metadata": {},
   "source": [
    "Annika SKRIPT mit verfuegbar.txt"
   ]
  },
  {
   "cell_type": "code",
   "execution_count": null,
   "metadata": {},
   "outputs": [],
   "source": []
  }
 ],
 "metadata": {
  "kernelspec": {
   "display_name": "Calysto Bash",
   "language": "bash",
   "name": "calysto_bash"
  },
  "language_info": {
   "file_extension": ".sh",
   "help_links": [
    {
     "text": "MetaKernel Magics",
     "url": "https://metakernel.readthedocs.io/en/latest/source/README.html"
    }
   ],
   "mimetype": "text/x-sh",
   "name": "bash",
   "version": "0.2.1"
  }
 },
 "nbformat": 4,
 "nbformat_minor": 2
}
