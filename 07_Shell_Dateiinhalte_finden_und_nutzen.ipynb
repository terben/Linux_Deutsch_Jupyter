{
 "cells": [
  {
   "cell_type": "markdown",
   "metadata": {},
   "source": [
    "<!--NAVIGATION-->\n",
    "< [Vorherige Lektion](06_Shell_Shell-Skripte.ipynb) || [Verständnisfragen zu dieser Lektion](Verstaendnisfragen_zu_Lektion_07_Dateiinhalte_finden_und_nutzen.ipynb) |"
   ]
  },
  {
   "cell_type": "markdown",
   "metadata": {},
   "source": [
    "# Dateiinhalte finden und nutzen"
   ]
  },
  {
   "cell_type": "markdown",
   "metadata": {},
   "source": [
    "## Was behandeln wir in diesem Notebook / Lernziele"
   ]
  },
  {
   "cell_type": "markdown",
   "metadata": {},
   "source": [
    "<div class=\"alert alert-success\">\n",
    "    \n",
    "<b>Fragestellung:</b>\n",
    "<ul>\n",
    "    <li> Wie kann ich existierende <code>Unix</code>-Programme kombinieren, um neue und komplexere Aufgaben zu erledigen?</li>\n",
    "</ul>\n",
    "\n",
    "<b>Aspekte der Fragestellung:</b>\n",
    "<ul>    \n",
    "    <li> Was ist die <i>Kommandosubstitution</i> und wie benutze ich sie?</li>\n",
    "    <li> Wie finde ich bestimmte Dateiinhalte in Textdateien?</li>\n",
    "</ul>\n",
    "\n",
    "<b> Zeitaufwand für diese Lektion: </b> \n",
    "<ul>\n",
    "    <li> Durcharbeiten des Textes: 30 min</li>\n",
    "    <li> Verständnisfragen: 20 min</li>\n",
    "</ul>\n",
    "</div>"
   ]
  },
  {
   "cell_type": "markdown",
   "metadata": {},
   "source": [
    "In dieser letzten Lektion wollen wir uns mit der Kommandosubstitution noch eine Technik anschauen, um sehr allgemeine, benutzerdefinierte Listen für Befehle und Schleifenkonstrukte zu kreieren. Die Kommandosubstitution erweitert und verallgemeinert die Wildcards, welche es uns auf einfach Weise erlauben, große Dateilisten zu erstellen und in Kommandos zu verwenden.\n",
    "\n",
    "Der `grep`-Filter, welcher Dateien nach bestimmten Inhalten filtern kann, schließt diese Lektion und das Tutorial ab."
   ]
  },
  {
   "cell_type": "markdown",
   "metadata": {},
   "source": [
    "## Die Kommandosubstitution"
   ]
  },
  {
   "cell_type": "markdown",
   "metadata": {},
   "source": [
    "Bisher haben wir längere Listen aus Dateien für Kommandos oder Shellskripte effektiv mit Wildcards erstellt. Die Wildcards `*` und `?` erlauben es uns, mit sehr wenig Tippaufwand lange Dateilisten nach Mustern in den Dateinamen zu erstellen. Oft möchte man jedoch Dateilisten (oder Listen anderer Objekte) nach völlig anderen Kriterien zusammenstellen, z.B aufgrund des Dateiinhalts. Eine Möglichkeit, solche Listen ähnlich effizient wie mit Wildcards zu erzeugen, ist die so genannte *Kommandosubstitution*.\n",
    "Sehen wir uns ein konkretes Beispiel an, in dem Annika die Integrität ihrer Beobachtungen intensiver testen möchte: "
   ]
  },
  {
   "cell_type": "code",
   "execution_count": null,
   "metadata": {},
   "outputs": [],
   "source": [
    "cd ~/Bachelor_Arbeit/Beobachtungen\n",
    "ls -F"
   ]
  },
  {
   "cell_type": "markdown",
   "metadata": {},
   "source": [
    "Nachdem Annika, wie in [Lektion 5](05_Shell_for_Schleife.ipynb#Statistik_Beobachtungen), Statistiken aller Beobachtungen berechnet hat, möchte sie weitergehende Tests durchführen. Sie weiß, dass jede der ungefähr 500 Dateien in den Ordnern `raw` und `processed` genau 100 Zeilen enthalten sollte. Sie testet zunächst diese Annahme für die Daten im Verzeichnis `raw`:"
   ]
  },
  {
   "cell_type": "code",
   "execution_count": null,
   "metadata": {},
   "outputs": [],
   "source": [
    "# Teste, ob alle Dateien in Verzeichnis raw genau 100 Zeilen haben\n",
    "wc -l raw/*.txt"
   ]
  },
  {
   "cell_type": "markdown",
   "metadata": {},
   "source": [
    "Das sieht beim schnellen Überfliegen gut aus. Für einen kompakteren Überblick bei den vielen Dateien schreibt Annika aber noch eine erweiterte Pipeline, die nur anzeigt, wieviele Dateien es mit wievielen Zeilen gibt:"
   ]
  },
  {
   "cell_type": "code",
   "execution_count": null,
   "metadata": {},
   "outputs": [],
   "source": [
    "# Teste, ob alle Dateien in Verzeichnis raw genau 100 Zeilen haben\n",
    "# Folgende Pipeline zeigt, wie oft jeder Eintrag der ersten Spalte des Befehls\n",
    "# wc -l raw/*.txt (die Anzahl der Zeilen in den Dateien) vorkommt.\n",
    "# Im Idealfall sollte nur die Zahl 100 in dieser ersten Spalte\n",
    "# vorhanden sein!\n",
    "wc -l raw/*.txt | awk '{print $1}' | sort | uniq -c"
   ]
  },
  {
   "cell_type": "markdown",
   "metadata": {},
   "source": [
    "Die Ausgabe bedeutet, dass es 481 Dateien mit je 100 Zeilen gibt. Die zweite Zeile der Ausgabe, `1 48100`, kommt von der Gesamtbilanz, die `wc` bei der Eingabe mehrerer Dateien zusätzlich angibt. Nun dasselbe für den `processed`-Ordner:"
   ]
  },
  {
   "cell_type": "code",
   "execution_count": null,
   "metadata": {},
   "outputs": [],
   "source": [
    "wc -l processed/*.txt | awk '{print $1}' | sort | uniq -c"
   ]
  },
  {
   "cell_type": "markdown",
   "metadata": {},
   "source": [
    "Hier gibt es offenbar ein Problem und wir haben Dateien mit 100, 95 und 90 Zeilen. Annika möchte zunächst die Dateien mit 95 Zeilen genauer untersuchen und sie hierzu in einen separaten Ordner kopieren. Sie erstellt sich zunächst eine Liste der fraglichen Dateien:"
   ]
  },
  {
   "cell_type": "code",
   "execution_count": null,
   "metadata": {},
   "outputs": [],
   "source": [
    "# liste alle Dateien in processed, die genau 95 Zeilen haben\n",
    "wc -l processed/*.txt | awk '($1 == 95) {print $2}'"
   ]
  },
  {
   "cell_type": "markdown",
   "metadata": {},
   "source": [
    "Mit der Syntax `awk '($1 == 95) {print $2}'` listet `awk` die zweite Spalte aller Einträge, die in der ersten Spalte einen numerischen Wert von 95 haben. Diese Liste sichern wir in einer Datei:"
   ]
  },
  {
   "cell_type": "code",
   "execution_count": null,
   "metadata": {},
   "outputs": [],
   "source": [
    "wc -l processed/*.txt | awk '($1 == 95) {print $2}' > problem_95.txt\n",
    "cat problem_95.txt"
   ]
  },
  {
   "cell_type": "markdown",
   "metadata": {},
   "source": [
    "Nun kopieren wir die in `problem_95.txt` gelisteten Dateien in ein Verzeichnis `problemfaelle`:"
   ]
  },
  {
   "cell_type": "code",
   "execution_count": null,
   "metadata": {},
   "outputs": [],
   "source": [
    "mkdir problemfaelle"
   ]
  },
  {
   "cell_type": "code",
   "execution_count": null,
   "metadata": {},
   "outputs": [],
   "source": [
    "cp $(cat problem_95.txt) problemfaelle\n",
    "ls problemfaelle"
   ]
  },
  {
   "cell_type": "markdown",
   "metadata": {},
   "source": [
    "Bei dem `cp $(cat problem_95.txt) problemfaelle`-Befehl passiert folgendens: Sieht die Shell in einem Befehl das Konstrukt `$(...)`, so wird zunächst der darin eingebettete Befehl ausgeführt. Danach wird das gesamte Konstrukt `$(...)` durch *die Ausgabe dieses Befehls ersetzt* und die Abarbeitung der Kommandozeile fortgesetzt.\n",
    "\n",
    "Im vorliegenden Fall liefert `cat problem_95.txt` die Ausgabe `processed/695833p.txt ... processed/774957p.txt`. Hiermit wird für den Befehl `cp $(cat problem_95.txt) problemfaelle` nach der *Kommandosubstitution* effektiv der Befehl `cp processed/695833p.txt ... processed/774957p.txt problemfaelle` ausgeführt. Dies ist genau die gewünschte Kopieroperation.\n",
    "\n",
    "Die Kommandosubstitution verhält sich damit ähnlich der Behandlung eines Befehls mit den Wildcards `*` und `?`. Somit können wir hier effektiv *eigene* Wildcards mit *beliebigen* Befehlen erzeugen!\n",
    "\n",
    "Genau, wie wir z.B. in [Lektion 5](05_Shell_for_Schleife.ipynb#for-statistik) Wildcards für Listen in `for`-Schleifen verwendet haben, können wir dies auch mit der Kommandosubstitution tun. Annika könnte daher folgenden Befehl verwenden, um Statistiken nur von den problematischen Daten zu errechnen:"
   ]
  },
  {
   "cell_type": "code",
   "execution_count": null,
   "metadata": {},
   "outputs": [],
   "source": [
    "# Berechne Statistik für problematische Felder,\n",
    "# die in 'problem_95.txt' gelistet sind:\n",
    "for BEOBACHTUNG in $(cat problem_95.txt)\n",
    "do\n",
    "  echo \"Ich arbeite an ${BEOBACHTUNG}\"\n",
    "  python3 calc_stats.py ${BEOBACHTUNG}\n",
    "done"
   ]
  },
  {
   "cell_type": "markdown",
   "metadata": {},
   "source": [
    "## Der `grep`-Filter (Dateiinhalte in Textdateien finden)"
   ]
  },
  {
   "cell_type": "markdown",
   "metadata": {},
   "source": [
    "Wir wollen uns in diesem Abschnitt noch einen weiteren, sehr wichtigen, Filter ansehen, der sehr häufig in Pipelines und für *eigene Wildcards* mit der Kommandosubtitution verwendet wird. Es handelt sich um den `grep`-Befehl. Genau wie der Begriff *`Google`-Suche* (oder *googeln*) inzwischen ein Synonym für *Webseiten mit bestimmten Inhalten finden* ist, ist `grep` unter `Unix`-Nutzern ein Synonym für *bestimmte Inhalte in Textdateien finden*. Der Name des Befehls ist eine Abkürzung für  *global/regular expression/print*. Die Folge `grep` wurde erstmals in den 1970er Jahren in dem Texteditor `vi` benutzt, um gewissen Textstellen zu finden. Hieraus hat sich später ein eigenständiges `Unix`-Programm entwickelt.\n",
    "\n",
    "Wir behandeln hier lediglich die einfachste Form des Kommandos, die aber für den Anfang für Sie vollkommen ausreichend ist."
   ]
  },
  {
   "cell_type": "markdown",
   "metadata": {},
   "source": [
    "Wir hatten uns bereits in [Lektion 4](04_Shell_Pipelines_und_Filter.ipynb#Annika_Test_Beobachtungen) mit der Datei `Beobachtungs_Logdatei.txt` beschäftigt, welche Informationen über Annikas Beobachtungen enthält:\n",
    "<a id='Logdatei'></a>"
   ]
  },
  {
   "cell_type": "code",
   "execution_count": null,
   "metadata": {},
   "outputs": [],
   "source": [
    "cd ~/Bachelor_Arbeit/Beobachtungen\n",
    "head Beobachtungs_Logdatei.txt"
   ]
  },
  {
   "cell_type": "markdown",
   "metadata": {},
   "source": [
    "Die für uns wichtigen Spalten sind hier die erste mit der Identifikation der Beobachtung, die zweite Spalte aus Beobachtungsfeld (`D1-D4`) und Beobachtungskonfiguration (`u`, `g`, `r`, `i` oder `z`) und die vierte Spalte, die den Beobachtungszeitpunkt (die Anzahl der Tage nach einem bestimmten Referenzdatum) enthält.\n",
    "\n",
    "Annika möchte Statistiken für Beobachtungen bestimmter Tage berechnen und daher gerne Daten nach der vierten Spalte der Datei `Beobachtungs_Logdatei.txt` selektieren. Ihr Betreuer empfiehlt ihr ein spezielles Augenmerk auf die Tage 1664 und 1673 zu werfen. Mit folgendem Befehl wendet sich Annika zunächst dem Tag 1664 zu:"
   ]
  },
  {
   "cell_type": "code",
   "execution_count": null,
   "metadata": {},
   "outputs": [],
   "source": [
    "grep \"1664\" Beobachtungs_Logdatei.txt"
   ]
  },
  {
   "cell_type": "markdown",
   "metadata": {},
   "source": [
    "Der Befehl `grep \"1664\" Beobachtungs_Logdatei.txt` zeigt alle Zeilen der Datei `Beobachtungs_Logdatei.txt`, welche die Zeichenkette `1664` enthalten und er demonstriert bereits die grundlegende Funktion des Programms `grep`. Das Kommando zeigt einfach alle Zeilen, die eine entsprechende Zeichenkette enthalten. Die Zeichenkette selber sollte in doppelte Anführungsstriche gesetzt sein.\n",
    "\n",
    "Hiermit kann Annika mit bereits bekannten Techniken ihre benötigten Statistiken für Beobachtungen des Tages 1664 berechnen:    "
   ]
  },
  {
   "cell_type": "code",
   "execution_count": null,
   "metadata": {},
   "outputs": [],
   "source": [
    "# selektiere alle Beobachtungen des Tages 1664 und\n",
    "# speichere sie in eine Datei daten_1664.txt\n",
    "grep \"1664\" Beobachtungs_Logdatei.txt | awk '{print $1}' > daten_1664.txt\n",
    "cat daten_1664.txt"
   ]
  },
  {
   "cell_type": "code",
   "execution_count": null,
   "metadata": {},
   "outputs": [],
   "source": [
    "# Berechne jetzt die notwendigen Statistiken\n",
    "for BEOBACHTUNG in $(cat daten_1664.txt)\n",
    "do\n",
    "  echo \"Ich arbeite an ${BEOBACHTUNG}\"\n",
    "  # Man beachte, dass wir im folgenden Befehl\n",
    "  # das Verzeichnis 'processed' und die Dateiendung\n",
    "  # '.txt' explizit angeben müssen, da die Datei\n",
    "  # daten_1664.txt nur die Beobachtungs-IDs enthält!\n",
    "  python3 calc_stats.py processed/${BEOBACHTUNG}.txt\n",
    "done"
   ]
  },
  {
   "cell_type": "markdown",
   "metadata": {},
   "source": [
    "Annika wendet sich nun dem Tag 1673 zu und besorgt sich zunächst, wie oben, eine Liste der entsprechenden Daten:"
   ]
  },
  {
   "cell_type": "code",
   "execution_count": null,
   "metadata": {},
   "outputs": [],
   "source": [
    "grep \"1673\" Beobachtungs_Logdatei.txt"
   ]
  },
  {
   "cell_type": "markdown",
   "metadata": {},
   "source": [
    "Hier scheint `grep` ein verkehrtes Ergebnis zu liefern, da auch ein Datum des Tages `1926` in der Liste vorhanden ist. Das Problem ist, dass die Zeichenkette `1673` in der Beobachtungs-ID `741673p` enthalten ist und die Zeile damit von `grep` korrekt, aber für Annika unerwünscht, selektiert wird. Dieser Effekt kann mit folgenden Befehl beseitigt werden:"
   ]
  },
  {
   "cell_type": "code",
   "execution_count": null,
   "metadata": {},
   "outputs": [],
   "source": [
    "grep -w \"1673\" Beobachtungs_Logdatei.txt"
   ]
  },
  {
   "cell_type": "markdown",
   "metadata": {},
   "source": [
    "Die `grep`-Option `-w (word)` selektiert nur Zeilen, welche die Argumentzeichenkette als *eigenes Wort* enthalten und sie nicht nur in einer längeren Zeichenkette eingebettet enthalten. Hiermit kann Annika den Tag `1673` analog zu Tag `1664` analysieren: "
   ]
  },
  {
   "cell_type": "code",
   "execution_count": null,
   "metadata": {},
   "outputs": [],
   "source": [
    "grep -w \"1673\" Beobachtungs_Logdatei.txt | awk '{print $1}' > daten_1673.txt\n",
    "for BEOBACHTUNG in $(cat daten_1673.txt)\n",
    "do\n",
    "  echo \"Ich arbeite an ${BEOBACHTUNG}\"\n",
    "  python3 calc_stats.py processed/${BEOBACHTUNG}.txt\n",
    "done"
   ]
  },
  {
   "cell_type": "markdown",
   "metadata": {},
   "source": [
    "Eine sehr häufig benutzte weitere Option für `grep` ist `-v (vice versa)`, welche alle Zeilen einer Datei listet, die die Argumentzeichenkette *nicht* enthalten. Hiermit können wir sehr einfach ein etwas lästiges Problem lösen, das uns weiter oben in dieser Lektion begegnet ist:"
   ]
  },
  {
   "cell_type": "code",
   "execution_count": null,
   "metadata": {},
   "outputs": [],
   "source": [
    "# Liste die Zeilen mehrerer Dateien, hier\n",
    "# daten_1664.txt und daten_1673.txt\n",
    "wc -l daten_1664.txt daten_1673.txt"
   ]
  },
  {
   "cell_type": "markdown",
   "metadata": {},
   "source": [
    "Das Kommando `wc` gibt bei mehreren übergebenen Dateien immer eine Gesamtbilanz aller Dateien zum Schluss. Diese ist nicht immer erwünscht. Mit einem `grep`-Befehl ist dies einfach zu beheben:"
   ]
  },
  {
   "cell_type": "code",
   "execution_count": null,
   "metadata": {},
   "outputs": [],
   "source": [
    "# Entferne die Gesamtvilanz von 'wc',\n",
    "# indem aus der Ausgabe die Zeile mit 'total'\n",
    "# entfernt wird:\n",
    "wc -l daten_1664.txt daten_1673.txt | grep -v \"total\""
   ]
  },
  {
   "cell_type": "markdown",
   "metadata": {},
   "source": [
    "Erkennungsmerkmal der Gesamtbilanz in der Ausgabe des `wc`-Befehls ist das Wort `total`. Der Filter `grep -v \"total\"` entfernt genau diese Zeile.\n",
    "\n",
    "`grep` besitzt noch *recht viele* weitere Optionen, mit denen die Suche verfeinert und beeinflusst werden kann. In dieser ersten Einführung wollen wir es aber bei `-v` und `-w` bewenden lassen."
   ]
  },
  {
   "cell_type": "markdown",
   "metadata": {},
   "source": [
    "# Nachwort"
   ]
  },
  {
   "cell_type": "markdown",
   "metadata": {},
   "source": [
    "Das Ziel dieser Lektionen war es, Ihnen die Benutzung des `Unix`-Kommandozeileninterfaces näherzubringen. Die Shell stammt aus den Anfangszeiten der Entwicklung von Computern und ist heute deutlich älter als die allermeisten ihrer Nutzer. Der Grund, dass sie trotz ausgefeilter und einfach zu nutzender GUIs vor allem im Bereich der Naturwissenschaft immer noch benutzt wird, ist ihre hohe Effizienz bei der Automatisierung von Prozessen. \n",
    "\n",
    "Nutzer einer Shell können interaktiv Programme nutzen und nach ausgiebigen Tests Prozesse ohne manuelle Interaktion auf beliebige Datenmengen anwenden und Ergebnisse später ohne großen Aufwand reproduzieren. Während grafische Benutzeroberflächen in der interaktiven Nutzung eines Computers der Shell heute oft überlegen ist, haben diese der Shell im Bereich der Automatisierung sehr wenig entgegenzusetzen. Für die Automatisierung von Datenanalysen und die Reproduzierbarkeit von Ergebnissen ist die Shell nach wie vor die produktivste Umgebung, die bisher erfunden wurde.\n",
    "\n",
    "Das Hauptziel dieses Tutorials war es, Ihnen die allerwichtigsten Kenntnisse für grundlegende Arbeiten mit der `Unix`-Shell zu vermitteln. Das Hauptaugenmerk lag auf den Techniken und Ideen für eine effiziente Automatisierung von Analyseprozessen. Wir haben andere wichtige `Unix`-Themen, die mit diesem Ziel nicht unmittelbar in Verbindung stehen (z.B. das *`Unix`-Rechtesystem*, *Datentransfer und Remote-Arbeiten auf Fremdrechnern*, *Prozesskontrolle* oder konkrete `Unix`-Programme) hier nicht behandelt. Mit dem erworbenem Wissen werden Sie aber keine Probleme haben, sich diese Kenntnisse bei Bedarf aus dem Internet oder aus der Fachliteratur anzueignen und bei ihrer Arbeit mit der `Unix`-Shell anzuwenden."
   ]
  },
  {
   "cell_type": "markdown",
   "metadata": {},
   "source": [
    "<div class=\"alert alert-success\">\n",
    "<b>Zum Mitnehmen</b>\n",
    "<ul>\n",
    "    <li> Die Kommandosubtitution <code>&#36;(kommando)</code> ersetzt ihr Vorkommen durch die Ausgabe von <code>kommando</code>. Dadurch ist es möglich, die Ausgabe eines Programms als Argumente eines anderen zu verwenden.</li>\n",
    "    <li> <code>grep \"zeichenkette\"</code> zeigt Zeilen von Textdateien, welche <code>zeichenkette</code> enthalten.</li>\n",
    "</ul>\n",
    "</div>"
   ]
  },
  {
   "cell_type": "markdown",
   "metadata": {},
   "source": [
    "<!--NAVIGATION-->\n",
    "< [Vorherige Lektion](06_Shell_Shell-Skripte.ipynb) || [Verständnisfragen zu dieser Lektion](Verstaendnisfragen_zu_Lektion_07_Dateiinhalte_finden_und_nutzen.ipynb) |"
   ]
  }
 ],
 "metadata": {
  "kernelspec": {
   "display_name": "Calysto Bash",
   "language": "bash",
   "name": "calysto_bash"
  },
  "language_info": {
   "file_extension": ".sh",
   "help_links": [
    {
     "text": "MetaKernel Magics",
     "url": "https://metakernel.readthedocs.io/en/latest/source/README.html"
    }
   ],
   "mimetype": "text/x-sh",
   "name": "bash",
   "version": "0.2.1"
  }
 },
 "nbformat": 4,
 "nbformat_minor": 2
}
